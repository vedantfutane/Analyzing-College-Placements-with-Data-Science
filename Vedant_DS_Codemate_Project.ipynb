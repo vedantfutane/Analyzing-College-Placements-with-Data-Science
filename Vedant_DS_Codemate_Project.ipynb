{
  "cells": [
    {
      "cell_type": "markdown",
      "metadata": {
        "id": "DYGyzDTfBIlL"
      },
      "source": [
        "#Analyzing College Placements with Data Science"
      ]
    },
    {
      "cell_type": "markdown",
      "metadata": {
        "id": "xllsc1xJBUcs"
      },
      "source": [
        "*   **pandas**: Data manipulation and analysis library in Python.\n",
        "*   **matplotlib.pyplot**: Plotting library in Python for creating visualizations.\n",
        "*   **numpy**: Fundamental package for scientific computing with Python, providing support for arrays and mathematical functions.\n",
        "*   **seaborn**: Data visualization library based on Matplotlib, offering higher-level interface for creating statistical graphics.\n",
        "*   **plotly.express**: Part of Plotly library, providing expressive interface for interactive visualizations.\n",
        "*   **warnings**: Python module to handle warning messages during code execution."
      ]
    },
    {
      "cell_type": "code",
      "execution_count": 26,
      "metadata": {
        "id": "2NmJg46CgCM2"
      },
      "outputs": [],
      "source": [
        "import pandas as pd\n",
        "import matplotlib.pyplot as plt\n",
        "import numpy as numpy\n",
        "import seaborn as sns\n",
        "import plotly.express as px\n",
        "import warnings\n",
        "warnings.filterwarnings(\"ignore\")"
      ]
    },
    {
      "cell_type": "markdown",
      "metadata": {
        "id": "Kd6St_GuDJNE"
      },
      "source": [
        "DataFrame named **df** is created by reading data from a CSV file named 'collegePlace.csv' using the **pd.read_csv()** function from the Pandas library."
      ]
    },
    {
      "cell_type": "code",
      "execution_count": 27,
      "metadata": {
        "id": "0LG5UoIO6-hx"
      },
      "outputs": [],
      "source": [
        "df=pd.read_csv('collegePlace.csv')"
      ]
    },
    {
      "cell_type": "code",
      "execution_count": 119,
      "metadata": {
        "colab": {
          "base_uri": "https://localhost:8080/",
          "height": 423
        },
        "id": "1rN70Gkr8Nyw",
        "outputId": "ee64f935-1e9f-4286-a1fc-5c2feda8cdda"
      },
      "outputs": [
        {
          "output_type": "execute_result",
          "data": {
            "text/plain": [
              "      Age  Gender  Stream  Internships  CGPA  Hostel  HistoryOfBacklogs  \\\n",
              "0      22     1.0     3.0            1     8       1                  1   \n",
              "1      21     0.0     1.0            0     7       1                  1   \n",
              "2      22     0.0     4.0            1     6       0                  0   \n",
              "3      21     1.0     4.0            0     8       0                  1   \n",
              "4      22     1.0     5.0            0     8       1                  0   \n",
              "...   ...     ...     ...          ...   ...     ...                ...   \n",
              "2946   23     1.0     4.0            1     7       1                  1   \n",
              "2952   23     1.0     5.0            0     8       1                  0   \n",
              "2954   23     0.0     1.0            1     8       0                  1   \n",
              "2958   23     1.0     1.0            0     6       0                  1   \n",
              "2960   23     1.0     5.0            1     7       1                  0   \n",
              "\n",
              "      PlacedOrNot  \n",
              "0               1  \n",
              "1               1  \n",
              "2               1  \n",
              "3               1  \n",
              "4               1  \n",
              "...           ...  \n",
              "2946            0  \n",
              "2952            1  \n",
              "2954            1  \n",
              "2958            0  \n",
              "2960            0  \n",
              "\n",
              "[841 rows x 8 columns]"
            ],
            "text/html": [
              "\n",
              "\n",
              "  <div id=\"df-3da19381-bf36-406d-9665-fc5533dc43b2\">\n",
              "    <div class=\"colab-df-container\">\n",
              "      <div>\n",
              "<style scoped>\n",
              "    .dataframe tbody tr th:only-of-type {\n",
              "        vertical-align: middle;\n",
              "    }\n",
              "\n",
              "    .dataframe tbody tr th {\n",
              "        vertical-align: top;\n",
              "    }\n",
              "\n",
              "    .dataframe thead th {\n",
              "        text-align: right;\n",
              "    }\n",
              "</style>\n",
              "<table border=\"1\" class=\"dataframe\">\n",
              "  <thead>\n",
              "    <tr style=\"text-align: right;\">\n",
              "      <th></th>\n",
              "      <th>Age</th>\n",
              "      <th>Gender</th>\n",
              "      <th>Stream</th>\n",
              "      <th>Internships</th>\n",
              "      <th>CGPA</th>\n",
              "      <th>Hostel</th>\n",
              "      <th>HistoryOfBacklogs</th>\n",
              "      <th>PlacedOrNot</th>\n",
              "    </tr>\n",
              "  </thead>\n",
              "  <tbody>\n",
              "    <tr>\n",
              "      <th>0</th>\n",
              "      <td>22</td>\n",
              "      <td>1.0</td>\n",
              "      <td>3.0</td>\n",
              "      <td>1</td>\n",
              "      <td>8</td>\n",
              "      <td>1</td>\n",
              "      <td>1</td>\n",
              "      <td>1</td>\n",
              "    </tr>\n",
              "    <tr>\n",
              "      <th>1</th>\n",
              "      <td>21</td>\n",
              "      <td>0.0</td>\n",
              "      <td>1.0</td>\n",
              "      <td>0</td>\n",
              "      <td>7</td>\n",
              "      <td>1</td>\n",
              "      <td>1</td>\n",
              "      <td>1</td>\n",
              "    </tr>\n",
              "    <tr>\n",
              "      <th>2</th>\n",
              "      <td>22</td>\n",
              "      <td>0.0</td>\n",
              "      <td>4.0</td>\n",
              "      <td>1</td>\n",
              "      <td>6</td>\n",
              "      <td>0</td>\n",
              "      <td>0</td>\n",
              "      <td>1</td>\n",
              "    </tr>\n",
              "    <tr>\n",
              "      <th>3</th>\n",
              "      <td>21</td>\n",
              "      <td>1.0</td>\n",
              "      <td>4.0</td>\n",
              "      <td>0</td>\n",
              "      <td>8</td>\n",
              "      <td>0</td>\n",
              "      <td>1</td>\n",
              "      <td>1</td>\n",
              "    </tr>\n",
              "    <tr>\n",
              "      <th>4</th>\n",
              "      <td>22</td>\n",
              "      <td>1.0</td>\n",
              "      <td>5.0</td>\n",
              "      <td>0</td>\n",
              "      <td>8</td>\n",
              "      <td>1</td>\n",
              "      <td>0</td>\n",
              "      <td>1</td>\n",
              "    </tr>\n",
              "    <tr>\n",
              "      <th>...</th>\n",
              "      <td>...</td>\n",
              "      <td>...</td>\n",
              "      <td>...</td>\n",
              "      <td>...</td>\n",
              "      <td>...</td>\n",
              "      <td>...</td>\n",
              "      <td>...</td>\n",
              "      <td>...</td>\n",
              "    </tr>\n",
              "    <tr>\n",
              "      <th>2946</th>\n",
              "      <td>23</td>\n",
              "      <td>1.0</td>\n",
              "      <td>4.0</td>\n",
              "      <td>1</td>\n",
              "      <td>7</td>\n",
              "      <td>1</td>\n",
              "      <td>1</td>\n",
              "      <td>0</td>\n",
              "    </tr>\n",
              "    <tr>\n",
              "      <th>2952</th>\n",
              "      <td>23</td>\n",
              "      <td>1.0</td>\n",
              "      <td>5.0</td>\n",
              "      <td>0</td>\n",
              "      <td>8</td>\n",
              "      <td>1</td>\n",
              "      <td>0</td>\n",
              "      <td>1</td>\n",
              "    </tr>\n",
              "    <tr>\n",
              "      <th>2954</th>\n",
              "      <td>23</td>\n",
              "      <td>0.0</td>\n",
              "      <td>1.0</td>\n",
              "      <td>1</td>\n",
              "      <td>8</td>\n",
              "      <td>0</td>\n",
              "      <td>1</td>\n",
              "      <td>1</td>\n",
              "    </tr>\n",
              "    <tr>\n",
              "      <th>2958</th>\n",
              "      <td>23</td>\n",
              "      <td>1.0</td>\n",
              "      <td>1.0</td>\n",
              "      <td>0</td>\n",
              "      <td>6</td>\n",
              "      <td>0</td>\n",
              "      <td>1</td>\n",
              "      <td>0</td>\n",
              "    </tr>\n",
              "    <tr>\n",
              "      <th>2960</th>\n",
              "      <td>23</td>\n",
              "      <td>1.0</td>\n",
              "      <td>5.0</td>\n",
              "      <td>1</td>\n",
              "      <td>7</td>\n",
              "      <td>1</td>\n",
              "      <td>0</td>\n",
              "      <td>0</td>\n",
              "    </tr>\n",
              "  </tbody>\n",
              "</table>\n",
              "<p>841 rows × 8 columns</p>\n",
              "</div>\n",
              "      <button class=\"colab-df-convert\" onclick=\"convertToInteractive('df-3da19381-bf36-406d-9665-fc5533dc43b2')\"\n",
              "              title=\"Convert this dataframe to an interactive table.\"\n",
              "              style=\"display:none;\">\n",
              "\n",
              "  <svg xmlns=\"http://www.w3.org/2000/svg\" height=\"24px\"viewBox=\"0 0 24 24\"\n",
              "       width=\"24px\">\n",
              "    <path d=\"M0 0h24v24H0V0z\" fill=\"none\"/>\n",
              "    <path d=\"M18.56 5.44l.94 2.06.94-2.06 2.06-.94-2.06-.94-.94-2.06-.94 2.06-2.06.94zm-11 1L8.5 8.5l.94-2.06 2.06-.94-2.06-.94L8.5 2.5l-.94 2.06-2.06.94zm10 10l.94 2.06.94-2.06 2.06-.94-2.06-.94-.94-2.06-.94 2.06-2.06.94z\"/><path d=\"M17.41 7.96l-1.37-1.37c-.4-.4-.92-.59-1.43-.59-.52 0-1.04.2-1.43.59L10.3 9.45l-7.72 7.72c-.78.78-.78 2.05 0 2.83L4 21.41c.39.39.9.59 1.41.59.51 0 1.02-.2 1.41-.59l7.78-7.78 2.81-2.81c.8-.78.8-2.07 0-2.86zM5.41 20L4 18.59l7.72-7.72 1.47 1.35L5.41 20z\"/>\n",
              "  </svg>\n",
              "      </button>\n",
              "\n",
              "\n",
              "\n",
              "    <div id=\"df-16e577b8-628e-43d3-a369-ef43b8b6bf93\">\n",
              "      <button class=\"colab-df-quickchart\" onclick=\"quickchart('df-16e577b8-628e-43d3-a369-ef43b8b6bf93')\"\n",
              "              title=\"Suggest charts.\"\n",
              "              style=\"display:none;\">\n",
              "\n",
              "<svg xmlns=\"http://www.w3.org/2000/svg\" height=\"24px\"viewBox=\"0 0 24 24\"\n",
              "     width=\"24px\">\n",
              "    <g>\n",
              "        <path d=\"M19 3H5c-1.1 0-2 .9-2 2v14c0 1.1.9 2 2 2h14c1.1 0 2-.9 2-2V5c0-1.1-.9-2-2-2zM9 17H7v-7h2v7zm4 0h-2V7h2v10zm4 0h-2v-4h2v4z\"/>\n",
              "    </g>\n",
              "</svg>\n",
              "      </button>\n",
              "    </div>\n",
              "\n",
              "<style>\n",
              "  .colab-df-quickchart {\n",
              "    background-color: #E8F0FE;\n",
              "    border: none;\n",
              "    border-radius: 50%;\n",
              "    cursor: pointer;\n",
              "    display: none;\n",
              "    fill: #1967D2;\n",
              "    height: 32px;\n",
              "    padding: 0 0 0 0;\n",
              "    width: 32px;\n",
              "  }\n",
              "\n",
              "  .colab-df-quickchart:hover {\n",
              "    background-color: #E2EBFA;\n",
              "    box-shadow: 0px 1px 2px rgba(60, 64, 67, 0.3), 0px 1px 3px 1px rgba(60, 64, 67, 0.15);\n",
              "    fill: #174EA6;\n",
              "  }\n",
              "\n",
              "  [theme=dark] .colab-df-quickchart {\n",
              "    background-color: #3B4455;\n",
              "    fill: #D2E3FC;\n",
              "  }\n",
              "\n",
              "  [theme=dark] .colab-df-quickchart:hover {\n",
              "    background-color: #434B5C;\n",
              "    box-shadow: 0px 1px 3px 1px rgba(0, 0, 0, 0.15);\n",
              "    filter: drop-shadow(0px 1px 2px rgba(0, 0, 0, 0.3));\n",
              "    fill: #FFFFFF;\n",
              "  }\n",
              "</style>\n",
              "\n",
              "    <script>\n",
              "      async function quickchart(key) {\n",
              "        const containerElement = document.querySelector('#' + key);\n",
              "        const charts = await google.colab.kernel.invokeFunction(\n",
              "            'suggestCharts', [key], {});\n",
              "      }\n",
              "    </script>\n",
              "\n",
              "      <script>\n",
              "\n",
              "function displayQuickchartButton(domScope) {\n",
              "  let quickchartButtonEl =\n",
              "    domScope.querySelector('#df-16e577b8-628e-43d3-a369-ef43b8b6bf93 button.colab-df-quickchart');\n",
              "  quickchartButtonEl.style.display =\n",
              "    google.colab.kernel.accessAllowed ? 'block' : 'none';\n",
              "}\n",
              "\n",
              "        displayQuickchartButton(document);\n",
              "      </script>\n",
              "      <style>\n",
              "    .colab-df-container {\n",
              "      display:flex;\n",
              "      flex-wrap:wrap;\n",
              "      gap: 12px;\n",
              "    }\n",
              "\n",
              "    .colab-df-convert {\n",
              "      background-color: #E8F0FE;\n",
              "      border: none;\n",
              "      border-radius: 50%;\n",
              "      cursor: pointer;\n",
              "      display: none;\n",
              "      fill: #1967D2;\n",
              "      height: 32px;\n",
              "      padding: 0 0 0 0;\n",
              "      width: 32px;\n",
              "    }\n",
              "\n",
              "    .colab-df-convert:hover {\n",
              "      background-color: #E2EBFA;\n",
              "      box-shadow: 0px 1px 2px rgba(60, 64, 67, 0.3), 0px 1px 3px 1px rgba(60, 64, 67, 0.15);\n",
              "      fill: #174EA6;\n",
              "    }\n",
              "\n",
              "    [theme=dark] .colab-df-convert {\n",
              "      background-color: #3B4455;\n",
              "      fill: #D2E3FC;\n",
              "    }\n",
              "\n",
              "    [theme=dark] .colab-df-convert:hover {\n",
              "      background-color: #434B5C;\n",
              "      box-shadow: 0px 1px 3px 1px rgba(0, 0, 0, 0.15);\n",
              "      filter: drop-shadow(0px 1px 2px rgba(0, 0, 0, 0.3));\n",
              "      fill: #FFFFFF;\n",
              "    }\n",
              "  </style>\n",
              "\n",
              "      <script>\n",
              "        const buttonEl =\n",
              "          document.querySelector('#df-3da19381-bf36-406d-9665-fc5533dc43b2 button.colab-df-convert');\n",
              "        buttonEl.style.display =\n",
              "          google.colab.kernel.accessAllowed ? 'block' : 'none';\n",
              "\n",
              "        async function convertToInteractive(key) {\n",
              "          const element = document.querySelector('#df-3da19381-bf36-406d-9665-fc5533dc43b2');\n",
              "          const dataTable =\n",
              "            await google.colab.kernel.invokeFunction('convertToInteractive',\n",
              "                                                     [key], {});\n",
              "          if (!dataTable) return;\n",
              "\n",
              "          const docLinkHtml = 'Like what you see? Visit the ' +\n",
              "            '<a target=\"_blank\" href=https://colab.research.google.com/notebooks/data_table.ipynb>data table notebook</a>'\n",
              "            + ' to learn more about interactive tables.';\n",
              "          element.innerHTML = '';\n",
              "          dataTable['output_type'] = 'display_data';\n",
              "          await google.colab.output.renderOutput(dataTable, element);\n",
              "          const docLink = document.createElement('div');\n",
              "          docLink.innerHTML = docLinkHtml;\n",
              "          element.appendChild(docLink);\n",
              "        }\n",
              "      </script>\n",
              "    </div>\n",
              "  </div>\n"
            ]
          },
          "metadata": {},
          "execution_count": 119
        }
      ],
      "source": [
        "df                  #This will show you the DataFrame's structure and data, including the rows and columns"
      ]
    },
    {
      "cell_type": "markdown",
      "source": [
        "**df.info()**: This will show you the DataFrame's structure and data, including the rows and columns"
      ],
      "metadata": {
        "id": "pTYj4xsEJfJ0"
      }
    },
    {
      "cell_type": "code",
      "execution_count": 29,
      "metadata": {
        "colab": {
          "base_uri": "https://localhost:8080/",
          "height": 0
        },
        "id": "NWNs2__S8CtX",
        "outputId": "63572be2-a191-4968-c789-c38d5e5659f5"
      },
      "outputs": [
        {
          "output_type": "stream",
          "name": "stdout",
          "text": [
            "<class 'pandas.core.frame.DataFrame'>\n",
            "RangeIndex: 2966 entries, 0 to 2965\n",
            "Data columns (total 8 columns):\n",
            " #   Column             Non-Null Count  Dtype \n",
            "---  ------             --------------  ----- \n",
            " 0   Age                2966 non-null   int64 \n",
            " 1   Gender             2966 non-null   object\n",
            " 2   Stream             2966 non-null   object\n",
            " 3   Internships        2966 non-null   int64 \n",
            " 4   CGPA               2966 non-null   int64 \n",
            " 5   Hostel             2966 non-null   int64 \n",
            " 6   HistoryOfBacklogs  2966 non-null   int64 \n",
            " 7   PlacedOrNot        2966 non-null   int64 \n",
            "dtypes: int64(6), object(2)\n",
            "memory usage: 185.5+ KB\n"
          ]
        }
      ],
      "source": [
        "df.info()"
      ]
    },
    {
      "cell_type": "markdown",
      "source": [
        " **df.describe()**: This will print the statistical summary, including count, mean, standard deviation, minimum, quartiles, and maximum values, for each numerical column in the DataFrame df."
      ],
      "metadata": {
        "id": "5YtuxN22Jzwm"
      }
    },
    {
      "cell_type": "code",
      "execution_count": 30,
      "metadata": {
        "colab": {
          "base_uri": "https://localhost:8080/",
          "height": 335
        },
        "id": "_AR9ynjf9aR_",
        "outputId": "84ff2756-c7d4-431c-e7ae-b1c5dd0e2f43"
      },
      "outputs": [
        {
          "output_type": "stream",
          "name": "stdout",
          "text": [
            "Description of dataset::\n",
            "\n"
          ]
        },
        {
          "output_type": "execute_result",
          "data": {
            "text/plain": [
              "               Age  Internships         CGPA       Hostel  HistoryOfBacklogs  \\\n",
              "count  2966.000000  2966.000000  2966.000000  2966.000000        2966.000000   \n",
              "mean     21.485840     0.703641     7.073837     0.269049           0.192178   \n",
              "std       1.324933     0.740197     0.967748     0.443540           0.394079   \n",
              "min      19.000000     0.000000     5.000000     0.000000           0.000000   \n",
              "25%      21.000000     0.000000     6.000000     0.000000           0.000000   \n",
              "50%      21.000000     1.000000     7.000000     0.000000           0.000000   \n",
              "75%      22.000000     1.000000     8.000000     1.000000           0.000000   \n",
              "max      30.000000     3.000000     9.000000     1.000000           1.000000   \n",
              "\n",
              "       PlacedOrNot  \n",
              "count  2966.000000  \n",
              "mean      0.552596  \n",
              "std       0.497310  \n",
              "min       0.000000  \n",
              "25%       0.000000  \n",
              "50%       1.000000  \n",
              "75%       1.000000  \n",
              "max       1.000000  "
            ],
            "text/html": [
              "\n",
              "\n",
              "  <div id=\"df-d03cbd96-f58c-4a68-ae15-1c740db08d1a\">\n",
              "    <div class=\"colab-df-container\">\n",
              "      <div>\n",
              "<style scoped>\n",
              "    .dataframe tbody tr th:only-of-type {\n",
              "        vertical-align: middle;\n",
              "    }\n",
              "\n",
              "    .dataframe tbody tr th {\n",
              "        vertical-align: top;\n",
              "    }\n",
              "\n",
              "    .dataframe thead th {\n",
              "        text-align: right;\n",
              "    }\n",
              "</style>\n",
              "<table border=\"1\" class=\"dataframe\">\n",
              "  <thead>\n",
              "    <tr style=\"text-align: right;\">\n",
              "      <th></th>\n",
              "      <th>Age</th>\n",
              "      <th>Internships</th>\n",
              "      <th>CGPA</th>\n",
              "      <th>Hostel</th>\n",
              "      <th>HistoryOfBacklogs</th>\n",
              "      <th>PlacedOrNot</th>\n",
              "    </tr>\n",
              "  </thead>\n",
              "  <tbody>\n",
              "    <tr>\n",
              "      <th>count</th>\n",
              "      <td>2966.000000</td>\n",
              "      <td>2966.000000</td>\n",
              "      <td>2966.000000</td>\n",
              "      <td>2966.000000</td>\n",
              "      <td>2966.000000</td>\n",
              "      <td>2966.000000</td>\n",
              "    </tr>\n",
              "    <tr>\n",
              "      <th>mean</th>\n",
              "      <td>21.485840</td>\n",
              "      <td>0.703641</td>\n",
              "      <td>7.073837</td>\n",
              "      <td>0.269049</td>\n",
              "      <td>0.192178</td>\n",
              "      <td>0.552596</td>\n",
              "    </tr>\n",
              "    <tr>\n",
              "      <th>std</th>\n",
              "      <td>1.324933</td>\n",
              "      <td>0.740197</td>\n",
              "      <td>0.967748</td>\n",
              "      <td>0.443540</td>\n",
              "      <td>0.394079</td>\n",
              "      <td>0.497310</td>\n",
              "    </tr>\n",
              "    <tr>\n",
              "      <th>min</th>\n",
              "      <td>19.000000</td>\n",
              "      <td>0.000000</td>\n",
              "      <td>5.000000</td>\n",
              "      <td>0.000000</td>\n",
              "      <td>0.000000</td>\n",
              "      <td>0.000000</td>\n",
              "    </tr>\n",
              "    <tr>\n",
              "      <th>25%</th>\n",
              "      <td>21.000000</td>\n",
              "      <td>0.000000</td>\n",
              "      <td>6.000000</td>\n",
              "      <td>0.000000</td>\n",
              "      <td>0.000000</td>\n",
              "      <td>0.000000</td>\n",
              "    </tr>\n",
              "    <tr>\n",
              "      <th>50%</th>\n",
              "      <td>21.000000</td>\n",
              "      <td>1.000000</td>\n",
              "      <td>7.000000</td>\n",
              "      <td>0.000000</td>\n",
              "      <td>0.000000</td>\n",
              "      <td>1.000000</td>\n",
              "    </tr>\n",
              "    <tr>\n",
              "      <th>75%</th>\n",
              "      <td>22.000000</td>\n",
              "      <td>1.000000</td>\n",
              "      <td>8.000000</td>\n",
              "      <td>1.000000</td>\n",
              "      <td>0.000000</td>\n",
              "      <td>1.000000</td>\n",
              "    </tr>\n",
              "    <tr>\n",
              "      <th>max</th>\n",
              "      <td>30.000000</td>\n",
              "      <td>3.000000</td>\n",
              "      <td>9.000000</td>\n",
              "      <td>1.000000</td>\n",
              "      <td>1.000000</td>\n",
              "      <td>1.000000</td>\n",
              "    </tr>\n",
              "  </tbody>\n",
              "</table>\n",
              "</div>\n",
              "      <button class=\"colab-df-convert\" onclick=\"convertToInteractive('df-d03cbd96-f58c-4a68-ae15-1c740db08d1a')\"\n",
              "              title=\"Convert this dataframe to an interactive table.\"\n",
              "              style=\"display:none;\">\n",
              "\n",
              "  <svg xmlns=\"http://www.w3.org/2000/svg\" height=\"24px\"viewBox=\"0 0 24 24\"\n",
              "       width=\"24px\">\n",
              "    <path d=\"M0 0h24v24H0V0z\" fill=\"none\"/>\n",
              "    <path d=\"M18.56 5.44l.94 2.06.94-2.06 2.06-.94-2.06-.94-.94-2.06-.94 2.06-2.06.94zm-11 1L8.5 8.5l.94-2.06 2.06-.94-2.06-.94L8.5 2.5l-.94 2.06-2.06.94zm10 10l.94 2.06.94-2.06 2.06-.94-2.06-.94-.94-2.06-.94 2.06-2.06.94z\"/><path d=\"M17.41 7.96l-1.37-1.37c-.4-.4-.92-.59-1.43-.59-.52 0-1.04.2-1.43.59L10.3 9.45l-7.72 7.72c-.78.78-.78 2.05 0 2.83L4 21.41c.39.39.9.59 1.41.59.51 0 1.02-.2 1.41-.59l7.78-7.78 2.81-2.81c.8-.78.8-2.07 0-2.86zM5.41 20L4 18.59l7.72-7.72 1.47 1.35L5.41 20z\"/>\n",
              "  </svg>\n",
              "      </button>\n",
              "\n",
              "\n",
              "\n",
              "    <div id=\"df-5162aa8a-fccb-497d-85eb-e7c1f7ec4367\">\n",
              "      <button class=\"colab-df-quickchart\" onclick=\"quickchart('df-5162aa8a-fccb-497d-85eb-e7c1f7ec4367')\"\n",
              "              title=\"Suggest charts.\"\n",
              "              style=\"display:none;\">\n",
              "\n",
              "<svg xmlns=\"http://www.w3.org/2000/svg\" height=\"24px\"viewBox=\"0 0 24 24\"\n",
              "     width=\"24px\">\n",
              "    <g>\n",
              "        <path d=\"M19 3H5c-1.1 0-2 .9-2 2v14c0 1.1.9 2 2 2h14c1.1 0 2-.9 2-2V5c0-1.1-.9-2-2-2zM9 17H7v-7h2v7zm4 0h-2V7h2v10zm4 0h-2v-4h2v4z\"/>\n",
              "    </g>\n",
              "</svg>\n",
              "      </button>\n",
              "    </div>\n",
              "\n",
              "<style>\n",
              "  .colab-df-quickchart {\n",
              "    background-color: #E8F0FE;\n",
              "    border: none;\n",
              "    border-radius: 50%;\n",
              "    cursor: pointer;\n",
              "    display: none;\n",
              "    fill: #1967D2;\n",
              "    height: 32px;\n",
              "    padding: 0 0 0 0;\n",
              "    width: 32px;\n",
              "  }\n",
              "\n",
              "  .colab-df-quickchart:hover {\n",
              "    background-color: #E2EBFA;\n",
              "    box-shadow: 0px 1px 2px rgba(60, 64, 67, 0.3), 0px 1px 3px 1px rgba(60, 64, 67, 0.15);\n",
              "    fill: #174EA6;\n",
              "  }\n",
              "\n",
              "  [theme=dark] .colab-df-quickchart {\n",
              "    background-color: #3B4455;\n",
              "    fill: #D2E3FC;\n",
              "  }\n",
              "\n",
              "  [theme=dark] .colab-df-quickchart:hover {\n",
              "    background-color: #434B5C;\n",
              "    box-shadow: 0px 1px 3px 1px rgba(0, 0, 0, 0.15);\n",
              "    filter: drop-shadow(0px 1px 2px rgba(0, 0, 0, 0.3));\n",
              "    fill: #FFFFFF;\n",
              "  }\n",
              "</style>\n",
              "\n",
              "    <script>\n",
              "      async function quickchart(key) {\n",
              "        const containerElement = document.querySelector('#' + key);\n",
              "        const charts = await google.colab.kernel.invokeFunction(\n",
              "            'suggestCharts', [key], {});\n",
              "      }\n",
              "    </script>\n",
              "\n",
              "      <script>\n",
              "\n",
              "function displayQuickchartButton(domScope) {\n",
              "  let quickchartButtonEl =\n",
              "    domScope.querySelector('#df-5162aa8a-fccb-497d-85eb-e7c1f7ec4367 button.colab-df-quickchart');\n",
              "  quickchartButtonEl.style.display =\n",
              "    google.colab.kernel.accessAllowed ? 'block' : 'none';\n",
              "}\n",
              "\n",
              "        displayQuickchartButton(document);\n",
              "      </script>\n",
              "      <style>\n",
              "    .colab-df-container {\n",
              "      display:flex;\n",
              "      flex-wrap:wrap;\n",
              "      gap: 12px;\n",
              "    }\n",
              "\n",
              "    .colab-df-convert {\n",
              "      background-color: #E8F0FE;\n",
              "      border: none;\n",
              "      border-radius: 50%;\n",
              "      cursor: pointer;\n",
              "      display: none;\n",
              "      fill: #1967D2;\n",
              "      height: 32px;\n",
              "      padding: 0 0 0 0;\n",
              "      width: 32px;\n",
              "    }\n",
              "\n",
              "    .colab-df-convert:hover {\n",
              "      background-color: #E2EBFA;\n",
              "      box-shadow: 0px 1px 2px rgba(60, 64, 67, 0.3), 0px 1px 3px 1px rgba(60, 64, 67, 0.15);\n",
              "      fill: #174EA6;\n",
              "    }\n",
              "\n",
              "    [theme=dark] .colab-df-convert {\n",
              "      background-color: #3B4455;\n",
              "      fill: #D2E3FC;\n",
              "    }\n",
              "\n",
              "    [theme=dark] .colab-df-convert:hover {\n",
              "      background-color: #434B5C;\n",
              "      box-shadow: 0px 1px 3px 1px rgba(0, 0, 0, 0.15);\n",
              "      filter: drop-shadow(0px 1px 2px rgba(0, 0, 0, 0.3));\n",
              "      fill: #FFFFFF;\n",
              "    }\n",
              "  </style>\n",
              "\n",
              "      <script>\n",
              "        const buttonEl =\n",
              "          document.querySelector('#df-d03cbd96-f58c-4a68-ae15-1c740db08d1a button.colab-df-convert');\n",
              "        buttonEl.style.display =\n",
              "          google.colab.kernel.accessAllowed ? 'block' : 'none';\n",
              "\n",
              "        async function convertToInteractive(key) {\n",
              "          const element = document.querySelector('#df-d03cbd96-f58c-4a68-ae15-1c740db08d1a');\n",
              "          const dataTable =\n",
              "            await google.colab.kernel.invokeFunction('convertToInteractive',\n",
              "                                                     [key], {});\n",
              "          if (!dataTable) return;\n",
              "\n",
              "          const docLinkHtml = 'Like what you see? Visit the ' +\n",
              "            '<a target=\"_blank\" href=https://colab.research.google.com/notebooks/data_table.ipynb>data table notebook</a>'\n",
              "            + ' to learn more about interactive tables.';\n",
              "          element.innerHTML = '';\n",
              "          dataTable['output_type'] = 'display_data';\n",
              "          await google.colab.output.renderOutput(dataTable, element);\n",
              "          const docLink = document.createElement('div');\n",
              "          docLink.innerHTML = docLinkHtml;\n",
              "          element.appendChild(docLink);\n",
              "        }\n",
              "      </script>\n",
              "    </div>\n",
              "  </div>\n"
            ]
          },
          "metadata": {},
          "execution_count": 30
        }
      ],
      "source": [
        "print('Description of dataset::\\n')\n",
        "df.describe()"
      ]
    },
    {
      "cell_type": "markdown",
      "source": [
        "**df.dtypes** returns a Pandas Series that displays the data types of each column in the DataFrame **df**"
      ],
      "metadata": {
        "id": "E2kxNweCKja1"
      }
    },
    {
      "cell_type": "code",
      "execution_count": 31,
      "metadata": {
        "colab": {
          "base_uri": "https://localhost:8080/",
          "height": 366
        },
        "id": "ZIlRwUAv9fBh",
        "outputId": "4e743647-7db2-4ae6-e259-6718df7a04b8"
      },
      "outputs": [
        {
          "output_type": "stream",
          "name": "stdout",
          "text": [
            "Datatype in Each Column\n",
            "\n"
          ]
        },
        {
          "output_type": "execute_result",
          "data": {
            "text/plain": [
              "                  Datatype\n",
              "Column Name               \n",
              "Age                  int64\n",
              "Gender              object\n",
              "Stream              object\n",
              "Internships          int64\n",
              "CGPA                 int64\n",
              "Hostel               int64\n",
              "HistoryOfBacklogs    int64\n",
              "PlacedOrNot          int64"
            ],
            "text/html": [
              "\n",
              "\n",
              "  <div id=\"df-5988ec8e-4653-4f51-b6e8-2f3acdea25da\">\n",
              "    <div class=\"colab-df-container\">\n",
              "      <div>\n",
              "<style scoped>\n",
              "    .dataframe tbody tr th:only-of-type {\n",
              "        vertical-align: middle;\n",
              "    }\n",
              "\n",
              "    .dataframe tbody tr th {\n",
              "        vertical-align: top;\n",
              "    }\n",
              "\n",
              "    .dataframe thead th {\n",
              "        text-align: right;\n",
              "    }\n",
              "</style>\n",
              "<table border=\"1\" class=\"dataframe\">\n",
              "  <thead>\n",
              "    <tr style=\"text-align: right;\">\n",
              "      <th></th>\n",
              "      <th>Datatype</th>\n",
              "    </tr>\n",
              "    <tr>\n",
              "      <th>Column Name</th>\n",
              "      <th></th>\n",
              "    </tr>\n",
              "  </thead>\n",
              "  <tbody>\n",
              "    <tr>\n",
              "      <th>Age</th>\n",
              "      <td>int64</td>\n",
              "    </tr>\n",
              "    <tr>\n",
              "      <th>Gender</th>\n",
              "      <td>object</td>\n",
              "    </tr>\n",
              "    <tr>\n",
              "      <th>Stream</th>\n",
              "      <td>object</td>\n",
              "    </tr>\n",
              "    <tr>\n",
              "      <th>Internships</th>\n",
              "      <td>int64</td>\n",
              "    </tr>\n",
              "    <tr>\n",
              "      <th>CGPA</th>\n",
              "      <td>int64</td>\n",
              "    </tr>\n",
              "    <tr>\n",
              "      <th>Hostel</th>\n",
              "      <td>int64</td>\n",
              "    </tr>\n",
              "    <tr>\n",
              "      <th>HistoryOfBacklogs</th>\n",
              "      <td>int64</td>\n",
              "    </tr>\n",
              "    <tr>\n",
              "      <th>PlacedOrNot</th>\n",
              "      <td>int64</td>\n",
              "    </tr>\n",
              "  </tbody>\n",
              "</table>\n",
              "</div>\n",
              "      <button class=\"colab-df-convert\" onclick=\"convertToInteractive('df-5988ec8e-4653-4f51-b6e8-2f3acdea25da')\"\n",
              "              title=\"Convert this dataframe to an interactive table.\"\n",
              "              style=\"display:none;\">\n",
              "\n",
              "  <svg xmlns=\"http://www.w3.org/2000/svg\" height=\"24px\"viewBox=\"0 0 24 24\"\n",
              "       width=\"24px\">\n",
              "    <path d=\"M0 0h24v24H0V0z\" fill=\"none\"/>\n",
              "    <path d=\"M18.56 5.44l.94 2.06.94-2.06 2.06-.94-2.06-.94-.94-2.06-.94 2.06-2.06.94zm-11 1L8.5 8.5l.94-2.06 2.06-.94-2.06-.94L8.5 2.5l-.94 2.06-2.06.94zm10 10l.94 2.06.94-2.06 2.06-.94-2.06-.94-.94-2.06-.94 2.06-2.06.94z\"/><path d=\"M17.41 7.96l-1.37-1.37c-.4-.4-.92-.59-1.43-.59-.52 0-1.04.2-1.43.59L10.3 9.45l-7.72 7.72c-.78.78-.78 2.05 0 2.83L4 21.41c.39.39.9.59 1.41.59.51 0 1.02-.2 1.41-.59l7.78-7.78 2.81-2.81c.8-.78.8-2.07 0-2.86zM5.41 20L4 18.59l7.72-7.72 1.47 1.35L5.41 20z\"/>\n",
              "  </svg>\n",
              "      </button>\n",
              "\n",
              "\n",
              "\n",
              "    <div id=\"df-9ae6e7ab-3e7d-4605-8eb9-b52090b3384e\">\n",
              "      <button class=\"colab-df-quickchart\" onclick=\"quickchart('df-9ae6e7ab-3e7d-4605-8eb9-b52090b3384e')\"\n",
              "              title=\"Suggest charts.\"\n",
              "              style=\"display:none;\">\n",
              "\n",
              "<svg xmlns=\"http://www.w3.org/2000/svg\" height=\"24px\"viewBox=\"0 0 24 24\"\n",
              "     width=\"24px\">\n",
              "    <g>\n",
              "        <path d=\"M19 3H5c-1.1 0-2 .9-2 2v14c0 1.1.9 2 2 2h14c1.1 0 2-.9 2-2V5c0-1.1-.9-2-2-2zM9 17H7v-7h2v7zm4 0h-2V7h2v10zm4 0h-2v-4h2v4z\"/>\n",
              "    </g>\n",
              "</svg>\n",
              "      </button>\n",
              "    </div>\n",
              "\n",
              "<style>\n",
              "  .colab-df-quickchart {\n",
              "    background-color: #E8F0FE;\n",
              "    border: none;\n",
              "    border-radius: 50%;\n",
              "    cursor: pointer;\n",
              "    display: none;\n",
              "    fill: #1967D2;\n",
              "    height: 32px;\n",
              "    padding: 0 0 0 0;\n",
              "    width: 32px;\n",
              "  }\n",
              "\n",
              "  .colab-df-quickchart:hover {\n",
              "    background-color: #E2EBFA;\n",
              "    box-shadow: 0px 1px 2px rgba(60, 64, 67, 0.3), 0px 1px 3px 1px rgba(60, 64, 67, 0.15);\n",
              "    fill: #174EA6;\n",
              "  }\n",
              "\n",
              "  [theme=dark] .colab-df-quickchart {\n",
              "    background-color: #3B4455;\n",
              "    fill: #D2E3FC;\n",
              "  }\n",
              "\n",
              "  [theme=dark] .colab-df-quickchart:hover {\n",
              "    background-color: #434B5C;\n",
              "    box-shadow: 0px 1px 3px 1px rgba(0, 0, 0, 0.15);\n",
              "    filter: drop-shadow(0px 1px 2px rgba(0, 0, 0, 0.3));\n",
              "    fill: #FFFFFF;\n",
              "  }\n",
              "</style>\n",
              "\n",
              "    <script>\n",
              "      async function quickchart(key) {\n",
              "        const containerElement = document.querySelector('#' + key);\n",
              "        const charts = await google.colab.kernel.invokeFunction(\n",
              "            'suggestCharts', [key], {});\n",
              "      }\n",
              "    </script>\n",
              "\n",
              "      <script>\n",
              "\n",
              "function displayQuickchartButton(domScope) {\n",
              "  let quickchartButtonEl =\n",
              "    domScope.querySelector('#df-9ae6e7ab-3e7d-4605-8eb9-b52090b3384e button.colab-df-quickchart');\n",
              "  quickchartButtonEl.style.display =\n",
              "    google.colab.kernel.accessAllowed ? 'block' : 'none';\n",
              "}\n",
              "\n",
              "        displayQuickchartButton(document);\n",
              "      </script>\n",
              "      <style>\n",
              "    .colab-df-container {\n",
              "      display:flex;\n",
              "      flex-wrap:wrap;\n",
              "      gap: 12px;\n",
              "    }\n",
              "\n",
              "    .colab-df-convert {\n",
              "      background-color: #E8F0FE;\n",
              "      border: none;\n",
              "      border-radius: 50%;\n",
              "      cursor: pointer;\n",
              "      display: none;\n",
              "      fill: #1967D2;\n",
              "      height: 32px;\n",
              "      padding: 0 0 0 0;\n",
              "      width: 32px;\n",
              "    }\n",
              "\n",
              "    .colab-df-convert:hover {\n",
              "      background-color: #E2EBFA;\n",
              "      box-shadow: 0px 1px 2px rgba(60, 64, 67, 0.3), 0px 1px 3px 1px rgba(60, 64, 67, 0.15);\n",
              "      fill: #174EA6;\n",
              "    }\n",
              "\n",
              "    [theme=dark] .colab-df-convert {\n",
              "      background-color: #3B4455;\n",
              "      fill: #D2E3FC;\n",
              "    }\n",
              "\n",
              "    [theme=dark] .colab-df-convert:hover {\n",
              "      background-color: #434B5C;\n",
              "      box-shadow: 0px 1px 3px 1px rgba(0, 0, 0, 0.15);\n",
              "      filter: drop-shadow(0px 1px 2px rgba(0, 0, 0, 0.3));\n",
              "      fill: #FFFFFF;\n",
              "    }\n",
              "  </style>\n",
              "\n",
              "      <script>\n",
              "        const buttonEl =\n",
              "          document.querySelector('#df-5988ec8e-4653-4f51-b6e8-2f3acdea25da button.colab-df-convert');\n",
              "        buttonEl.style.display =\n",
              "          google.colab.kernel.accessAllowed ? 'block' : 'none';\n",
              "\n",
              "        async function convertToInteractive(key) {\n",
              "          const element = document.querySelector('#df-5988ec8e-4653-4f51-b6e8-2f3acdea25da');\n",
              "          const dataTable =\n",
              "            await google.colab.kernel.invokeFunction('convertToInteractive',\n",
              "                                                     [key], {});\n",
              "          if (!dataTable) return;\n",
              "\n",
              "          const docLinkHtml = 'Like what you see? Visit the ' +\n",
              "            '<a target=\"_blank\" href=https://colab.research.google.com/notebooks/data_table.ipynb>data table notebook</a>'\n",
              "            + ' to learn more about interactive tables.';\n",
              "          element.innerHTML = '';\n",
              "          dataTable['output_type'] = 'display_data';\n",
              "          await google.colab.output.renderOutput(dataTable, element);\n",
              "          const docLink = document.createElement('div');\n",
              "          docLink.innerHTML = docLinkHtml;\n",
              "          element.appendChild(docLink);\n",
              "        }\n",
              "      </script>\n",
              "    </div>\n",
              "  </div>\n"
            ]
          },
          "metadata": {},
          "execution_count": 31
        }
      ],
      "source": [
        "print('Datatype in Each Column\\n')\n",
        "pd.DataFrame(df.dtypes, columns=['Datatype']).rename_axis(\"Column Name\")"
      ]
    },
    {
      "cell_type": "markdown",
      "source": [
        "**df.count()** returns the count of non-null values for each column in the DataFrame df"
      ],
      "metadata": {
        "id": "Qiu1_vYELEya"
      }
    },
    {
      "cell_type": "code",
      "execution_count": 32,
      "metadata": {
        "colab": {
          "base_uri": "https://localhost:8080/",
          "height": 0
        },
        "id": "QoPiE-VF9huI",
        "outputId": "6ef9d7d6-29bd-4c5c-bdf2-a1909932e3e8"
      },
      "outputs": [
        {
          "output_type": "execute_result",
          "data": {
            "text/plain": [
              "Age                  2966\n",
              "Gender               2966\n",
              "Stream               2966\n",
              "Internships          2966\n",
              "CGPA                 2966\n",
              "Hostel               2966\n",
              "HistoryOfBacklogs    2966\n",
              "PlacedOrNot          2966\n",
              "dtype: int64"
            ]
          },
          "metadata": {},
          "execution_count": 32
        }
      ],
      "source": [
        "df.count()"
      ]
    },
    {
      "cell_type": "markdown",
      "source": [
        "**df.shape** returns a tuple that represents the dimensions of the DataFrame df contain The number of rows and the number of columns"
      ],
      "metadata": {
        "id": "iPDVZ0r_MzOO"
      }
    },
    {
      "cell_type": "code",
      "execution_count": 33,
      "metadata": {
        "colab": {
          "base_uri": "https://localhost:8080/",
          "height": 0
        },
        "id": "Jh54GgSe-HfB",
        "outputId": "116d0f37-65f4-4bf6-faa6-0d8bcb23d79d"
      },
      "outputs": [
        {
          "output_type": "execute_result",
          "data": {
            "text/plain": [
              "(2966, 8)"
            ]
          },
          "metadata": {},
          "execution_count": 33
        }
      ],
      "source": [
        "df.shape"
      ]
    },
    {
      "cell_type": "code",
      "execution_count": 34,
      "metadata": {
        "colab": {
          "base_uri": "https://localhost:8080/",
          "height": 250
        },
        "id": "0bt4oEFO8VDc",
        "outputId": "01b9184c-8093-4e56-d250-a44de05aede2"
      },
      "outputs": [
        {
          "output_type": "execute_result",
          "data": {
            "text/plain": [
              "   Age  Gender                         Stream  Internships  CGPA  Hostel  \\\n",
              "0   22    Male  Electronics And Communication            1     8       1   \n",
              "1   21  Female               Computer Science            0     7       1   \n",
              "2   22  Female         Information Technology            1     6       0   \n",
              "3   21    Male         Information Technology            0     8       0   \n",
              "4   22    Male                     Mechanical            0     8       1   \n",
              "\n",
              "   HistoryOfBacklogs  PlacedOrNot  \n",
              "0                  1            1  \n",
              "1                  1            1  \n",
              "2                  0            1  \n",
              "3                  1            1  \n",
              "4                  0            1  "
            ],
            "text/html": [
              "\n",
              "\n",
              "  <div id=\"df-3036e40e-6162-4b98-add8-6b52486cded0\">\n",
              "    <div class=\"colab-df-container\">\n",
              "      <div>\n",
              "<style scoped>\n",
              "    .dataframe tbody tr th:only-of-type {\n",
              "        vertical-align: middle;\n",
              "    }\n",
              "\n",
              "    .dataframe tbody tr th {\n",
              "        vertical-align: top;\n",
              "    }\n",
              "\n",
              "    .dataframe thead th {\n",
              "        text-align: right;\n",
              "    }\n",
              "</style>\n",
              "<table border=\"1\" class=\"dataframe\">\n",
              "  <thead>\n",
              "    <tr style=\"text-align: right;\">\n",
              "      <th></th>\n",
              "      <th>Age</th>\n",
              "      <th>Gender</th>\n",
              "      <th>Stream</th>\n",
              "      <th>Internships</th>\n",
              "      <th>CGPA</th>\n",
              "      <th>Hostel</th>\n",
              "      <th>HistoryOfBacklogs</th>\n",
              "      <th>PlacedOrNot</th>\n",
              "    </tr>\n",
              "  </thead>\n",
              "  <tbody>\n",
              "    <tr>\n",
              "      <th>0</th>\n",
              "      <td>22</td>\n",
              "      <td>Male</td>\n",
              "      <td>Electronics And Communication</td>\n",
              "      <td>1</td>\n",
              "      <td>8</td>\n",
              "      <td>1</td>\n",
              "      <td>1</td>\n",
              "      <td>1</td>\n",
              "    </tr>\n",
              "    <tr>\n",
              "      <th>1</th>\n",
              "      <td>21</td>\n",
              "      <td>Female</td>\n",
              "      <td>Computer Science</td>\n",
              "      <td>0</td>\n",
              "      <td>7</td>\n",
              "      <td>1</td>\n",
              "      <td>1</td>\n",
              "      <td>1</td>\n",
              "    </tr>\n",
              "    <tr>\n",
              "      <th>2</th>\n",
              "      <td>22</td>\n",
              "      <td>Female</td>\n",
              "      <td>Information Technology</td>\n",
              "      <td>1</td>\n",
              "      <td>6</td>\n",
              "      <td>0</td>\n",
              "      <td>0</td>\n",
              "      <td>1</td>\n",
              "    </tr>\n",
              "    <tr>\n",
              "      <th>3</th>\n",
              "      <td>21</td>\n",
              "      <td>Male</td>\n",
              "      <td>Information Technology</td>\n",
              "      <td>0</td>\n",
              "      <td>8</td>\n",
              "      <td>0</td>\n",
              "      <td>1</td>\n",
              "      <td>1</td>\n",
              "    </tr>\n",
              "    <tr>\n",
              "      <th>4</th>\n",
              "      <td>22</td>\n",
              "      <td>Male</td>\n",
              "      <td>Mechanical</td>\n",
              "      <td>0</td>\n",
              "      <td>8</td>\n",
              "      <td>1</td>\n",
              "      <td>0</td>\n",
              "      <td>1</td>\n",
              "    </tr>\n",
              "  </tbody>\n",
              "</table>\n",
              "</div>\n",
              "      <button class=\"colab-df-convert\" onclick=\"convertToInteractive('df-3036e40e-6162-4b98-add8-6b52486cded0')\"\n",
              "              title=\"Convert this dataframe to an interactive table.\"\n",
              "              style=\"display:none;\">\n",
              "\n",
              "  <svg xmlns=\"http://www.w3.org/2000/svg\" height=\"24px\"viewBox=\"0 0 24 24\"\n",
              "       width=\"24px\">\n",
              "    <path d=\"M0 0h24v24H0V0z\" fill=\"none\"/>\n",
              "    <path d=\"M18.56 5.44l.94 2.06.94-2.06 2.06-.94-2.06-.94-.94-2.06-.94 2.06-2.06.94zm-11 1L8.5 8.5l.94-2.06 2.06-.94-2.06-.94L8.5 2.5l-.94 2.06-2.06.94zm10 10l.94 2.06.94-2.06 2.06-.94-2.06-.94-.94-2.06-.94 2.06-2.06.94z\"/><path d=\"M17.41 7.96l-1.37-1.37c-.4-.4-.92-.59-1.43-.59-.52 0-1.04.2-1.43.59L10.3 9.45l-7.72 7.72c-.78.78-.78 2.05 0 2.83L4 21.41c.39.39.9.59 1.41.59.51 0 1.02-.2 1.41-.59l7.78-7.78 2.81-2.81c.8-.78.8-2.07 0-2.86zM5.41 20L4 18.59l7.72-7.72 1.47 1.35L5.41 20z\"/>\n",
              "  </svg>\n",
              "      </button>\n",
              "\n",
              "\n",
              "\n",
              "    <div id=\"df-93d797a5-c29b-4da3-a63c-89c38ec07fcc\">\n",
              "      <button class=\"colab-df-quickchart\" onclick=\"quickchart('df-93d797a5-c29b-4da3-a63c-89c38ec07fcc')\"\n",
              "              title=\"Suggest charts.\"\n",
              "              style=\"display:none;\">\n",
              "\n",
              "<svg xmlns=\"http://www.w3.org/2000/svg\" height=\"24px\"viewBox=\"0 0 24 24\"\n",
              "     width=\"24px\">\n",
              "    <g>\n",
              "        <path d=\"M19 3H5c-1.1 0-2 .9-2 2v14c0 1.1.9 2 2 2h14c1.1 0 2-.9 2-2V5c0-1.1-.9-2-2-2zM9 17H7v-7h2v7zm4 0h-2V7h2v10zm4 0h-2v-4h2v4z\"/>\n",
              "    </g>\n",
              "</svg>\n",
              "      </button>\n",
              "    </div>\n",
              "\n",
              "<style>\n",
              "  .colab-df-quickchart {\n",
              "    background-color: #E8F0FE;\n",
              "    border: none;\n",
              "    border-radius: 50%;\n",
              "    cursor: pointer;\n",
              "    display: none;\n",
              "    fill: #1967D2;\n",
              "    height: 32px;\n",
              "    padding: 0 0 0 0;\n",
              "    width: 32px;\n",
              "  }\n",
              "\n",
              "  .colab-df-quickchart:hover {\n",
              "    background-color: #E2EBFA;\n",
              "    box-shadow: 0px 1px 2px rgba(60, 64, 67, 0.3), 0px 1px 3px 1px rgba(60, 64, 67, 0.15);\n",
              "    fill: #174EA6;\n",
              "  }\n",
              "\n",
              "  [theme=dark] .colab-df-quickchart {\n",
              "    background-color: #3B4455;\n",
              "    fill: #D2E3FC;\n",
              "  }\n",
              "\n",
              "  [theme=dark] .colab-df-quickchart:hover {\n",
              "    background-color: #434B5C;\n",
              "    box-shadow: 0px 1px 3px 1px rgba(0, 0, 0, 0.15);\n",
              "    filter: drop-shadow(0px 1px 2px rgba(0, 0, 0, 0.3));\n",
              "    fill: #FFFFFF;\n",
              "  }\n",
              "</style>\n",
              "\n",
              "    <script>\n",
              "      async function quickchart(key) {\n",
              "        const containerElement = document.querySelector('#' + key);\n",
              "        const charts = await google.colab.kernel.invokeFunction(\n",
              "            'suggestCharts', [key], {});\n",
              "      }\n",
              "    </script>\n",
              "\n",
              "      <script>\n",
              "\n",
              "function displayQuickchartButton(domScope) {\n",
              "  let quickchartButtonEl =\n",
              "    domScope.querySelector('#df-93d797a5-c29b-4da3-a63c-89c38ec07fcc button.colab-df-quickchart');\n",
              "  quickchartButtonEl.style.display =\n",
              "    google.colab.kernel.accessAllowed ? 'block' : 'none';\n",
              "}\n",
              "\n",
              "        displayQuickchartButton(document);\n",
              "      </script>\n",
              "      <style>\n",
              "    .colab-df-container {\n",
              "      display:flex;\n",
              "      flex-wrap:wrap;\n",
              "      gap: 12px;\n",
              "    }\n",
              "\n",
              "    .colab-df-convert {\n",
              "      background-color: #E8F0FE;\n",
              "      border: none;\n",
              "      border-radius: 50%;\n",
              "      cursor: pointer;\n",
              "      display: none;\n",
              "      fill: #1967D2;\n",
              "      height: 32px;\n",
              "      padding: 0 0 0 0;\n",
              "      width: 32px;\n",
              "    }\n",
              "\n",
              "    .colab-df-convert:hover {\n",
              "      background-color: #E2EBFA;\n",
              "      box-shadow: 0px 1px 2px rgba(60, 64, 67, 0.3), 0px 1px 3px 1px rgba(60, 64, 67, 0.15);\n",
              "      fill: #174EA6;\n",
              "    }\n",
              "\n",
              "    [theme=dark] .colab-df-convert {\n",
              "      background-color: #3B4455;\n",
              "      fill: #D2E3FC;\n",
              "    }\n",
              "\n",
              "    [theme=dark] .colab-df-convert:hover {\n",
              "      background-color: #434B5C;\n",
              "      box-shadow: 0px 1px 3px 1px rgba(0, 0, 0, 0.15);\n",
              "      filter: drop-shadow(0px 1px 2px rgba(0, 0, 0, 0.3));\n",
              "      fill: #FFFFFF;\n",
              "    }\n",
              "  </style>\n",
              "\n",
              "      <script>\n",
              "        const buttonEl =\n",
              "          document.querySelector('#df-3036e40e-6162-4b98-add8-6b52486cded0 button.colab-df-convert');\n",
              "        buttonEl.style.display =\n",
              "          google.colab.kernel.accessAllowed ? 'block' : 'none';\n",
              "\n",
              "        async function convertToInteractive(key) {\n",
              "          const element = document.querySelector('#df-3036e40e-6162-4b98-add8-6b52486cded0');\n",
              "          const dataTable =\n",
              "            await google.colab.kernel.invokeFunction('convertToInteractive',\n",
              "                                                     [key], {});\n",
              "          if (!dataTable) return;\n",
              "\n",
              "          const docLinkHtml = 'Like what you see? Visit the ' +\n",
              "            '<a target=\"_blank\" href=https://colab.research.google.com/notebooks/data_table.ipynb>data table notebook</a>'\n",
              "            + ' to learn more about interactive tables.';\n",
              "          element.innerHTML = '';\n",
              "          dataTable['output_type'] = 'display_data';\n",
              "          await google.colab.output.renderOutput(dataTable, element);\n",
              "          const docLink = document.createElement('div');\n",
              "          docLink.innerHTML = docLinkHtml;\n",
              "          element.appendChild(docLink);\n",
              "        }\n",
              "      </script>\n",
              "    </div>\n",
              "  </div>\n"
            ]
          },
          "metadata": {},
          "execution_count": 34
        }
      ],
      "source": [
        "df.head()                  #df.head() returns the first five rows of the DataFrame df"
      ]
    },
    {
      "cell_type": "code",
      "execution_count": 35,
      "metadata": {
        "colab": {
          "base_uri": "https://localhost:8080/",
          "height": 206
        },
        "id": "ai18kj368fya",
        "outputId": "71f78753-5463-421e-ab8f-bc6f21a759b5"
      },
      "outputs": [
        {
          "output_type": "execute_result",
          "data": {
            "text/plain": [
              "      Age Gender                  Stream  Internships  CGPA  Hostel  \\\n",
              "2961   23   Male  Information Technology            0     7       0   \n",
              "2962   23   Male              Mechanical            1     7       1   \n",
              "2963   22   Male  Information Technology            1     7       0   \n",
              "2964   22   Male        Computer Science            1     7       0   \n",
              "2965   23   Male                   Civil            0     8       0   \n",
              "\n",
              "      HistoryOfBacklogs  PlacedOrNot  \n",
              "2961                  0            0  \n",
              "2962                  0            0  \n",
              "2963                  0            0  \n",
              "2964                  0            0  \n",
              "2965                  0            1  "
            ],
            "text/html": [
              "\n",
              "\n",
              "  <div id=\"df-e14703d5-af88-4ed4-b991-3d2ca6e09deb\">\n",
              "    <div class=\"colab-df-container\">\n",
              "      <div>\n",
              "<style scoped>\n",
              "    .dataframe tbody tr th:only-of-type {\n",
              "        vertical-align: middle;\n",
              "    }\n",
              "\n",
              "    .dataframe tbody tr th {\n",
              "        vertical-align: top;\n",
              "    }\n",
              "\n",
              "    .dataframe thead th {\n",
              "        text-align: right;\n",
              "    }\n",
              "</style>\n",
              "<table border=\"1\" class=\"dataframe\">\n",
              "  <thead>\n",
              "    <tr style=\"text-align: right;\">\n",
              "      <th></th>\n",
              "      <th>Age</th>\n",
              "      <th>Gender</th>\n",
              "      <th>Stream</th>\n",
              "      <th>Internships</th>\n",
              "      <th>CGPA</th>\n",
              "      <th>Hostel</th>\n",
              "      <th>HistoryOfBacklogs</th>\n",
              "      <th>PlacedOrNot</th>\n",
              "    </tr>\n",
              "  </thead>\n",
              "  <tbody>\n",
              "    <tr>\n",
              "      <th>2961</th>\n",
              "      <td>23</td>\n",
              "      <td>Male</td>\n",
              "      <td>Information Technology</td>\n",
              "      <td>0</td>\n",
              "      <td>7</td>\n",
              "      <td>0</td>\n",
              "      <td>0</td>\n",
              "      <td>0</td>\n",
              "    </tr>\n",
              "    <tr>\n",
              "      <th>2962</th>\n",
              "      <td>23</td>\n",
              "      <td>Male</td>\n",
              "      <td>Mechanical</td>\n",
              "      <td>1</td>\n",
              "      <td>7</td>\n",
              "      <td>1</td>\n",
              "      <td>0</td>\n",
              "      <td>0</td>\n",
              "    </tr>\n",
              "    <tr>\n",
              "      <th>2963</th>\n",
              "      <td>22</td>\n",
              "      <td>Male</td>\n",
              "      <td>Information Technology</td>\n",
              "      <td>1</td>\n",
              "      <td>7</td>\n",
              "      <td>0</td>\n",
              "      <td>0</td>\n",
              "      <td>0</td>\n",
              "    </tr>\n",
              "    <tr>\n",
              "      <th>2964</th>\n",
              "      <td>22</td>\n",
              "      <td>Male</td>\n",
              "      <td>Computer Science</td>\n",
              "      <td>1</td>\n",
              "      <td>7</td>\n",
              "      <td>0</td>\n",
              "      <td>0</td>\n",
              "      <td>0</td>\n",
              "    </tr>\n",
              "    <tr>\n",
              "      <th>2965</th>\n",
              "      <td>23</td>\n",
              "      <td>Male</td>\n",
              "      <td>Civil</td>\n",
              "      <td>0</td>\n",
              "      <td>8</td>\n",
              "      <td>0</td>\n",
              "      <td>0</td>\n",
              "      <td>1</td>\n",
              "    </tr>\n",
              "  </tbody>\n",
              "</table>\n",
              "</div>\n",
              "      <button class=\"colab-df-convert\" onclick=\"convertToInteractive('df-e14703d5-af88-4ed4-b991-3d2ca6e09deb')\"\n",
              "              title=\"Convert this dataframe to an interactive table.\"\n",
              "              style=\"display:none;\">\n",
              "\n",
              "  <svg xmlns=\"http://www.w3.org/2000/svg\" height=\"24px\"viewBox=\"0 0 24 24\"\n",
              "       width=\"24px\">\n",
              "    <path d=\"M0 0h24v24H0V0z\" fill=\"none\"/>\n",
              "    <path d=\"M18.56 5.44l.94 2.06.94-2.06 2.06-.94-2.06-.94-.94-2.06-.94 2.06-2.06.94zm-11 1L8.5 8.5l.94-2.06 2.06-.94-2.06-.94L8.5 2.5l-.94 2.06-2.06.94zm10 10l.94 2.06.94-2.06 2.06-.94-2.06-.94-.94-2.06-.94 2.06-2.06.94z\"/><path d=\"M17.41 7.96l-1.37-1.37c-.4-.4-.92-.59-1.43-.59-.52 0-1.04.2-1.43.59L10.3 9.45l-7.72 7.72c-.78.78-.78 2.05 0 2.83L4 21.41c.39.39.9.59 1.41.59.51 0 1.02-.2 1.41-.59l7.78-7.78 2.81-2.81c.8-.78.8-2.07 0-2.86zM5.41 20L4 18.59l7.72-7.72 1.47 1.35L5.41 20z\"/>\n",
              "  </svg>\n",
              "      </button>\n",
              "\n",
              "\n",
              "\n",
              "    <div id=\"df-57a0e88f-3ee7-45bf-b19b-45c5574a7671\">\n",
              "      <button class=\"colab-df-quickchart\" onclick=\"quickchart('df-57a0e88f-3ee7-45bf-b19b-45c5574a7671')\"\n",
              "              title=\"Suggest charts.\"\n",
              "              style=\"display:none;\">\n",
              "\n",
              "<svg xmlns=\"http://www.w3.org/2000/svg\" height=\"24px\"viewBox=\"0 0 24 24\"\n",
              "     width=\"24px\">\n",
              "    <g>\n",
              "        <path d=\"M19 3H5c-1.1 0-2 .9-2 2v14c0 1.1.9 2 2 2h14c1.1 0 2-.9 2-2V5c0-1.1-.9-2-2-2zM9 17H7v-7h2v7zm4 0h-2V7h2v10zm4 0h-2v-4h2v4z\"/>\n",
              "    </g>\n",
              "</svg>\n",
              "      </button>\n",
              "    </div>\n",
              "\n",
              "<style>\n",
              "  .colab-df-quickchart {\n",
              "    background-color: #E8F0FE;\n",
              "    border: none;\n",
              "    border-radius: 50%;\n",
              "    cursor: pointer;\n",
              "    display: none;\n",
              "    fill: #1967D2;\n",
              "    height: 32px;\n",
              "    padding: 0 0 0 0;\n",
              "    width: 32px;\n",
              "  }\n",
              "\n",
              "  .colab-df-quickchart:hover {\n",
              "    background-color: #E2EBFA;\n",
              "    box-shadow: 0px 1px 2px rgba(60, 64, 67, 0.3), 0px 1px 3px 1px rgba(60, 64, 67, 0.15);\n",
              "    fill: #174EA6;\n",
              "  }\n",
              "\n",
              "  [theme=dark] .colab-df-quickchart {\n",
              "    background-color: #3B4455;\n",
              "    fill: #D2E3FC;\n",
              "  }\n",
              "\n",
              "  [theme=dark] .colab-df-quickchart:hover {\n",
              "    background-color: #434B5C;\n",
              "    box-shadow: 0px 1px 3px 1px rgba(0, 0, 0, 0.15);\n",
              "    filter: drop-shadow(0px 1px 2px rgba(0, 0, 0, 0.3));\n",
              "    fill: #FFFFFF;\n",
              "  }\n",
              "</style>\n",
              "\n",
              "    <script>\n",
              "      async function quickchart(key) {\n",
              "        const containerElement = document.querySelector('#' + key);\n",
              "        const charts = await google.colab.kernel.invokeFunction(\n",
              "            'suggestCharts', [key], {});\n",
              "      }\n",
              "    </script>\n",
              "\n",
              "      <script>\n",
              "\n",
              "function displayQuickchartButton(domScope) {\n",
              "  let quickchartButtonEl =\n",
              "    domScope.querySelector('#df-57a0e88f-3ee7-45bf-b19b-45c5574a7671 button.colab-df-quickchart');\n",
              "  quickchartButtonEl.style.display =\n",
              "    google.colab.kernel.accessAllowed ? 'block' : 'none';\n",
              "}\n",
              "\n",
              "        displayQuickchartButton(document);\n",
              "      </script>\n",
              "      <style>\n",
              "    .colab-df-container {\n",
              "      display:flex;\n",
              "      flex-wrap:wrap;\n",
              "      gap: 12px;\n",
              "    }\n",
              "\n",
              "    .colab-df-convert {\n",
              "      background-color: #E8F0FE;\n",
              "      border: none;\n",
              "      border-radius: 50%;\n",
              "      cursor: pointer;\n",
              "      display: none;\n",
              "      fill: #1967D2;\n",
              "      height: 32px;\n",
              "      padding: 0 0 0 0;\n",
              "      width: 32px;\n",
              "    }\n",
              "\n",
              "    .colab-df-convert:hover {\n",
              "      background-color: #E2EBFA;\n",
              "      box-shadow: 0px 1px 2px rgba(60, 64, 67, 0.3), 0px 1px 3px 1px rgba(60, 64, 67, 0.15);\n",
              "      fill: #174EA6;\n",
              "    }\n",
              "\n",
              "    [theme=dark] .colab-df-convert {\n",
              "      background-color: #3B4455;\n",
              "      fill: #D2E3FC;\n",
              "    }\n",
              "\n",
              "    [theme=dark] .colab-df-convert:hover {\n",
              "      background-color: #434B5C;\n",
              "      box-shadow: 0px 1px 3px 1px rgba(0, 0, 0, 0.15);\n",
              "      filter: drop-shadow(0px 1px 2px rgba(0, 0, 0, 0.3));\n",
              "      fill: #FFFFFF;\n",
              "    }\n",
              "  </style>\n",
              "\n",
              "      <script>\n",
              "        const buttonEl =\n",
              "          document.querySelector('#df-e14703d5-af88-4ed4-b991-3d2ca6e09deb button.colab-df-convert');\n",
              "        buttonEl.style.display =\n",
              "          google.colab.kernel.accessAllowed ? 'block' : 'none';\n",
              "\n",
              "        async function convertToInteractive(key) {\n",
              "          const element = document.querySelector('#df-e14703d5-af88-4ed4-b991-3d2ca6e09deb');\n",
              "          const dataTable =\n",
              "            await google.colab.kernel.invokeFunction('convertToInteractive',\n",
              "                                                     [key], {});\n",
              "          if (!dataTable) return;\n",
              "\n",
              "          const docLinkHtml = 'Like what you see? Visit the ' +\n",
              "            '<a target=\"_blank\" href=https://colab.research.google.com/notebooks/data_table.ipynb>data table notebook</a>'\n",
              "            + ' to learn more about interactive tables.';\n",
              "          element.innerHTML = '';\n",
              "          dataTable['output_type'] = 'display_data';\n",
              "          await google.colab.output.renderOutput(dataTable, element);\n",
              "          const docLink = document.createElement('div');\n",
              "          docLink.innerHTML = docLinkHtml;\n",
              "          element.appendChild(docLink);\n",
              "        }\n",
              "      </script>\n",
              "    </div>\n",
              "  </div>\n"
            ]
          },
          "metadata": {},
          "execution_count": 35
        }
      ],
      "source": [
        "df.tail()                 #df.tail() returns the last five rows of the DataFrame df"
      ]
    },
    {
      "cell_type": "code",
      "execution_count": 36,
      "metadata": {
        "colab": {
          "base_uri": "https://localhost:8080/",
          "height": 407
        },
        "id": "Uktr4vZp8iu8",
        "outputId": "d68e8ef2-9f20-4326-87bd-dcfe161f3b2d"
      },
      "outputs": [
        {
          "output_type": "execute_result",
          "data": {
            "text/plain": [
              "      Age  Gender                         Stream  Internships  CGPA  Hostel  \\\n",
              "832    22    Male  Electronics And Communication            3     7       0   \n",
              "1185   21    Male               Computer Science            1     9       0   \n",
              "278    21    Male               Computer Science            1     7       0   \n",
              "1921   20    Male         Information Technology            1     8       0   \n",
              "2670   20    Male                          Civil            0     9       0   \n",
              "1412   22    Male                          Civil            0     6       0   \n",
              "174    22    Male                          Civil            0     7       0   \n",
              "1194   22    Male         Information Technology            1     8       0   \n",
              "909    21    Male                     Mechanical            0     8       1   \n",
              "512    21  Female               Computer Science            1     8       1   \n",
              "\n",
              "      HistoryOfBacklogs  PlacedOrNot  \n",
              "832                   0            0  \n",
              "1185                  0            1  \n",
              "278                   0            0  \n",
              "1921                  0            1  \n",
              "2670                  0            1  \n",
              "1412                  0            0  \n",
              "174                   1            0  \n",
              "1194                  0            1  \n",
              "909                   0            1  \n",
              "512                   0            1  "
            ],
            "text/html": [
              "\n",
              "\n",
              "  <div id=\"df-108f1fa2-9f17-4f64-8d91-ef54a36f3d33\">\n",
              "    <div class=\"colab-df-container\">\n",
              "      <div>\n",
              "<style scoped>\n",
              "    .dataframe tbody tr th:only-of-type {\n",
              "        vertical-align: middle;\n",
              "    }\n",
              "\n",
              "    .dataframe tbody tr th {\n",
              "        vertical-align: top;\n",
              "    }\n",
              "\n",
              "    .dataframe thead th {\n",
              "        text-align: right;\n",
              "    }\n",
              "</style>\n",
              "<table border=\"1\" class=\"dataframe\">\n",
              "  <thead>\n",
              "    <tr style=\"text-align: right;\">\n",
              "      <th></th>\n",
              "      <th>Age</th>\n",
              "      <th>Gender</th>\n",
              "      <th>Stream</th>\n",
              "      <th>Internships</th>\n",
              "      <th>CGPA</th>\n",
              "      <th>Hostel</th>\n",
              "      <th>HistoryOfBacklogs</th>\n",
              "      <th>PlacedOrNot</th>\n",
              "    </tr>\n",
              "  </thead>\n",
              "  <tbody>\n",
              "    <tr>\n",
              "      <th>832</th>\n",
              "      <td>22</td>\n",
              "      <td>Male</td>\n",
              "      <td>Electronics And Communication</td>\n",
              "      <td>3</td>\n",
              "      <td>7</td>\n",
              "      <td>0</td>\n",
              "      <td>0</td>\n",
              "      <td>0</td>\n",
              "    </tr>\n",
              "    <tr>\n",
              "      <th>1185</th>\n",
              "      <td>21</td>\n",
              "      <td>Male</td>\n",
              "      <td>Computer Science</td>\n",
              "      <td>1</td>\n",
              "      <td>9</td>\n",
              "      <td>0</td>\n",
              "      <td>0</td>\n",
              "      <td>1</td>\n",
              "    </tr>\n",
              "    <tr>\n",
              "      <th>278</th>\n",
              "      <td>21</td>\n",
              "      <td>Male</td>\n",
              "      <td>Computer Science</td>\n",
              "      <td>1</td>\n",
              "      <td>7</td>\n",
              "      <td>0</td>\n",
              "      <td>0</td>\n",
              "      <td>0</td>\n",
              "    </tr>\n",
              "    <tr>\n",
              "      <th>1921</th>\n",
              "      <td>20</td>\n",
              "      <td>Male</td>\n",
              "      <td>Information Technology</td>\n",
              "      <td>1</td>\n",
              "      <td>8</td>\n",
              "      <td>0</td>\n",
              "      <td>0</td>\n",
              "      <td>1</td>\n",
              "    </tr>\n",
              "    <tr>\n",
              "      <th>2670</th>\n",
              "      <td>20</td>\n",
              "      <td>Male</td>\n",
              "      <td>Civil</td>\n",
              "      <td>0</td>\n",
              "      <td>9</td>\n",
              "      <td>0</td>\n",
              "      <td>0</td>\n",
              "      <td>1</td>\n",
              "    </tr>\n",
              "    <tr>\n",
              "      <th>1412</th>\n",
              "      <td>22</td>\n",
              "      <td>Male</td>\n",
              "      <td>Civil</td>\n",
              "      <td>0</td>\n",
              "      <td>6</td>\n",
              "      <td>0</td>\n",
              "      <td>0</td>\n",
              "      <td>0</td>\n",
              "    </tr>\n",
              "    <tr>\n",
              "      <th>174</th>\n",
              "      <td>22</td>\n",
              "      <td>Male</td>\n",
              "      <td>Civil</td>\n",
              "      <td>0</td>\n",
              "      <td>7</td>\n",
              "      <td>0</td>\n",
              "      <td>1</td>\n",
              "      <td>0</td>\n",
              "    </tr>\n",
              "    <tr>\n",
              "      <th>1194</th>\n",
              "      <td>22</td>\n",
              "      <td>Male</td>\n",
              "      <td>Information Technology</td>\n",
              "      <td>1</td>\n",
              "      <td>8</td>\n",
              "      <td>0</td>\n",
              "      <td>0</td>\n",
              "      <td>1</td>\n",
              "    </tr>\n",
              "    <tr>\n",
              "      <th>909</th>\n",
              "      <td>21</td>\n",
              "      <td>Male</td>\n",
              "      <td>Mechanical</td>\n",
              "      <td>0</td>\n",
              "      <td>8</td>\n",
              "      <td>1</td>\n",
              "      <td>0</td>\n",
              "      <td>1</td>\n",
              "    </tr>\n",
              "    <tr>\n",
              "      <th>512</th>\n",
              "      <td>21</td>\n",
              "      <td>Female</td>\n",
              "      <td>Computer Science</td>\n",
              "      <td>1</td>\n",
              "      <td>8</td>\n",
              "      <td>1</td>\n",
              "      <td>0</td>\n",
              "      <td>1</td>\n",
              "    </tr>\n",
              "  </tbody>\n",
              "</table>\n",
              "</div>\n",
              "      <button class=\"colab-df-convert\" onclick=\"convertToInteractive('df-108f1fa2-9f17-4f64-8d91-ef54a36f3d33')\"\n",
              "              title=\"Convert this dataframe to an interactive table.\"\n",
              "              style=\"display:none;\">\n",
              "\n",
              "  <svg xmlns=\"http://www.w3.org/2000/svg\" height=\"24px\"viewBox=\"0 0 24 24\"\n",
              "       width=\"24px\">\n",
              "    <path d=\"M0 0h24v24H0V0z\" fill=\"none\"/>\n",
              "    <path d=\"M18.56 5.44l.94 2.06.94-2.06 2.06-.94-2.06-.94-.94-2.06-.94 2.06-2.06.94zm-11 1L8.5 8.5l.94-2.06 2.06-.94-2.06-.94L8.5 2.5l-.94 2.06-2.06.94zm10 10l.94 2.06.94-2.06 2.06-.94-2.06-.94-.94-2.06-.94 2.06-2.06.94z\"/><path d=\"M17.41 7.96l-1.37-1.37c-.4-.4-.92-.59-1.43-.59-.52 0-1.04.2-1.43.59L10.3 9.45l-7.72 7.72c-.78.78-.78 2.05 0 2.83L4 21.41c.39.39.9.59 1.41.59.51 0 1.02-.2 1.41-.59l7.78-7.78 2.81-2.81c.8-.78.8-2.07 0-2.86zM5.41 20L4 18.59l7.72-7.72 1.47 1.35L5.41 20z\"/>\n",
              "  </svg>\n",
              "      </button>\n",
              "\n",
              "\n",
              "\n",
              "    <div id=\"df-2cf4aea7-bf3b-4cea-9232-ae7a5b16b050\">\n",
              "      <button class=\"colab-df-quickchart\" onclick=\"quickchart('df-2cf4aea7-bf3b-4cea-9232-ae7a5b16b050')\"\n",
              "              title=\"Suggest charts.\"\n",
              "              style=\"display:none;\">\n",
              "\n",
              "<svg xmlns=\"http://www.w3.org/2000/svg\" height=\"24px\"viewBox=\"0 0 24 24\"\n",
              "     width=\"24px\">\n",
              "    <g>\n",
              "        <path d=\"M19 3H5c-1.1 0-2 .9-2 2v14c0 1.1.9 2 2 2h14c1.1 0 2-.9 2-2V5c0-1.1-.9-2-2-2zM9 17H7v-7h2v7zm4 0h-2V7h2v10zm4 0h-2v-4h2v4z\"/>\n",
              "    </g>\n",
              "</svg>\n",
              "      </button>\n",
              "    </div>\n",
              "\n",
              "<style>\n",
              "  .colab-df-quickchart {\n",
              "    background-color: #E8F0FE;\n",
              "    border: none;\n",
              "    border-radius: 50%;\n",
              "    cursor: pointer;\n",
              "    display: none;\n",
              "    fill: #1967D2;\n",
              "    height: 32px;\n",
              "    padding: 0 0 0 0;\n",
              "    width: 32px;\n",
              "  }\n",
              "\n",
              "  .colab-df-quickchart:hover {\n",
              "    background-color: #E2EBFA;\n",
              "    box-shadow: 0px 1px 2px rgba(60, 64, 67, 0.3), 0px 1px 3px 1px rgba(60, 64, 67, 0.15);\n",
              "    fill: #174EA6;\n",
              "  }\n",
              "\n",
              "  [theme=dark] .colab-df-quickchart {\n",
              "    background-color: #3B4455;\n",
              "    fill: #D2E3FC;\n",
              "  }\n",
              "\n",
              "  [theme=dark] .colab-df-quickchart:hover {\n",
              "    background-color: #434B5C;\n",
              "    box-shadow: 0px 1px 3px 1px rgba(0, 0, 0, 0.15);\n",
              "    filter: drop-shadow(0px 1px 2px rgba(0, 0, 0, 0.3));\n",
              "    fill: #FFFFFF;\n",
              "  }\n",
              "</style>\n",
              "\n",
              "    <script>\n",
              "      async function quickchart(key) {\n",
              "        const containerElement = document.querySelector('#' + key);\n",
              "        const charts = await google.colab.kernel.invokeFunction(\n",
              "            'suggestCharts', [key], {});\n",
              "      }\n",
              "    </script>\n",
              "\n",
              "      <script>\n",
              "\n",
              "function displayQuickchartButton(domScope) {\n",
              "  let quickchartButtonEl =\n",
              "    domScope.querySelector('#df-2cf4aea7-bf3b-4cea-9232-ae7a5b16b050 button.colab-df-quickchart');\n",
              "  quickchartButtonEl.style.display =\n",
              "    google.colab.kernel.accessAllowed ? 'block' : 'none';\n",
              "}\n",
              "\n",
              "        displayQuickchartButton(document);\n",
              "      </script>\n",
              "      <style>\n",
              "    .colab-df-container {\n",
              "      display:flex;\n",
              "      flex-wrap:wrap;\n",
              "      gap: 12px;\n",
              "    }\n",
              "\n",
              "    .colab-df-convert {\n",
              "      background-color: #E8F0FE;\n",
              "      border: none;\n",
              "      border-radius: 50%;\n",
              "      cursor: pointer;\n",
              "      display: none;\n",
              "      fill: #1967D2;\n",
              "      height: 32px;\n",
              "      padding: 0 0 0 0;\n",
              "      width: 32px;\n",
              "    }\n",
              "\n",
              "    .colab-df-convert:hover {\n",
              "      background-color: #E2EBFA;\n",
              "      box-shadow: 0px 1px 2px rgba(60, 64, 67, 0.3), 0px 1px 3px 1px rgba(60, 64, 67, 0.15);\n",
              "      fill: #174EA6;\n",
              "    }\n",
              "\n",
              "    [theme=dark] .colab-df-convert {\n",
              "      background-color: #3B4455;\n",
              "      fill: #D2E3FC;\n",
              "    }\n",
              "\n",
              "    [theme=dark] .colab-df-convert:hover {\n",
              "      background-color: #434B5C;\n",
              "      box-shadow: 0px 1px 3px 1px rgba(0, 0, 0, 0.15);\n",
              "      filter: drop-shadow(0px 1px 2px rgba(0, 0, 0, 0.3));\n",
              "      fill: #FFFFFF;\n",
              "    }\n",
              "  </style>\n",
              "\n",
              "      <script>\n",
              "        const buttonEl =\n",
              "          document.querySelector('#df-108f1fa2-9f17-4f64-8d91-ef54a36f3d33 button.colab-df-convert');\n",
              "        buttonEl.style.display =\n",
              "          google.colab.kernel.accessAllowed ? 'block' : 'none';\n",
              "\n",
              "        async function convertToInteractive(key) {\n",
              "          const element = document.querySelector('#df-108f1fa2-9f17-4f64-8d91-ef54a36f3d33');\n",
              "          const dataTable =\n",
              "            await google.colab.kernel.invokeFunction('convertToInteractive',\n",
              "                                                     [key], {});\n",
              "          if (!dataTable) return;\n",
              "\n",
              "          const docLinkHtml = 'Like what you see? Visit the ' +\n",
              "            '<a target=\"_blank\" href=https://colab.research.google.com/notebooks/data_table.ipynb>data table notebook</a>'\n",
              "            + ' to learn more about interactive tables.';\n",
              "          element.innerHTML = '';\n",
              "          dataTable['output_type'] = 'display_data';\n",
              "          await google.colab.output.renderOutput(dataTable, element);\n",
              "          const docLink = document.createElement('div');\n",
              "          docLink.innerHTML = docLinkHtml;\n",
              "          element.appendChild(docLink);\n",
              "        }\n",
              "      </script>\n",
              "    </div>\n",
              "  </div>\n"
            ]
          },
          "metadata": {},
          "execution_count": 36
        }
      ],
      "source": [
        "df.sample(10)             #df.sample() returns a random row from the DataFrame df it return a random sample from the dataset"
      ]
    },
    {
      "cell_type": "code",
      "execution_count": 37,
      "metadata": {
        "colab": {
          "base_uri": "https://localhost:8080/",
          "height": 0
        },
        "id": "Zl09SsU08tja",
        "outputId": "6b1705f1-0c60-4199-c453-a8ce4cc5e9f5"
      },
      "outputs": [
        {
          "output_type": "execute_result",
          "data": {
            "text/plain": [
              "2"
            ]
          },
          "metadata": {},
          "execution_count": 37
        }
      ],
      "source": [
        "#It return the dimensions of the dataset.\n",
        "df.ndim"
      ]
    },
    {
      "cell_type": "code",
      "execution_count": 38,
      "metadata": {
        "colab": {
          "base_uri": "https://localhost:8080/",
          "height": 0
        },
        "id": "09It96Px8zpm",
        "outputId": "5110e162-16da-45b0-cdb3-ef5e29854205"
      },
      "outputs": [
        {
          "output_type": "execute_result",
          "data": {
            "text/plain": [
              "23728"
            ]
          },
          "metadata": {},
          "execution_count": 38
        }
      ],
      "source": [
        "#It return the size of the dataset.\n",
        "df.size"
      ]
    },
    {
      "cell_type": "code",
      "execution_count": 39,
      "metadata": {
        "colab": {
          "base_uri": "https://localhost:8080/",
          "height": 0
        },
        "id": "pxCcUdQ2-tI5",
        "outputId": "85ee0bbe-e9a1-4949-947a-aa40904cf99d"
      },
      "outputs": [
        {
          "output_type": "execute_result",
          "data": {
            "text/plain": [
              "Index(['Age', 'Gender', 'Stream', 'Internships', 'CGPA', 'Hostel',\n",
              "       'HistoryOfBacklogs', 'PlacedOrNot'],\n",
              "      dtype='object')"
            ]
          },
          "metadata": {},
          "execution_count": 39
        }
      ],
      "source": [
        "#It returns the columns which we have in the dataset.\n",
        "df.columns"
      ]
    },
    {
      "cell_type": "markdown",
      "source": [
        "**df.corr()['column_name']** calculates the correlation coefficients between the specified column (column_name) and all other numeric columns in the DataFrame df"
      ],
      "metadata": {
        "id": "HgbG1HV_RpaP"
      }
    },
    {
      "cell_type": "code",
      "execution_count": 40,
      "metadata": {
        "colab": {
          "base_uri": "https://localhost:8080/",
          "height": 0
        },
        "id": "WORkiRyCCipA",
        "outputId": "45caae9a-e134-4c14-a74f-5f265f64639d"
      },
      "outputs": [
        {
          "output_type": "execute_result",
          "data": {
            "text/plain": [
              "Age                  0.046943\n",
              "Internships          0.179334\n",
              "CGPA                 0.588648\n",
              "Hostel              -0.038182\n",
              "HistoryOfBacklogs   -0.022337\n",
              "PlacedOrNot          1.000000\n",
              "Name: PlacedOrNot, dtype: float64"
            ]
          },
          "metadata": {},
          "execution_count": 40
        }
      ],
      "source": [
        "df.corr()['PlacedOrNot']"
      ]
    },
    {
      "cell_type": "markdown",
      "source": [
        "*   Mean: The arithmetic average of the data points in a dataset.\n",
        "*   Median: The middle value that separates the higher and lower halves of the data when arranged in ascending order.\n",
        "*   Mode: The value that appears most frequently in a dataset.\n",
        "*   Standard Deviation (std): A measure of the amount of variation or dispersion in a dataset.\n",
        "*   Minimum (min): The smallest value in the dataset.\n",
        "*   Maximum (max): The largest value in the dataset."
      ],
      "metadata": {
        "id": "BmkgSJ0hSdTa"
      }
    },
    {
      "cell_type": "code",
      "execution_count": 41,
      "metadata": {
        "colab": {
          "base_uri": "https://localhost:8080/",
          "height": 0
        },
        "id": "2wYDcqseDE1V",
        "outputId": "5086869c-d1bd-4b16-8774-502698e36cda"
      },
      "outputs": [
        {
          "output_type": "stream",
          "name": "stdout",
          "text": [
            "The mean of CGPA is:: 7.073836817262306\n",
            "The median of CGPA is:: 7.0\n",
            "The mode of CGPA is:: 0    7\n",
            "Name: CGPA, dtype: int64\n",
            "The min CGPA is:: 5\n",
            "The max CGFA is:: 9\n",
            "The standard deviation found in CGPA is:: 0.9677479876645856\n"
          ]
        }
      ],
      "source": [
        "print(\"The mean of CGPA is::\",df['CGPA'].mean())\n",
        "print(\"The median of CGPA is::\",df['CGPA'].median())\n",
        "print(\"The mode of CGPA is::\",df['CGPA'].mode())\n",
        "print(\"The min CGPA is::\",df['CGPA'].min())\n",
        "print(\"The max CGFA is::\",df['CGPA'].max())\n",
        "print(\"The standard deviation found in CGPA is::\",df['CGPA'].std())"
      ]
    },
    {
      "cell_type": "code",
      "execution_count": 42,
      "metadata": {
        "colab": {
          "base_uri": "https://localhost:8080/",
          "height": 0
        },
        "id": "64xS45kECSWH",
        "outputId": "67332b43-7072-4923-eb3a-db9bfb055af0"
      },
      "outputs": [
        {
          "output_type": "stream",
          "name": "stdout",
          "text": [
            "The mean of CGPA of students is:: 21.48583951449764\n",
            "The median of age is:: 21.0\n",
            "The mode of age is:: 0    21\n",
            "Name: Age, dtype: int64\n",
            "The min of age is:: 19\n",
            "The max of age is:: 30\n",
            "The standard deviation of age is:: 1.3249334527319714\n"
          ]
        }
      ],
      "source": [
        "print(\"The mean of CGPA of students is::\",df['Age'].mean())\n",
        "print(\"The median of age is::\",df['Age'].median())\n",
        "print(\"The mode of age is::\",df['Age'].mode())\n",
        "print(\"The min of age is::\",df['Age'].min())\n",
        "print(\"The max of age is::\",df['Age'].max())\n",
        "print(\"The standard deviation of age is::\",df['Age'].std())"
      ]
    },
    {
      "cell_type": "markdown",
      "source": [
        "#PREPROCESSING"
      ],
      "metadata": {
        "id": "njAV6ENYTX7B"
      }
    },
    {
      "cell_type": "markdown",
      "source": [
        "Checking for Missing Values"
      ],
      "metadata": {
        "id": "BHh4l-x3S2tp"
      }
    },
    {
      "cell_type": "code",
      "execution_count": 43,
      "metadata": {
        "colab": {
          "base_uri": "https://localhost:8080/",
          "height": 0
        },
        "id": "Ic6_HjACDNUF",
        "outputId": "af339a7a-00f6-4969-c844-eed58b1a8da4"
      },
      "outputs": [
        {
          "output_type": "execute_result",
          "data": {
            "text/plain": [
              "Age                  0\n",
              "Gender               0\n",
              "Stream               0\n",
              "Internships          0\n",
              "CGPA                 0\n",
              "Hostel               0\n",
              "HistoryOfBacklogs    0\n",
              "PlacedOrNot          0\n",
              "dtype: int64"
            ]
          },
          "metadata": {},
          "execution_count": 43
        }
      ],
      "source": [
        "# missing values\n",
        "df.isnull().sum()\n",
        "\n",
        "#drop null values if present\n",
        "#df.dropna(inplace=True)"
      ]
    },
    {
      "cell_type": "markdown",
      "source": [
        "Checking Duplicate values\n",
        "*   duplicated()  is used to find duplicate values\n",
        "*   duplicates()  is used to drop duplicate values\n",
        "\n"
      ],
      "metadata": {
        "id": "wW4m7dBBTjlL"
      }
    },
    {
      "cell_type": "code",
      "execution_count": 44,
      "metadata": {
        "colab": {
          "base_uri": "https://localhost:8080/",
          "height": 0
        },
        "id": "yYP98798DVOg",
        "outputId": "feb1f319-ba3b-4f14-a2c6-8de73a789048"
      },
      "outputs": [
        {
          "output_type": "stream",
          "name": "stdout",
          "text": [
            "Total duplicated values are::\n",
            "1829\n",
            "\n",
            " Duplicated values are droped\n"
          ]
        }
      ],
      "source": [
        "# duplicate rows\n",
        "print(\"Total duplicated values are::\")\n",
        "print(df.duplicated().sum())\n",
        "\n",
        "#drop duplicates\n",
        "df.drop_duplicates(inplace=True)\n",
        "print(\"\\n Duplicated values are droped\")"
      ]
    },
    {
      "cell_type": "code",
      "execution_count": 45,
      "metadata": {
        "colab": {
          "base_uri": "https://localhost:8080/",
          "height": 0
        },
        "id": "ZL57R62aK8QJ",
        "outputId": "a31878f1-ebab-49da-f0ae-c5412c4e8971"
      },
      "outputs": [
        {
          "output_type": "stream",
          "name": "stdout",
          "text": [
            "Currently duplicated values are::\n",
            "0\n"
          ]
        }
      ],
      "source": [
        "print(\"Currently duplicated values are::\")\n",
        "print(df.duplicated().sum())"
      ]
    },
    {
      "cell_type": "markdown",
      "source": [
        "**df.skew()** calculates the skewness of each numerical column in the DataFrame df. Skewness measures the asymmetry of the distribution of data points in a dataset."
      ],
      "metadata": {
        "id": "6Ne4z6dRUkGt"
      }
    },
    {
      "cell_type": "code",
      "execution_count": 46,
      "metadata": {
        "colab": {
          "base_uri": "https://localhost:8080/",
          "height": 0
        },
        "id": "A8InuY6GLKk-",
        "outputId": "c3089454-fb7c-4b4a-8bfd-822f44b8ef9e"
      },
      "outputs": [
        {
          "output_type": "execute_result",
          "data": {
            "text/plain": [
              "Age                  0.817990\n",
              "Internships          0.697572\n",
              "CGPA                 0.122766\n",
              "Hostel               0.699651\n",
              "HistoryOfBacklogs    0.892883\n",
              "PlacedOrNot         -0.322920\n",
              "dtype: float64"
            ]
          },
          "metadata": {},
          "execution_count": 46
        }
      ],
      "source": [
        "df.skew()"
      ]
    },
    {
      "cell_type": "code",
      "execution_count": 47,
      "metadata": {
        "colab": {
          "base_uri": "https://localhost:8080/",
          "height": 0
        },
        "id": "wcuCN1OaL3Yv",
        "outputId": "d6ae0464-b7aa-457d-94b9-bbc3e1001c4a"
      },
      "outputs": [
        {
          "output_type": "stream",
          "name": "stdout",
          "text": [
            "<class 'pandas.core.frame.DataFrame'>\n",
            "Int64Index: 1137 entries, 0 to 2960\n",
            "Data columns (total 8 columns):\n",
            " #   Column             Non-Null Count  Dtype \n",
            "---  ------             --------------  ----- \n",
            " 0   Age                1137 non-null   int64 \n",
            " 1   Gender             1137 non-null   object\n",
            " 2   Stream             1137 non-null   object\n",
            " 3   Internships        1137 non-null   int64 \n",
            " 4   CGPA               1137 non-null   int64 \n",
            " 5   Hostel             1137 non-null   int64 \n",
            " 6   HistoryOfBacklogs  1137 non-null   int64 \n",
            " 7   PlacedOrNot        1137 non-null   int64 \n",
            "dtypes: int64(6), object(2)\n",
            "memory usage: 79.9+ KB\n"
          ]
        }
      ],
      "source": [
        "df.info()"
      ]
    },
    {
      "cell_type": "markdown",
      "source": [
        "#Exploratory Data Analysis (EDA)"
      ],
      "metadata": {
        "id": "vhgCx7VIU-pG"
      }
    },
    {
      "cell_type": "markdown",
      "source": [
        "EDA provides a foundation for building accurate models and making data-driven decisions by revealing important insights and patterns hidden within the data.\n",
        "\n",
        "> Data Summary, Data Visualization, Handling Missing Values, Outlier Detection, Feature Relationships, Data Cleaning, Hypothesis Testing."
      ],
      "metadata": {
        "id": "cm6-FbQdVJIm"
      }
    },
    {
      "cell_type": "markdown",
      "source": [
        "**df[\"column_name\"].value_counts()** *returns a Pandas Series that displays the count of each unique value in the specified column (column_name) of the DataFrame df. This provides valuable information about the distribution of values in that particular column.*"
      ],
      "metadata": {
        "id": "WFLrEoIPoAI1"
      }
    },
    {
      "cell_type": "markdown",
      "source": [
        "**There are various kinds of plots available in data visualization libraries like Matplotlib, Seaborn, and Plotly, among others. Here are some common kinds of plots you can create:**\n",
        "\n",
        "* Line Plot: Use kind='line' to create a line plot\n",
        "showing data points connected with lines.\n",
        "* Bar Plot: Use kind='bar' to create a bar plot representing data with rectangular bars.\n",
        "* Histogram: Use kind='hist' to create a histogram, which is used to visualize the distribution of a continuous variable.\n",
        "* Scatter Plot: Use kind='scatter' to create a scatter plot showing the relationship between two numeric variables.\n",
        "* Pie Chart: Use kind='pie' to create a pie chart representing proportions of categorical data.\n",
        "* Box Plot: Use kind='box' to create a box plot showing the distribution of data along quartile ranges.\n",
        "* Violin Plot: Use kind='violin' to create a violin plot, a combination of a box plot and a kernel density plot.\n"
      ],
      "metadata": {
        "id": "mQHDb4fSoUbF"
      }
    },
    {
      "cell_type": "markdown",
      "source": [
        "### Gender Distribution"
      ],
      "metadata": {
        "id": "K3yYKY3-tkOC"
      }
    },
    {
      "cell_type": "code",
      "execution_count": 48,
      "metadata": {
        "colab": {
          "base_uri": "https://localhost:8080/",
          "height": 0
        },
        "id": "UurkCrS_QMKn",
        "outputId": "57574539-f4a1-4004-c88b-d7cace2bf7b4"
      },
      "outputs": [
        {
          "output_type": "stream",
          "name": "stdout",
          "text": [
            "Total Students are 1137\n"
          ]
        },
        {
          "output_type": "execute_result",
          "data": {
            "text/plain": [
              "Male      846\n",
              "Female    291\n",
              "Name: Gender, dtype: int64"
            ]
          },
          "metadata": {},
          "execution_count": 48
        }
      ],
      "source": [
        "print(\"Total Students are\",df[\"Gender\"].count())\n",
        "df[\"Gender\"].value_counts()"
      ]
    },
    {
      "cell_type": "code",
      "source": [
        "sns.countplot(x='Gender', data=df)\n",
        "plt.title('Gender Distribution')\n",
        "plt.show()"
      ],
      "metadata": {
        "colab": {
          "base_uri": "https://localhost:8080/",
          "height": 472
        },
        "id": "5jqsHGZB4xrE",
        "outputId": "287794eb-7742-409a-c44e-79f770dc9fc4"
      },
      "execution_count": 49,
      "outputs": [
        {
          "output_type": "display_data",
          "data": {
            "text/plain": [
              "<Figure size 640x480 with 1 Axes>"
            ],
            "image/png": "[encoded data removed]"
          },
          "metadata": {}
        }
      ]
    },
    {
      "cell_type": "markdown",
      "source": [
        "## Hostel Distribution"
      ],
      "metadata": {
        "id": "FnchRNWMt48I"
      }
    },
    {
      "cell_type": "code",
      "execution_count": 50,
      "metadata": {
        "colab": {
          "base_uri": "https://localhost:8080/",
          "height": 0
        },
        "id": "j7r1TNhrSpnZ",
        "outputId": "a08f1e63-04c8-4c33-9b63-2839a575bb7b"
      },
      "outputs": [
        {
          "output_type": "execute_result",
          "data": {
            "text/plain": [
              "0    756\n",
              "1    381\n",
              "Name: Hostel, dtype: int64"
            ]
          },
          "metadata": {},
          "execution_count": 50
        }
      ],
      "source": [
        "df[\"Hostel\"].value_counts()"
      ]
    },
    {
      "cell_type": "code",
      "execution_count": 51,
      "metadata": {
        "colab": {
          "base_uri": "https://localhost:8080/",
          "height": 423
        },
        "id": "wz2PoilbTaO1",
        "outputId": "8df232f9-1eef-4500-86ec-87ed13f8107a"
      },
      "outputs": [
        {
          "output_type": "execute_result",
          "data": {
            "text/plain": [
              "<Axes: ylabel='Hostel'>"
            ]
          },
          "metadata": {},
          "execution_count": 51
        },
        {
          "output_type": "display_data",
          "data": {
            "text/plain": [
              "<Figure size 640x480 with 1 Axes>"
            ],
            "image/png": "[encoded data removed]"
          },
          "metadata": {}
        }
      ],
      "source": [
        "df[\"Hostel\"].value_counts().plot(kind=\"pie\",autopct=\"%.2f%%\",explode=(0,0.1))"
      ]
    },
    {
      "cell_type": "markdown",
      "source": [
        "## PlacedOrNot Distribution"
      ],
      "metadata": {
        "id": "I_Je3HRFuHxI"
      }
    },
    {
      "cell_type": "code",
      "source": [
        "df[\"PlacedOrNot\"].value_counts().plot(kind=\"bar\")"
      ],
      "metadata": {
        "colab": {
          "base_uri": "https://localhost:8080/",
          "height": 442
        },
        "id": "m-baoelSuGYR",
        "outputId": "d93b7d2d-1189-46de-e978-7d57295b386e"
      },
      "execution_count": 52,
      "outputs": [
        {
          "output_type": "execute_result",
          "data": {
            "text/plain": [
              "<Axes: >"
            ]
          },
          "metadata": {},
          "execution_count": 52
        },
        {
          "output_type": "display_data",
          "data": {
            "text/plain": [
              "<Figure size 640x480 with 1 Axes>"
            ],
            "image/png": "[encoded data removed]"
          },
          "metadata": {}
        }
      ]
    },
    {
      "cell_type": "code",
      "source": [
        "df[\"PlacedOrNot\"].value_counts().plot(kind=\"pie\",autopct=\"%.2f%%\",explode=(0.1,0))"
      ],
      "metadata": {
        "colab": {
          "base_uri": "https://localhost:8080/",
          "height": 423
        },
        "id": "ExOFMPF2ulDL",
        "outputId": "34ed33da-b409-4c08-f09e-9a1882eedcca"
      },
      "execution_count": 53,
      "outputs": [
        {
          "output_type": "execute_result",
          "data": {
            "text/plain": [
              "<Axes: ylabel='PlacedOrNot'>"
            ]
          },
          "metadata": {},
          "execution_count": 53
        },
        {
          "output_type": "display_data",
          "data": {
            "text/plain": [
              "<Figure size 640x480 with 1 Axes>"
            ],
            "image/png": "[encoded data removed]"
          },
          "metadata": {}
        }
      ]
    },
    {
      "cell_type": "markdown",
      "source": [
        "## Distribution Of Stream"
      ],
      "metadata": {
        "id": "pw4nQKRFu9Ch"
      }
    },
    {
      "cell_type": "code",
      "source": [
        "df['Stream'].value_counts()"
      ],
      "metadata": {
        "colab": {
          "base_uri": "https://localhost:8080/",
          "height": 0
        },
        "id": "ePqJvDqQ1qxD",
        "outputId": "20df876a-0f87-4288-c6df-f5bf62870d89"
      },
      "execution_count": 54,
      "outputs": [
        {
          "output_type": "execute_result",
          "data": {
            "text/plain": [
              "Computer Science                 243\n",
              "Information Technology           243\n",
              "Electronics And Communication    174\n",
              "Mechanical                       165\n",
              "Electrical                       160\n",
              "Civil                            152\n",
              "Name: Stream, dtype: int64"
            ]
          },
          "metadata": {},
          "execution_count": 54
        }
      ]
    },
    {
      "cell_type": "code",
      "source": [
        "df[\"Stream\"].value_counts().plot(kind=\"pie\",autopct=\"%.2f%%\",explode=(0.1,0,0,0,0,0))"
      ],
      "metadata": {
        "colab": {
          "base_uri": "https://localhost:8080/",
          "height": 423
        },
        "id": "6AWmG7JIu8Xl",
        "outputId": "1fb55b24-4101-4e84-a8af-c969e552accc"
      },
      "execution_count": 55,
      "outputs": [
        {
          "output_type": "execute_result",
          "data": {
            "text/plain": [
              "<Axes: ylabel='Stream'>"
            ]
          },
          "metadata": {},
          "execution_count": 55
        },
        {
          "output_type": "display_data",
          "data": {
            "text/plain": [
              "<Figure size 640x480 with 1 Axes>"
            ],
            "image/png": "[encoded data removed]"
          },
          "metadata": {}
        }
      ]
    },
    {
      "cell_type": "markdown",
      "source": [
        "##CGPA Distribution"
      ],
      "metadata": {
        "id": "Rknx9vmT61Mg"
      }
    },
    {
      "cell_type": "code",
      "source": [
        "sns.histplot(df['CGPA'], bins=10)\n",
        "plt.title('CGPA Distribution')\n",
        "plt.show()"
      ],
      "metadata": {
        "colab": {
          "base_uri": "https://localhost:8080/",
          "height": 472
        },
        "id": "gxqgn_sk60G_",
        "outputId": "ec93ac48-3585-41f6-8932-bb415b8242fd"
      },
      "execution_count": 56,
      "outputs": [
        {
          "output_type": "display_data",
          "data": {
            "text/plain": [
              "<Figure size 640x480 with 1 Axes>"
            ],
            "image/png": "[encoded data removed]"
          },
          "metadata": {}
        }
      ]
    },
    {
      "cell_type": "markdown",
      "source": [
        "##Internship Distribution"
      ],
      "metadata": {
        "id": "QmfUwg4F7JBm"
      }
    },
    {
      "cell_type": "code",
      "source": [
        "sns.countplot(x='Internships', data=df)\n",
        "plt.title('Number of Internships')\n",
        "plt.show()"
      ],
      "metadata": {
        "colab": {
          "base_uri": "https://localhost:8080/",
          "height": 472
        },
        "id": "Rjvn4Jvi6_wk",
        "outputId": "42e997e9-3567-4c75-e459-7f6fced891a8"
      },
      "execution_count": 57,
      "outputs": [
        {
          "output_type": "display_data",
          "data": {
            "text/plain": [
              "<Figure size 640x480 with 1 Axes>"
            ],
            "image/png": "[encoded data removed]"
          },
          "metadata": {}
        }
      ]
    },
    {
      "cell_type": "markdown",
      "source": [
        "##HIstoryOfBacklogs Distribution"
      ],
      "metadata": {
        "id": "wQ-ad0Se7Zte"
      }
    },
    {
      "cell_type": "code",
      "source": [
        "sns.countplot(x='HistoryOfBacklogs', data=df)\n",
        "plt.title('History of Backlogs')\n",
        "plt.show()"
      ],
      "metadata": {
        "colab": {
          "base_uri": "https://localhost:8080/",
          "height": 472
        },
        "id": "4YC9UENC7Y7O",
        "outputId": "133f2c94-f03d-481f-b0de-a196a00b05d6"
      },
      "execution_count": 58,
      "outputs": [
        {
          "output_type": "display_data",
          "data": {
            "text/plain": [
              "<Figure size 640x480 with 1 Axes>"
            ],
            "image/png": "[encoded data removed]"
          },
          "metadata": {}
        }
      ]
    },
    {
      "cell_type": "markdown",
      "source": [
        "## Graph to visualize the output(PlacedOrNot) wrt 2 major features(CGPA and Internships)"
      ],
      "metadata": {
        "id": "5-hkmhVFwShD"
      }
    },
    {
      "cell_type": "code",
      "execution_count": 59,
      "metadata": {
        "colab": {
          "base_uri": "https://localhost:8080/",
          "height": 447
        },
        "id": "hwTmWMX1UFkI",
        "outputId": "f7878764-51d0-4353-dd85-1ab25c5d2b7b"
      },
      "outputs": [
        {
          "output_type": "execute_result",
          "data": {
            "text/plain": [
              "<matplotlib.collections.PathCollection at 0x79cdfc6e3310>"
            ]
          },
          "metadata": {},
          "execution_count": 59
        },
        {
          "output_type": "display_data",
          "data": {
            "text/plain": [
              "<Figure size 640x480 with 1 Axes>"
            ],
            "image/png": "[encoded data removed]"
          },
          "metadata": {}
        }
      ],
      "source": [
        "#Plot the graph to visualize the output using the matplotlib\n",
        "plt.scatter(df['CGPA'],df['Internships'],c=df['PlacedOrNot'])"
      ]
    },
    {
      "cell_type": "code",
      "execution_count": 60,
      "metadata": {
        "colab": {
          "base_uri": "https://localhost:8080/",
          "height": 542
        },
        "id": "xpRBgaJsXbez",
        "outputId": "836d6cdb-1efe-43fa-87c7-e0215310c890"
      },
      "outputs": [
        {
          "output_type": "display_data",
          "data": {
            "text/html": [
              "<html>\n",
              "<head><meta charset=\"utf-8\" /></head>\n",
              "<body>\n",
              "    <div>            <script src=\"https://cdnjs.cloudflare.com/ajax/libs/mathjax/2.7.5/MathJax.js?config=TeX-AMS-MML_SVG\"></script><script type=\"text/javascript\">if (window.MathJax && window.MathJax.Hub && window.MathJax.Hub.Config) {window.MathJax.Hub.Config({SVG: {font: \"STIX-Web\"}});}</script>                <script type=\"text/javascript\">window.PlotlyConfig = {MathJaxConfig: 'local'};</script>\n",
              "        <script src=\"https://cdn.plot.ly/plotly-2.18.2.min.js\"></script>                <div id=\"fb694bd5-c6c8-4b77-8b0b-7eb486f78a5b\" class=\"plotly-graph-div\" style=\"height:525px; width:100%;\"></div>            <script type=\"text/javascript\">                                    window.PLOTLYENV=window.PLOTLYENV || {};                                    if (document.getElementById(\"fb694bd5-c6c8-4b77-8b0b-7eb486f78a5b\")) {                    Plotly.newPlot(                        \"fb694bd5-c6c8-4b77-8b0b-7eb486f78a5b\",                        [{\"hovertemplate\":\"CGPA=%{x}<br>Internships=%{y}<br>PlacedOrNot=%{marker.color}<extra></extra>\",\"legendgroup\":\"\",\"marker\":{\"color\":[1,1,1,1,1,0,0,0,1,0,0,1,0,1,1,0,0,0,1,0,0,0,0,1,1,1,1,1,1,0,0,1,0,1,1,0,1,0,1,1,1,1,1,1,0,1,1,1,0,1,1,1,1,1,1,1,1,1,1,1,1,1,1,1,1,1,1,1,1,1,1,1,1,1,0,0,0,1,1,1,0,0,0,0,1,1,0,1,0,0,1,1,1,1,1,1,0,1,0,1,1,1,1,0,1,1,0,0,1,0,1,0,0,1,1,1,1,0,0,1,1,1,1,1,1,0,1,0,0,1,1,0,1,0,1,1,0,0,1,1,0,0,1,0,1,0,0,1,1,0,1,0,0,1,0,0,0,0,0,0,0,0,0,0,0,0,0,0,0,1,0,1,0,0,1,1,0,0,1,0,0,1,1,0,0,0,0,0,1,1,0,1,1,0,0,1,0,0,1,0,0,1,1,1,1,1,0,1,1,0,1,0,0,0,1,0,0,1,1,1,1,1,1,0,0,0,0,1,1,1,0,0,1,1,1,1,1,1,1,1,1,0,1,0,0,1,0,1,1,1,1,1,1,0,1,1,1,1,0,0,0,0,0,0,0,0,0,0,0,0,0,1,1,0,0,0,0,0,0,0,1,0,0,0,0,0,0,0,0,0,1,1,0,1,0,1,0,1,1,1,0,0,1,1,0,1,1,0,1,1,1,0,1,1,1,0,1,1,1,1,1,1,1,1,0,1,1,1,0,0,0,0,0,1,0,1,0,1,1,1,1,1,0,0,0,1,0,0,0,0,1,1,1,1,1,1,0,1,0,0,1,1,1,1,0,1,1,0,1,1,0,1,1,0,1,1,0,0,0,0,0,0,0,1,0,1,0,1,1,1,1,1,1,1,1,1,1,1,1,1,1,0,1,1,1,1,1,0,1,1,1,1,1,1,0,0,1,1,0,1,1,1,0,1,1,0,1,0,1,1,0,0,1,1,1,1,1,1,1,1,0,0,1,0,1,1,1,1,1,1,1,1,1,0,1,1,1,1,1,0,1,1,1,1,1,1,0,0,0,1,1,1,1,1,1,0,0,0,1,1,1,1,1,0,1,1,0,0,1,1,1,1,0,1,1,1,0,0,0,0,1,1,1,0,1,0,1,1,0,1,1,1,1,0,1,0,0,1,1,1,1,1,1,1,1,1,1,1,1,1,1,1,1,0,1,1,1,1,1,1,1,1,1,1,1,1,1,1,1,1,0,0,1,1,1,1,1,1,1,0,1,1,0,1,1,1,1,1,1,1,1,1,1,0,1,1,0,1,1,1,0,1,1,0,0,0,1,0,1,0,1,1,1,1,0,1,1,0,0,1,1,1,1,0,1,1,0,1,1,1,1,0,1,1,1,1,0,0,0,0,0,0,0,0,0,1,0,1,0,1,1,1,1,0,1,1,1,1,0,0,1,0,1,0,1,1,1,0,0,0,0,0,0,1,1,0,1,0,0,0,0,0,0,1,1,1,1,1,1,1,1,1,1,0,0,0,0,0,0,0,0,0,1,0,0,0,0,0,0,1,1,1,0,1,0,0,1,1,0,0,0,1,0,1,0,1,1,1,1,0,1,0,1,0,0,1,1,1,1,1,1,1,0,1,1,0,0,1,0,1,1,0,1,0,1,1,1,0,0,0,0,0,0,0,1,0,0,0,0,0,1,0,0,0,1,0,0,0,0,0,1,0,0,1,0,0,0,0,0,0,0,1,0,1,0,0,1,1,0,0,0,0,1,0,0,0,1,1,1,0,0,0,0,0,1,1,0,1,1,1,1,0,0,1,0,0,0,1,0,0,1,0,1,1,1,1,1,1,1,1,1,1,0,1,1,1,1,1,1,0,0,0,1,1,1,1,1,1,0,1,1,0,1,1,1,1,1,0,1,0,0,1,0,0,1,1,0,0,1,0,0,0,0,1,0,1,1,0,0,1,0,0,1,1,0,1,0,1,1,0,1,1,1,0,0,1,0,1,0,1,1,1,0,1,1,0,0,1,1,1,1,1,0,0,0,0,0,0,1,0,1,1,1,0,1,1,1,1,1,1,1,1,1,1,1,0,1,1,0,1,1,0,1,1,0,1,1,1,1,0,0,1,0,1,0,1,1,1,0,1,1,1,0,1,1,0,0,0,1,1,1,0,0,1,0,1,1,0,0,0,1,0,0,0,0,1,0,1,1,1,1,0,1,1,0,0,1,1,1,1,0,0,0,0,0,0,0,1,0,0,1,1,0,0,0,0,0,0,0,0,0,1,1,1,0,1,0,1,0,1,0,1,0,0,0,0,0,1,1,1,1,0,1,1,0,1,0,1,0,0,1,0,0,0,0,0,0,0,0,1,1,1,1,1,1,1,1,1,1,1,1,1,1,1,1,1,1,1,1,1,1,1,1,1,1,0,1,1,1,1,1,1,1,1,1,1,1,0,1,1,1,1,0,0,1,1,0,0,0,0,1,1,1,0,0,0,0,0,1,1,0,1,0,1,1,0,1,0,1,1,1,1,1,0,1,1,0,0,1,0,0,0,0,1,1,0,0],\"coloraxis\":\"coloraxis\",\"symbol\":\"circle\"},\"mode\":\"markers\",\"name\":\"\",\"showlegend\":false,\"x\":[8,7,6,8,8,6,7,7,6,6,7,8,6,8,8,7,6,7,8,6,7,7,7,8,8,8,6,8,7,7,7,6,6,7,8,6,8,6,8,7,8,6,7,7,7,8,8,8,6,7,8,8,8,9,8,8,9,8,9,9,9,8,9,9,9,9,8,8,8,9,9,8,7,8,6,6,7,8,6,6,7,7,7,7,7,6,5,6,5,6,6,7,7,7,6,6,7,6,6,7,5,6,6,7,5,7,5,7,7,5,6,6,7,6,6,6,5,5,5,5,7,7,5,7,6,5,7,5,6,7,6,5,6,6,7,7,5,5,6,6,5,6,6,5,6,6,7,7,7,7,6,5,6,6,6,5,5,7,7,5,6,5,7,5,5,5,6,5,7,7,6,6,7,7,8,8,6,6,6,7,7,8,8,6,7,6,6,6,8,8,7,7,8,7,6,8,7,6,6,7,6,8,8,8,8,6,6,8,8,7,6,6,7,6,8,7,7,6,7,8,6,7,6,6,7,6,6,7,7,6,7,6,8,6,6,8,7,8,6,6,6,6,7,6,6,6,7,7,6,8,7,7,6,6,8,8,7,8,7,6,6,6,7,7,7,6,6,6,7,7,6,8,8,6,6,6,5,6,5,5,6,5,5,7,7,6,6,6,6,6,7,8,6,8,6,8,6,8,8,6,7,7,7,7,6,6,8,7,6,6,7,7,8,8,8,7,6,6,7,7,6,8,8,7,7,6,8,8,7,6,7,6,7,8,7,8,6,8,8,8,8,8,6,7,7,8,7,6,7,7,8,7,8,6,7,7,7,8,6,6,7,8,8,6,7,8,6,6,6,8,7,8,8,7,7,6,6,7,7,7,6,7,6,8,6,6,7,6,8,6,6,8,9,7,9,6,6,8,8,8,6,7,9,8,8,8,8,7,9,8,9,6,9,8,7,7,8,9,7,9,8,8,7,7,8,7,7,7,8,6,6,7,6,8,6,8,8,6,6,8,7,7,8,6,8,8,8,7,8,6,8,8,7,7,8,7,8,7,6,6,6,6,8,7,7,8,6,7,7,8,8,7,7,7,8,6,7,6,6,8,7,8,6,6,7,8,7,7,6,7,7,6,6,8,8,7,6,6,7,7,8,6,8,7,6,7,8,8,7,8,9,8,7,7,9,7,7,7,9,9,9,9,8,9,9,8,9,9,8,9,9,9,8,7,9,7,7,9,9,9,9,9,8,9,9,9,9,9,9,9,7,7,9,9,8,9,8,9,9,7,8,9,7,9,8,8,9,9,9,9,9,8,7,7,6,6,7,7,6,7,7,6,6,7,7,7,6,7,6,7,6,6,6,6,7,6,6,7,7,7,6,7,7,7,6,6,7,6,7,7,7,7,6,6,6,6,7,7,7,6,6,7,7,6,6,8,7,6,6,8,8,6,8,6,8,6,6,8,7,7,7,7,7,7,6,8,8,7,6,7,6,6,7,8,7,7,8,7,7,7,6,6,6,7,7,7,8,8,7,8,7,8,6,6,5,5,6,5,5,5,5,6,6,5,5,5,5,5,6,7,7,6,7,7,7,6,8,8,7,7,7,8,7,8,7,8,8,8,7,7,7,7,8,7,6,8,7,6,8,6,7,7,7,8,7,7,7,8,7,8,8,6,6,6,8,7,8,7,7,6,5,5,5,5,6,5,5,5,5,5,6,5,5,6,6,5,5,5,5,5,6,5,6,6,5,5,5,5,6,6,6,8,7,8,6,7,8,8,7,6,7,6,8,7,6,6,7,6,8,6,6,7,7,6,7,8,7,8,8,8,8,7,7,7,7,7,7,7,7,7,7,6,8,6,7,8,8,7,8,8,7,7,7,8,8,8,8,8,7,7,7,7,7,7,8,8,8,8,7,7,8,7,8,8,8,8,8,7,8,7,7,8,7,7,8,7,6,7,8,6,6,7,6,8,6,6,7,6,6,6,7,6,8,8,6,8,7,8,6,7,8,7,7,6,6,8,6,7,6,8,7,9,6,9,6,7,5,9,8,9,6,7,5,5,5,5,5,5,9,5,9,6,9,5,8,9,6,9,8,9,8,7,9,9,7,7,9,7,5,9,7,5,9,9,5,9,6,9,8,7,6,6,7,7,6,6,7,7,6,6,6,6,6,8,8,6,6,6,8,8,8,7,6,7,7,6,7,7,6,6,6,6,6,7,7,7,6,7,7,7,8,6,8,8,7,6,8,8,8,7,7,7,7,7,6,7,6,6,6,7,7,8,7,7,6,6,7,6,6,6,7,8,8,6,6,8,7,8,6,8,6,6,7,6,7,7,6,7,7,6,8,7,8,8,6,6,6,8,7,6,6,6,7,7,7,6,6,7,7,9,9,7,9,7,9,9,8,9,9,9,9,7,9,9,9,8,9,8,9,9,9,7,9,7,7,7,9,9,9,9,8,8,8,9,9,9,8,7,8,7,8,8,7,7,8,8,7,6,6,6,6,8,8,6,7,6,6,7,8,7,6,7,6,8,8,7,8,6,8,8,7,8,6,6,8,8,6,6,8,6,6,7,7,8,8,6,7],\"xaxis\":\"x\",\"y\":[1,0,1,0,0,0,0,1,2,1,1,1,2,1,2,1,0,1,0,1,0,1,0,0,1,1,0,1,1,1,0,1,1,0,1,1,0,1,0,1,2,3,1,2,0,0,1,1,3,1,0,0,1,2,0,0,0,1,0,1,2,0,0,3,1,0,0,0,1,0,1,0,2,0,0,1,1,1,1,1,2,2,0,0,0,0,1,2,0,1,0,1,1,1,1,1,0,0,0,1,3,0,2,1,1,2,1,1,2,0,0,0,1,1,1,0,0,0,0,1,0,3,2,0,1,0,1,0,2,0,2,0,2,1,0,0,0,1,3,0,0,1,1,2,1,0,0,0,0,1,1,1,1,2,1,0,2,1,1,1,0,0,0,0,0,1,2,1,2,2,1,2,1,0,0,2,0,1,3,1,1,1,2,1,0,0,1,0,1,0,1,2,1,1,0,2,0,1,2,1,1,3,0,1,1,2,1,1,1,1,2,0,1,0,0,0,1,0,2,1,0,0,1,2,0,1,2,2,1,1,0,0,2,0,1,0,2,1,0,0,0,0,0,1,1,0,0,2,0,1,1,0,0,0,2,0,0,0,1,0,0,0,0,0,0,1,1,1,0,0,0,1,2,0,0,1,1,0,1,1,2,2,0,2,0,1,0,0,0,2,3,0,1,1,0,1,1,1,0,2,1,0,0,0,1,0,1,0,1,0,0,2,1,0,0,1,2,0,2,1,0,3,3,0,0,2,0,1,0,1,2,0,1,1,1,1,1,1,1,1,0,1,1,1,1,0,0,0,0,2,0,1,1,1,2,1,2,1,2,1,1,2,2,2,1,2,2,1,2,2,2,2,2,1,1,0,1,1,1,1,1,0,0,2,0,2,0,2,1,2,0,1,0,1,0,1,1,0,0,0,1,0,1,0,2,1,1,1,1,2,0,0,0,0,1,1,0,0,0,0,1,1,0,3,1,1,1,0,0,1,1,0,1,0,0,1,1,1,1,2,1,0,2,0,1,2,0,1,0,0,1,0,0,3,0,0,0,2,0,1,2,0,1,1,0,3,1,1,2,2,1,2,1,0,0,1,0,0,1,1,2,1,2,1,2,2,2,2,2,1,1,1,1,2,2,2,1,1,2,1,2,2,2,2,2,2,2,2,2,1,1,2,2,2,2,2,1,2,1,1,2,2,1,2,1,2,2,2,1,2,1,2,2,2,1,2,1,0,0,1,0,0,1,0,2,0,1,0,0,0,1,1,1,1,1,0,1,0,0,1,2,1,0,2,2,1,0,1,0,0,1,1,0,0,1,0,0,1,1,2,1,1,0,1,1,0,0,1,0,1,0,0,0,0,0,0,1,1,0,1,1,0,0,0,0,1,0,1,1,2,0,1,0,0,1,0,1,0,1,1,1,3,1,0,1,0,2,3,1,3,1,3,1,3,1,1,1,0,1,0,1,2,2,0,1,0,1,0,1,1,1,0,0,0,1,1,0,0,1,2,0,1,0,0,2,1,0,1,1,0,1,0,2,0,2,1,1,0,1,0,0,2,0,1,2,0,0,0,1,0,1,1,1,1,0,0,0,0,0,0,0,1,1,0,2,2,0,1,1,1,0,1,1,2,0,3,0,0,0,2,0,1,0,1,2,1,0,1,0,0,0,1,1,0,0,1,2,0,0,0,1,0,0,2,0,0,1,1,1,0,0,0,1,1,2,0,1,0,0,2,3,1,0,1,0,1,0,0,1,0,0,1,3,0,1,0,1,1,1,1,0,1,0,1,1,1,0,0,1,0,1,1,0,1,1,1,1,1,0,0,2,0,0,1,1,1,0,1,0,0,2,0,2,2,2,1,1,0,0,0,1,1,3,1,0,1,1,1,1,0,1,3,1,0,3,1,1,1,1,2,0,0,0,1,1,1,1,1,2,1,0,0,1,1,2,0,0,0,0,0,0,1,1,2,0,3,2,1,2,2,0,0,1,2,0,2,1,0,2,2,0,3,1,0,0,0,1,1,0,1,2,1,0,1,1,0,0,0,2,0,3,1,1,0,1,1,0,2,0,0,0,0,1,0,1,1,1,1,2,1,0,1,3,0,0,0,1,2,1,1,3,0,0,3,0,3,1,2,1,0,1,2,0,1,0,1,0,1,0,0,1,3,1,1,0,1,1,1,1,1,0,0,0,2,0,1,0,0,0,3,2,1,1,0,0,1,0,0,2,1,1,0,0,2,1,1,1,0,0,2,1,0,0,1,3,1,1,2,1,1,1,0,1,1,0,0,0,0,1,0,0,0,1,0,1,0,0,1,1,2,1,2,2,0,0,3,0,1,2,2,0,2,0,0,1,3,0,3,1,0,2,0,0,0,1,0,2,1,0,2,0,0,1,3,0,1,0,1,0,2,0,1,0,0,0,1,3,3,3,0,1,1,0,1,0,1,0,1,0,0,0,1,3,1,0,1,1,1,2,1,2,2,1,1,0,2,1,0,0,1,2,1,0,0,0,0,1,1,3,1,1,1,1,1,1,1,1,1,3,2,0,0,2,0,0,1,1,0,0,0,0,1,1,0,1,0,1],\"yaxis\":\"y\",\"type\":\"scattergl\"}],                        {\"template\":{\"data\":{\"histogram2dcontour\":[{\"type\":\"histogram2dcontour\",\"colorbar\":{\"outlinewidth\":0,\"ticks\":\"\"},\"colorscale\":[[0.0,\"#0d0887\"],[0.1111111111111111,\"#46039f\"],[0.2222222222222222,\"#7201a8\"],[0.3333333333333333,\"#9c179e\"],[0.4444444444444444,\"#bd3786\"],[0.5555555555555556,\"#d8576b\"],[0.6666666666666666,\"#ed7953\"],[0.7777777777777778,\"#fb9f3a\"],[0.8888888888888888,\"#fdca26\"],[1.0,\"#f0f921\"]]}],\"choropleth\":[{\"type\":\"choropleth\",\"colorbar\":{\"outlinewidth\":0,\"ticks\":\"\"}}],\"histogram2d\":[{\"type\":\"histogram2d\",\"colorbar\":{\"outlinewidth\":0,\"ticks\":\"\"},\"colorscale\":[[0.0,\"#0d0887\"],[0.1111111111111111,\"#46039f\"],[0.2222222222222222,\"#7201a8\"],[0.3333333333333333,\"#9c179e\"],[0.4444444444444444,\"#bd3786\"],[0.5555555555555556,\"#d8576b\"],[0.6666666666666666,\"#ed7953\"],[0.7777777777777778,\"#fb9f3a\"],[0.8888888888888888,\"#fdca26\"],[1.0,\"#f0f921\"]]}],\"heatmap\":[{\"type\":\"heatmap\",\"colorbar\":{\"outlinewidth\":0,\"ticks\":\"\"},\"colorscale\":[[0.0,\"#0d0887\"],[0.1111111111111111,\"#46039f\"],[0.2222222222222222,\"#7201a8\"],[0.3333333333333333,\"#9c179e\"],[0.4444444444444444,\"#bd3786\"],[0.5555555555555556,\"#d8576b\"],[0.6666666666666666,\"#ed7953\"],[0.7777777777777778,\"#fb9f3a\"],[0.8888888888888888,\"#fdca26\"],[1.0,\"#f0f921\"]]}],\"heatmapgl\":[{\"type\":\"heatmapgl\",\"colorbar\":{\"outlinewidth\":0,\"ticks\":\"\"},\"colorscale\":[[0.0,\"#0d0887\"],[0.1111111111111111,\"#46039f\"],[0.2222222222222222,\"#7201a8\"],[0.3333333333333333,\"#9c179e\"],[0.4444444444444444,\"#bd3786\"],[0.5555555555555556,\"#d8576b\"],[0.6666666666666666,\"#ed7953\"],[0.7777777777777778,\"#fb9f3a\"],[0.8888888888888888,\"#fdca26\"],[1.0,\"#f0f921\"]]}],\"contourcarpet\":[{\"type\":\"contourcarpet\",\"colorbar\":{\"outlinewidth\":0,\"ticks\":\"\"}}],\"contour\":[{\"type\":\"contour\",\"colorbar\":{\"outlinewidth\":0,\"ticks\":\"\"},\"colorscale\":[[0.0,\"#0d0887\"],[0.1111111111111111,\"#46039f\"],[0.2222222222222222,\"#7201a8\"],[0.3333333333333333,\"#9c179e\"],[0.4444444444444444,\"#bd3786\"],[0.5555555555555556,\"#d8576b\"],[0.6666666666666666,\"#ed7953\"],[0.7777777777777778,\"#fb9f3a\"],[0.8888888888888888,\"#fdca26\"],[1.0,\"#f0f921\"]]}],\"surface\":[{\"type\":\"surface\",\"colorbar\":{\"outlinewidth\":0,\"ticks\":\"\"},\"colorscale\":[[0.0,\"#0d0887\"],[0.1111111111111111,\"#46039f\"],[0.2222222222222222,\"#7201a8\"],[0.3333333333333333,\"#9c179e\"],[0.4444444444444444,\"#bd3786\"],[0.5555555555555556,\"#d8576b\"],[0.6666666666666666,\"#ed7953\"],[0.7777777777777778,\"#fb9f3a\"],[0.8888888888888888,\"#fdca26\"],[1.0,\"#f0f921\"]]}],\"mesh3d\":[{\"type\":\"mesh3d\",\"colorbar\":{\"outlinewidth\":0,\"ticks\":\"\"}}],\"scatter\":[{\"fillpattern\":{\"fillmode\":\"overlay\",\"size\":10,\"solidity\":0.2},\"type\":\"scatter\"}],\"parcoords\":[{\"type\":\"parcoords\",\"line\":{\"colorbar\":{\"outlinewidth\":0,\"ticks\":\"\"}}}],\"scatterpolargl\":[{\"type\":\"scatterpolargl\",\"marker\":{\"colorbar\":{\"outlinewidth\":0,\"ticks\":\"\"}}}],\"bar\":[{\"error_x\":{\"color\":\"#2a3f5f\"},\"error_y\":{\"color\":\"#2a3f5f\"},\"marker\":{\"line\":{\"color\":\"#E5ECF6\",\"width\":0.5},\"pattern\":{\"fillmode\":\"overlay\",\"size\":10,\"solidity\":0.2}},\"type\":\"bar\"}],\"scattergeo\":[{\"type\":\"scattergeo\",\"marker\":{\"colorbar\":{\"outlinewidth\":0,\"ticks\":\"\"}}}],\"scatterpolar\":[{\"type\":\"scatterpolar\",\"marker\":{\"colorbar\":{\"outlinewidth\":0,\"ticks\":\"\"}}}],\"histogram\":[{\"marker\":{\"pattern\":{\"fillmode\":\"overlay\",\"size\":10,\"solidity\":0.2}},\"type\":\"histogram\"}],\"scattergl\":[{\"type\":\"scattergl\",\"marker\":{\"colorbar\":{\"outlinewidth\":0,\"ticks\":\"\"}}}],\"scatter3d\":[{\"type\":\"scatter3d\",\"line\":{\"colorbar\":{\"outlinewidth\":0,\"ticks\":\"\"}},\"marker\":{\"colorbar\":{\"outlinewidth\":0,\"ticks\":\"\"}}}],\"scattermapbox\":[{\"type\":\"scattermapbox\",\"marker\":{\"colorbar\":{\"outlinewidth\":0,\"ticks\":\"\"}}}],\"scatterternary\":[{\"type\":\"scatterternary\",\"marker\":{\"colorbar\":{\"outlinewidth\":0,\"ticks\":\"\"}}}],\"scattercarpet\":[{\"type\":\"scattercarpet\",\"marker\":{\"colorbar\":{\"outlinewidth\":0,\"ticks\":\"\"}}}],\"carpet\":[{\"aaxis\":{\"endlinecolor\":\"#2a3f5f\",\"gridcolor\":\"white\",\"linecolor\":\"white\",\"minorgridcolor\":\"white\",\"startlinecolor\":\"#2a3f5f\"},\"baxis\":{\"endlinecolor\":\"#2a3f5f\",\"gridcolor\":\"white\",\"linecolor\":\"white\",\"minorgridcolor\":\"white\",\"startlinecolor\":\"#2a3f5f\"},\"type\":\"carpet\"}],\"table\":[{\"cells\":{\"fill\":{\"color\":\"#EBF0F8\"},\"line\":{\"color\":\"white\"}},\"header\":{\"fill\":{\"color\":\"#C8D4E3\"},\"line\":{\"color\":\"white\"}},\"type\":\"table\"}],\"barpolar\":[{\"marker\":{\"line\":{\"color\":\"#E5ECF6\",\"width\":0.5},\"pattern\":{\"fillmode\":\"overlay\",\"size\":10,\"solidity\":0.2}},\"type\":\"barpolar\"}],\"pie\":[{\"automargin\":true,\"type\":\"pie\"}]},\"layout\":{\"autotypenumbers\":\"strict\",\"colorway\":[\"#636efa\",\"#EF553B\",\"#00cc96\",\"#ab63fa\",\"#FFA15A\",\"#19d3f3\",\"#FF6692\",\"#B6E880\",\"#FF97FF\",\"#FECB52\"],\"font\":{\"color\":\"#2a3f5f\"},\"hovermode\":\"closest\",\"hoverlabel\":{\"align\":\"left\"},\"paper_bgcolor\":\"white\",\"plot_bgcolor\":\"#E5ECF6\",\"polar\":{\"bgcolor\":\"#E5ECF6\",\"angularaxis\":{\"gridcolor\":\"white\",\"linecolor\":\"white\",\"ticks\":\"\"},\"radialaxis\":{\"gridcolor\":\"white\",\"linecolor\":\"white\",\"ticks\":\"\"}},\"ternary\":{\"bgcolor\":\"#E5ECF6\",\"aaxis\":{\"gridcolor\":\"white\",\"linecolor\":\"white\",\"ticks\":\"\"},\"baxis\":{\"gridcolor\":\"white\",\"linecolor\":\"white\",\"ticks\":\"\"},\"caxis\":{\"gridcolor\":\"white\",\"linecolor\":\"white\",\"ticks\":\"\"}},\"coloraxis\":{\"colorbar\":{\"outlinewidth\":0,\"ticks\":\"\"}},\"colorscale\":{\"sequential\":[[0.0,\"#0d0887\"],[0.1111111111111111,\"#46039f\"],[0.2222222222222222,\"#7201a8\"],[0.3333333333333333,\"#9c179e\"],[0.4444444444444444,\"#bd3786\"],[0.5555555555555556,\"#d8576b\"],[0.6666666666666666,\"#ed7953\"],[0.7777777777777778,\"#fb9f3a\"],[0.8888888888888888,\"#fdca26\"],[1.0,\"#f0f921\"]],\"sequentialminus\":[[0.0,\"#0d0887\"],[0.1111111111111111,\"#46039f\"],[0.2222222222222222,\"#7201a8\"],[0.3333333333333333,\"#9c179e\"],[0.4444444444444444,\"#bd3786\"],[0.5555555555555556,\"#d8576b\"],[0.6666666666666666,\"#ed7953\"],[0.7777777777777778,\"#fb9f3a\"],[0.8888888888888888,\"#fdca26\"],[1.0,\"#f0f921\"]],\"diverging\":[[0,\"#8e0152\"],[0.1,\"#c51b7d\"],[0.2,\"#de77ae\"],[0.3,\"#f1b6da\"],[0.4,\"#fde0ef\"],[0.5,\"#f7f7f7\"],[0.6,\"#e6f5d0\"],[0.7,\"#b8e186\"],[0.8,\"#7fbc41\"],[0.9,\"#4d9221\"],[1,\"#276419\"]]},\"xaxis\":{\"gridcolor\":\"white\",\"linecolor\":\"white\",\"ticks\":\"\",\"title\":{\"standoff\":15},\"zerolinecolor\":\"white\",\"automargin\":true,\"zerolinewidth\":2},\"yaxis\":{\"gridcolor\":\"white\",\"linecolor\":\"white\",\"ticks\":\"\",\"title\":{\"standoff\":15},\"zerolinecolor\":\"white\",\"automargin\":true,\"zerolinewidth\":2},\"scene\":{\"xaxis\":{\"backgroundcolor\":\"#E5ECF6\",\"gridcolor\":\"white\",\"linecolor\":\"white\",\"showbackground\":true,\"ticks\":\"\",\"zerolinecolor\":\"white\",\"gridwidth\":2},\"yaxis\":{\"backgroundcolor\":\"#E5ECF6\",\"gridcolor\":\"white\",\"linecolor\":\"white\",\"showbackground\":true,\"ticks\":\"\",\"zerolinecolor\":\"white\",\"gridwidth\":2},\"zaxis\":{\"backgroundcolor\":\"#E5ECF6\",\"gridcolor\":\"white\",\"linecolor\":\"white\",\"showbackground\":true,\"ticks\":\"\",\"zerolinecolor\":\"white\",\"gridwidth\":2}},\"shapedefaults\":{\"line\":{\"color\":\"#2a3f5f\"}},\"annotationdefaults\":{\"arrowcolor\":\"#2a3f5f\",\"arrowhead\":0,\"arrowwidth\":1},\"geo\":{\"bgcolor\":\"white\",\"landcolor\":\"#E5ECF6\",\"subunitcolor\":\"white\",\"showland\":true,\"showlakes\":true,\"lakecolor\":\"white\"},\"title\":{\"x\":0.05},\"mapbox\":{\"style\":\"light\"}}},\"xaxis\":{\"anchor\":\"y\",\"domain\":[0.0,1.0],\"title\":{\"text\":\"CGPA\"}},\"yaxis\":{\"anchor\":\"x\",\"domain\":[0.0,1.0],\"title\":{\"text\":\"Internships\"}},\"coloraxis\":{\"colorbar\":{\"title\":{\"text\":\"PlacedOrNot\"}},\"colorscale\":[[0.0,\"#0d0887\"],[0.1111111111111111,\"#46039f\"],[0.2222222222222222,\"#7201a8\"],[0.3333333333333333,\"#9c179e\"],[0.4444444444444444,\"#bd3786\"],[0.5555555555555556,\"#d8576b\"],[0.6666666666666666,\"#ed7953\"],[0.7777777777777778,\"#fb9f3a\"],[0.8888888888888888,\"#fdca26\"],[1.0,\"#f0f921\"]]},\"legend\":{\"tracegroupgap\":0},\"margin\":{\"t\":60}},                        {\"responsive\": true}                    ).then(function(){\n",
              "                            \n",
              "var gd = document.getElementById('fb694bd5-c6c8-4b77-8b0b-7eb486f78a5b');\n",
              "var x = new MutationObserver(function (mutations, observer) {{\n",
              "        var display = window.getComputedStyle(gd).display;\n",
              "        if (!display || display === 'none') {{\n",
              "            console.log([gd, 'removed!']);\n",
              "            Plotly.purge(gd);\n",
              "            observer.disconnect();\n",
              "        }}\n",
              "}});\n",
              "\n",
              "// Listen for the removal of the full notebook cells\n",
              "var notebookContainer = gd.closest('#notebook-container');\n",
              "if (notebookContainer) {{\n",
              "    x.observe(notebookContainer, {childList: true});\n",
              "}}\n",
              "\n",
              "// Listen for the clearing of the current output cell\n",
              "var outputEl = gd.closest('.output');\n",
              "if (outputEl) {{\n",
              "    x.observe(outputEl, {childList: true});\n",
              "}}\n",
              "\n",
              "                        })                };                            </script>        </div>\n",
              "</body>\n",
              "</html>"
            ]
          },
          "metadata": {}
        }
      ],
      "source": [
        "#Plot the graph to visualize the output using the poltly.express\n",
        "fig = px.scatter(df, x=\"CGPA\", y=\"Internships\", color=\"PlacedOrNot\",hover_data=['CGPA'])\n",
        "fig.show()"
      ]
    },
    {
      "cell_type": "markdown",
      "source": [
        "## Distribution of Students in Each Branch (Stream)\n",
        "The plot represents the count of students in each branch or stream as part of the exploratory data analysis process."
      ],
      "metadata": {
        "id": "A6wKr7bbyuTV"
      }
    },
    {
      "cell_type": "code",
      "source": [
        "df.Stream.value_counts().plot(kind='bar',figsize=(10,5))\n",
        "plt.title(\"Number of Students Branch Wise\")\n",
        "plt.ylabel('Number of Students')\n",
        "plt.xlabel('Stream');"
      ],
      "metadata": {
        "colab": {
          "base_uri": "https://localhost:8080/",
          "height": 694
        },
        "id": "hkwX5KpcysbW",
        "outputId": "ec5acdb4-8d42-43c0-a36a-ec4d3e3b2e49"
      },
      "execution_count": 61,
      "outputs": [
        {
          "output_type": "display_data",
          "data": {
            "text/plain": [
              "<Figure size 1000x500 with 1 Axes>"
            ],
            "image/png": "[encoded data removed]"
          },
          "metadata": {}
        }
      ]
    },
    {
      "cell_type": "markdown",
      "source": [
        "##Stream and Placement Relationship"
      ],
      "metadata": {
        "id": "68M_yPws70iQ"
      }
    },
    {
      "cell_type": "code",
      "source": [
        "plt.figure(figsize=(10, 6))\n",
        "sns.countplot(x='Stream', hue='PlacedOrNot', data=df)\n",
        "plt.xticks(rotation=45)\n",
        "plt.title('Placed or Not vs. Stream')\n",
        "plt.show()\n",
        "\n",
        "#plt.xticks()   plt.yticks()\n",
        "#It allows you to set the positions and labels of the tick marks according to your preferences."
      ],
      "metadata": {
        "colab": {
          "base_uri": "https://localhost:8080/",
          "height": 716
        },
        "id": "yyEcOyUW7xQu",
        "outputId": "1e327289-8884-479c-b888-1e67ca3bf516"
      },
      "execution_count": 62,
      "outputs": [
        {
          "output_type": "display_data",
          "data": {
            "text/plain": [
              "<Figure size 1000x600 with 1 Axes>"
            ],
            "image/png": "[encoded data removed]"
          },
          "metadata": {}
        }
      ]
    },
    {
      "cell_type": "code",
      "source": [
        "df.groupby(\"Stream\")[\"PlacedOrNot\"].mean().sort_values(ascending=False).plot(kind=\"bar\")\n",
        "#df.groupby(\"column_name\") is a Pandas method used to group the DataFrame df by the\n",
        "#   unique values in the specified \"column_name\".\n",
        "#sort_values() is a method used to sort the data in ascending order, arranging the values"
      ],
      "metadata": {
        "colab": {
          "base_uri": "https://localhost:8080/",
          "height": 673
        },
        "id": "WjKu7QUD6oCe",
        "outputId": "b0835b25-45cc-47d2-a9de-cf6ec7a7ad5c"
      },
      "execution_count": 67,
      "outputs": [
        {
          "output_type": "execute_result",
          "data": {
            "text/plain": [
              "<Axes: xlabel='Stream'>"
            ]
          },
          "metadata": {},
          "execution_count": 67
        },
        {
          "output_type": "display_data",
          "data": {
            "text/plain": [
              "<Figure size 640x480 with 1 Axes>"
            ],
            "image/png": "[encoded data removed]"
          },
          "metadata": {}
        }
      ]
    },
    {
      "cell_type": "markdown",
      "source": [
        "##Gender and CGPA Relationship"
      ],
      "metadata": {
        "id": "I0g9pPLB8ddd"
      }
    },
    {
      "cell_type": "code",
      "source": [
        "print(df[\"Gender\"].value_counts())\n",
        "sns.countplot(x='Gender', hue='CGPA', data=df)\n",
        "plt.title('Gender vs. CGPA')\n",
        "plt.show()"
      ],
      "metadata": {
        "colab": {
          "base_uri": "https://localhost:8080/",
          "height": 524
        },
        "id": "OTL-w18F8cAy",
        "outputId": "88f97bd8-7842-4b29-8f33-69a04774e1dd"
      },
      "execution_count": 63,
      "outputs": [
        {
          "output_type": "stream",
          "name": "stdout",
          "text": [
            "Male      846\n",
            "Female    291\n",
            "Name: Gender, dtype: int64\n"
          ]
        },
        {
          "output_type": "display_data",
          "data": {
            "text/plain": [
              "<Figure size 640x480 with 1 Axes>"
            ],
            "image/png": "[encoded data removed]"
          },
          "metadata": {}
        }
      ]
    },
    {
      "cell_type": "markdown",
      "source": [
        "##Heatmap\n",
        "A heatmap is a color-coded chart that shows the relationships between variables in data. It uses colors to represent the strength of correlations, helping to identify patterns and associations easily."
      ],
      "metadata": {
        "id": "kiq6MKTTzfRp"
      }
    },
    {
      "cell_type": "code",
      "source": [
        "plt.figure(figsize=(10,5))\n",
        "c= df.corr()\n",
        "sns.heatmap(c,cmap=\"summer\",annot=True)"
      ],
      "metadata": {
        "colab": {
          "base_uri": "https://localhost:8080/",
          "height": 576
        },
        "id": "YYFTKxdJzeRn",
        "outputId": "86d4d000-6b64-44e9-d510-fa0476c315d8"
      },
      "execution_count": 64,
      "outputs": [
        {
          "output_type": "execute_result",
          "data": {
            "text/plain": [
              "<Axes: >"
            ]
          },
          "metadata": {},
          "execution_count": 64
        },
        {
          "output_type": "display_data",
          "data": {
            "text/plain": [
              "<Figure size 1000x500 with 2 Axes>"
            ],
            "image/png": "[encoded data removed]"
          },
          "metadata": {}
        }
      ]
    },
    {
      "cell_type": "markdown",
      "source": [
        "## Outliers\n",
        "Outliers are unusual data points that deviate significantly from the majority of the data. They can cause issues in data analysis and need to be identified and handled properly for accurate results. Outliers can be detected visually or using statistical methods, and addressing them is essential to ensure reliable data analysis."
      ],
      "metadata": {
        "id": "_Di7-QEXxt14"
      }
    },
    {
      "cell_type": "code",
      "execution_count": 68,
      "metadata": {
        "colab": {
          "base_uri": "https://localhost:8080/",
          "height": 466
        },
        "id": "48-aZ2RVZFrL",
        "outputId": "af8fde42-38ab-44c6-d57f-a74af3725037"
      },
      "outputs": [
        {
          "output_type": "execute_result",
          "data": {
            "text/plain": [
              "<Axes: xlabel='Age'>"
            ]
          },
          "metadata": {},
          "execution_count": 68
        },
        {
          "output_type": "display_data",
          "data": {
            "text/plain": [
              "<Figure size 640x480 with 1 Axes>"
            ],
            "image/png": "[encoded data removed]"
          },
          "metadata": {}
        }
      ],
      "source": [
        "#Detecting Outliers\n",
        "sns.boxplot(x=df['Age'])"
      ]
    },
    {
      "cell_type": "code",
      "execution_count": 69,
      "metadata": {
        "colab": {
          "base_uri": "https://localhost:8080/",
          "height": 466
        },
        "id": "A9J_e-16bw6O",
        "outputId": "dffa67d2-abc0-4bc1-811c-c3ac06c2e682"
      },
      "outputs": [
        {
          "output_type": "execute_result",
          "data": {
            "text/plain": [
              "<Axes: xlabel='Internships'>"
            ]
          },
          "metadata": {},
          "execution_count": 69
        },
        {
          "output_type": "display_data",
          "data": {
            "text/plain": [
              "<Figure size 640x480 with 1 Axes>"
            ],
            "image/png": "[encoded data removed]"
          },
          "metadata": {}
        }
      ],
      "source": [
        "sns.boxplot(x=df['Internships'])"
      ]
    },
    {
      "cell_type": "code",
      "execution_count": 70,
      "metadata": {
        "colab": {
          "base_uri": "https://localhost:8080/",
          "height": 466
        },
        "id": "eb6gnyMfcDdl",
        "outputId": "e964921b-a098-4455-ecdd-b314c0a03ca4"
      },
      "outputs": [
        {
          "output_type": "execute_result",
          "data": {
            "text/plain": [
              "<Axes: xlabel='CGPA'>"
            ]
          },
          "metadata": {},
          "execution_count": 70
        },
        {
          "output_type": "display_data",
          "data": {
            "text/plain": [
              "<Figure size 640x480 with 1 Axes>"
            ],
            "image/png": "[encoded data removed]"
          },
          "metadata": {}
        }
      ],
      "source": [
        "sns.boxplot(x=df['CGPA'])"
      ]
    },
    {
      "cell_type": "markdown",
      "source": [
        "* **Quantile** is a way to divide data into equal parts, helping us understand the spread and distribution of values in a dataset.\n",
        "* **IQR** stands for Interquartile Range, and it is a simple way to measure the spread or variability of data. It is the range between the third quartile (Q3) and the first quartile (Q1) in a dataset.\n",
        "\n",
        " *In simple terms, IQR tells us how spread out the middle 50% of the data*"
      ],
      "metadata": {
        "id": "mIqqwHqL9GmZ"
      }
    },
    {
      "cell_type": "code",
      "execution_count": 71,
      "metadata": {
        "colab": {
          "base_uri": "https://localhost:8080/",
          "height": 0
        },
        "id": "YK0l6xnOcK35",
        "outputId": "7ef6d7d8-5eff-4473-a6c4-feaaebb7ca9b"
      },
      "outputs": [
        {
          "output_type": "stream",
          "name": "stdout",
          "text": [
            "Age                  1.0\n",
            "Internships          1.0\n",
            "CGPA                 2.0\n",
            "Hostel               1.0\n",
            "HistoryOfBacklogs    1.0\n",
            "PlacedOrNot          1.0\n",
            "dtype: float64\n"
          ]
        }
      ],
      "source": [
        "Q1=df.quantile(0.25)\n",
        "Q3=df.quantile(0.75)\n",
        "IQR=Q3-Q1\n",
        "print(IQR)"
      ]
    },
    {
      "cell_type": "code",
      "execution_count": 72,
      "metadata": {
        "colab": {
          "base_uri": "https://localhost:8080/",
          "height": 0
        },
        "id": "7_GjeI6DcxNr",
        "outputId": "f172a803-8518-4db5-bbf1-d00e17a48434"
      },
      "outputs": [
        {
          "output_type": "execute_result",
          "data": {
            "text/plain": [
              "(841, 8)"
            ]
          },
          "metadata": {},
          "execution_count": 72
        }
      ],
      "source": [
        "df = df[~((df<(Q1-1.5*IQR))|(df>(Q3+1.5*IQR))).any(axis=1)]\n",
        "df.shape\n",
        "\n",
        "#   The code removes outliers from the DataFrame df using the IQR method, keeping rows within the\n",
        "#   range of Q1 - 1.5 * IQR to Q3 + 1.5 * IQR."
      ]
    },
    {
      "cell_type": "code",
      "execution_count": 73,
      "metadata": {
        "colab": {
          "base_uri": "https://localhost:8080/",
          "height": 466
        },
        "id": "B_VRPlUjcy6y",
        "outputId": "d4af3d51-70d5-4635-e3d9-9269c64b9d27"
      },
      "outputs": [
        {
          "output_type": "execute_result",
          "data": {
            "text/plain": [
              "<Axes: xlabel='Age'>"
            ]
          },
          "metadata": {},
          "execution_count": 73
        },
        {
          "output_type": "display_data",
          "data": {
            "text/plain": [
              "<Figure size 640x480 with 1 Axes>"
            ],
            "image/png": "[encoded data removed]"
          },
          "metadata": {}
        }
      ],
      "source": [
        "sns.boxplot(x=df['Age'])"
      ]
    },
    {
      "cell_type": "code",
      "execution_count": 74,
      "metadata": {
        "colab": {
          "base_uri": "https://localhost:8080/",
          "height": 466
        },
        "id": "wdwM0QmJc6hm",
        "outputId": "ed2a3e74-8524-4dfc-91a5-6e82e135228d"
      },
      "outputs": [
        {
          "output_type": "execute_result",
          "data": {
            "text/plain": [
              "<Axes: xlabel='Internships'>"
            ]
          },
          "metadata": {},
          "execution_count": 74
        },
        {
          "output_type": "display_data",
          "data": {
            "text/plain": [
              "<Figure size 640x480 with 1 Axes>"
            ],
            "image/png": "[encoded data removed]"
          },
          "metadata": {}
        }
      ],
      "source": [
        "sns.boxplot(x=df['Internships'])"
      ]
    },
    {
      "cell_type": "code",
      "execution_count": 75,
      "metadata": {
        "colab": {
          "base_uri": "https://localhost:8080/",
          "height": 466
        },
        "id": "Lkixb9ljc-y5",
        "outputId": "ce0ade38-51d5-4a3e-f496-3453b725f4a5"
      },
      "outputs": [
        {
          "output_type": "execute_result",
          "data": {
            "text/plain": [
              "<Axes: xlabel='CGPA'>"
            ]
          },
          "metadata": {},
          "execution_count": 75
        },
        {
          "output_type": "display_data",
          "data": {
            "text/plain": [
              "<Figure size 640x480 with 1 Axes>"
            ],
            "image/png": "[encoded data removed]"
          },
          "metadata": {}
        }
      ],
      "source": [
        "sns.boxplot(x=df['CGPA'])"
      ]
    },
    {
      "cell_type": "markdown",
      "source": [
        "##Total numbers of students who got the internship"
      ],
      "metadata": {
        "id": "G_tZglMZ832u"
      }
    },
    {
      "cell_type": "code",
      "execution_count": 76,
      "metadata": {
        "colab": {
          "base_uri": "https://localhost:8080/",
          "height": 623
        },
        "id": "w60JgQPQ0FK9",
        "outputId": "f1e57f26-846c-449b-823b-37cc84bc656a"
      },
      "outputs": [
        {
          "output_type": "stream",
          "name": "stdout",
          "text": [
            "Total student have atleast one internship are Age                  511\n",
            "Gender               511\n",
            "Stream               511\n",
            "Internships          511\n",
            "CGPA                 511\n",
            "Hostel               511\n",
            "HistoryOfBacklogs    511\n",
            "PlacedOrNot          511\n",
            "dtype: int64\n"
          ]
        },
        {
          "output_type": "execute_result",
          "data": {
            "text/plain": [
              "      Age  Gender                         Stream  Internships  CGPA  Hostel  \\\n",
              "0      22    Male  Electronics And Communication            1     8       1   \n",
              "2      22  Female         Information Technology            1     6       0   \n",
              "7      21    Male         Information Technology            1     7       0   \n",
              "8      21    Male               Computer Science            2     6       0   \n",
              "9      21  Female               Computer Science            1     6       1   \n",
              "...   ...     ...                            ...          ...   ...     ...   \n",
              "2911   23    Male         Information Technology            1     6       1   \n",
              "2944   23    Male         Information Technology            1     7       0   \n",
              "2946   23    Male         Information Technology            1     7       1   \n",
              "2954   23  Female               Computer Science            1     8       0   \n",
              "2960   23    Male                     Mechanical            1     7       1   \n",
              "\n",
              "      HistoryOfBacklogs  PlacedOrNot  \n",
              "0                     1            1  \n",
              "2                     0            1  \n",
              "7                     0            0  \n",
              "8                     0            1  \n",
              "9                     0            0  \n",
              "...                 ...          ...  \n",
              "2911                  0            0  \n",
              "2944                  1            0  \n",
              "2946                  1            0  \n",
              "2954                  1            1  \n",
              "2960                  0            0  \n",
              "\n",
              "[511 rows x 8 columns]"
            ],
            "text/html": [
              "\n",
              "\n",
              "  <div id=\"df-2069c603-58d4-4362-af5a-694d753ac281\">\n",
              "    <div class=\"colab-df-container\">\n",
              "      <div>\n",
              "<style scoped>\n",
              "    .dataframe tbody tr th:only-of-type {\n",
              "        vertical-align: middle;\n",
              "    }\n",
              "\n",
              "    .dataframe tbody tr th {\n",
              "        vertical-align: top;\n",
              "    }\n",
              "\n",
              "    .dataframe thead th {\n",
              "        text-align: right;\n",
              "    }\n",
              "</style>\n",
              "<table border=\"1\" class=\"dataframe\">\n",
              "  <thead>\n",
              "    <tr style=\"text-align: right;\">\n",
              "      <th></th>\n",
              "      <th>Age</th>\n",
              "      <th>Gender</th>\n",
              "      <th>Stream</th>\n",
              "      <th>Internships</th>\n",
              "      <th>CGPA</th>\n",
              "      <th>Hostel</th>\n",
              "      <th>HistoryOfBacklogs</th>\n",
              "      <th>PlacedOrNot</th>\n",
              "    </tr>\n",
              "  </thead>\n",
              "  <tbody>\n",
              "    <tr>\n",
              "      <th>0</th>\n",
              "      <td>22</td>\n",
              "      <td>Male</td>\n",
              "      <td>Electronics And Communication</td>\n",
              "      <td>1</td>\n",
              "      <td>8</td>\n",
              "      <td>1</td>\n",
              "      <td>1</td>\n",
              "      <td>1</td>\n",
              "    </tr>\n",
              "    <tr>\n",
              "      <th>2</th>\n",
              "      <td>22</td>\n",
              "      <td>Female</td>\n",
              "      <td>Information Technology</td>\n",
              "      <td>1</td>\n",
              "      <td>6</td>\n",
              "      <td>0</td>\n",
              "      <td>0</td>\n",
              "      <td>1</td>\n",
              "    </tr>\n",
              "    <tr>\n",
              "      <th>7</th>\n",
              "      <td>21</td>\n",
              "      <td>Male</td>\n",
              "      <td>Information Technology</td>\n",
              "      <td>1</td>\n",
              "      <td>7</td>\n",
              "      <td>0</td>\n",
              "      <td>0</td>\n",
              "      <td>0</td>\n",
              "    </tr>\n",
              "    <tr>\n",
              "      <th>8</th>\n",
              "      <td>21</td>\n",
              "      <td>Male</td>\n",
              "      <td>Computer Science</td>\n",
              "      <td>2</td>\n",
              "      <td>6</td>\n",
              "      <td>0</td>\n",
              "      <td>0</td>\n",
              "      <td>1</td>\n",
              "    </tr>\n",
              "    <tr>\n",
              "      <th>9</th>\n",
              "      <td>21</td>\n",
              "      <td>Female</td>\n",
              "      <td>Computer Science</td>\n",
              "      <td>1</td>\n",
              "      <td>6</td>\n",
              "      <td>1</td>\n",
              "      <td>0</td>\n",
              "      <td>0</td>\n",
              "    </tr>\n",
              "    <tr>\n",
              "      <th>...</th>\n",
              "      <td>...</td>\n",
              "      <td>...</td>\n",
              "      <td>...</td>\n",
              "      <td>...</td>\n",
              "      <td>...</td>\n",
              "      <td>...</td>\n",
              "      <td>...</td>\n",
              "      <td>...</td>\n",
              "    </tr>\n",
              "    <tr>\n",
              "      <th>2911</th>\n",
              "      <td>23</td>\n",
              "      <td>Male</td>\n",
              "      <td>Information Technology</td>\n",
              "      <td>1</td>\n",
              "      <td>6</td>\n",
              "      <td>1</td>\n",
              "      <td>0</td>\n",
              "      <td>0</td>\n",
              "    </tr>\n",
              "    <tr>\n",
              "      <th>2944</th>\n",
              "      <td>23</td>\n",
              "      <td>Male</td>\n",
              "      <td>Information Technology</td>\n",
              "      <td>1</td>\n",
              "      <td>7</td>\n",
              "      <td>0</td>\n",
              "      <td>1</td>\n",
              "      <td>0</td>\n",
              "    </tr>\n",
              "    <tr>\n",
              "      <th>2946</th>\n",
              "      <td>23</td>\n",
              "      <td>Male</td>\n",
              "      <td>Information Technology</td>\n",
              "      <td>1</td>\n",
              "      <td>7</td>\n",
              "      <td>1</td>\n",
              "      <td>1</td>\n",
              "      <td>0</td>\n",
              "    </tr>\n",
              "    <tr>\n",
              "      <th>2954</th>\n",
              "      <td>23</td>\n",
              "      <td>Female</td>\n",
              "      <td>Computer Science</td>\n",
              "      <td>1</td>\n",
              "      <td>8</td>\n",
              "      <td>0</td>\n",
              "      <td>1</td>\n",
              "      <td>1</td>\n",
              "    </tr>\n",
              "    <tr>\n",
              "      <th>2960</th>\n",
              "      <td>23</td>\n",
              "      <td>Male</td>\n",
              "      <td>Mechanical</td>\n",
              "      <td>1</td>\n",
              "      <td>7</td>\n",
              "      <td>1</td>\n",
              "      <td>0</td>\n",
              "      <td>0</td>\n",
              "    </tr>\n",
              "  </tbody>\n",
              "</table>\n",
              "<p>511 rows × 8 columns</p>\n",
              "</div>\n",
              "      <button class=\"colab-df-convert\" onclick=\"convertToInteractive('df-2069c603-58d4-4362-af5a-694d753ac281')\"\n",
              "              title=\"Convert this dataframe to an interactive table.\"\n",
              "              style=\"display:none;\">\n",
              "\n",
              "  <svg xmlns=\"http://www.w3.org/2000/svg\" height=\"24px\"viewBox=\"0 0 24 24\"\n",
              "       width=\"24px\">\n",
              "    <path d=\"M0 0h24v24H0V0z\" fill=\"none\"/>\n",
              "    <path d=\"M18.56 5.44l.94 2.06.94-2.06 2.06-.94-2.06-.94-.94-2.06-.94 2.06-2.06.94zm-11 1L8.5 8.5l.94-2.06 2.06-.94-2.06-.94L8.5 2.5l-.94 2.06-2.06.94zm10 10l.94 2.06.94-2.06 2.06-.94-2.06-.94-.94-2.06-.94 2.06-2.06.94z\"/><path d=\"M17.41 7.96l-1.37-1.37c-.4-.4-.92-.59-1.43-.59-.52 0-1.04.2-1.43.59L10.3 9.45l-7.72 7.72c-.78.78-.78 2.05 0 2.83L4 21.41c.39.39.9.59 1.41.59.51 0 1.02-.2 1.41-.59l7.78-7.78 2.81-2.81c.8-.78.8-2.07 0-2.86zM5.41 20L4 18.59l7.72-7.72 1.47 1.35L5.41 20z\"/>\n",
              "  </svg>\n",
              "      </button>\n",
              "\n",
              "\n",
              "\n",
              "    <div id=\"df-ab14116e-fdea-4f28-99f0-0cb0a562084d\">\n",
              "      <button class=\"colab-df-quickchart\" onclick=\"quickchart('df-ab14116e-fdea-4f28-99f0-0cb0a562084d')\"\n",
              "              title=\"Suggest charts.\"\n",
              "              style=\"display:none;\">\n",
              "\n",
              "<svg xmlns=\"http://www.w3.org/2000/svg\" height=\"24px\"viewBox=\"0 0 24 24\"\n",
              "     width=\"24px\">\n",
              "    <g>\n",
              "        <path d=\"M19 3H5c-1.1 0-2 .9-2 2v14c0 1.1.9 2 2 2h14c1.1 0 2-.9 2-2V5c0-1.1-.9-2-2-2zM9 17H7v-7h2v7zm4 0h-2V7h2v10zm4 0h-2v-4h2v4z\"/>\n",
              "    </g>\n",
              "</svg>\n",
              "      </button>\n",
              "    </div>\n",
              "\n",
              "<style>\n",
              "  .colab-df-quickchart {\n",
              "    background-color: #E8F0FE;\n",
              "    border: none;\n",
              "    border-radius: 50%;\n",
              "    cursor: pointer;\n",
              "    display: none;\n",
              "    fill: #1967D2;\n",
              "    height: 32px;\n",
              "    padding: 0 0 0 0;\n",
              "    width: 32px;\n",
              "  }\n",
              "\n",
              "  .colab-df-quickchart:hover {\n",
              "    background-color: #E2EBFA;\n",
              "    box-shadow: 0px 1px 2px rgba(60, 64, 67, 0.3), 0px 1px 3px 1px rgba(60, 64, 67, 0.15);\n",
              "    fill: #174EA6;\n",
              "  }\n",
              "\n",
              "  [theme=dark] .colab-df-quickchart {\n",
              "    background-color: #3B4455;\n",
              "    fill: #D2E3FC;\n",
              "  }\n",
              "\n",
              "  [theme=dark] .colab-df-quickchart:hover {\n",
              "    background-color: #434B5C;\n",
              "    box-shadow: 0px 1px 3px 1px rgba(0, 0, 0, 0.15);\n",
              "    filter: drop-shadow(0px 1px 2px rgba(0, 0, 0, 0.3));\n",
              "    fill: #FFFFFF;\n",
              "  }\n",
              "</style>\n",
              "\n",
              "    <script>\n",
              "      async function quickchart(key) {\n",
              "        const containerElement = document.querySelector('#' + key);\n",
              "        const charts = await google.colab.kernel.invokeFunction(\n",
              "            'suggestCharts', [key], {});\n",
              "      }\n",
              "    </script>\n",
              "\n",
              "      <script>\n",
              "\n",
              "function displayQuickchartButton(domScope) {\n",
              "  let quickchartButtonEl =\n",
              "    domScope.querySelector('#df-ab14116e-fdea-4f28-99f0-0cb0a562084d button.colab-df-quickchart');\n",
              "  quickchartButtonEl.style.display =\n",
              "    google.colab.kernel.accessAllowed ? 'block' : 'none';\n",
              "}\n",
              "\n",
              "        displayQuickchartButton(document);\n",
              "      </script>\n",
              "      <style>\n",
              "    .colab-df-container {\n",
              "      display:flex;\n",
              "      flex-wrap:wrap;\n",
              "      gap: 12px;\n",
              "    }\n",
              "\n",
              "    .colab-df-convert {\n",
              "      background-color: #E8F0FE;\n",
              "      border: none;\n",
              "      border-radius: 50%;\n",
              "      cursor: pointer;\n",
              "      display: none;\n",
              "      fill: #1967D2;\n",
              "      height: 32px;\n",
              "      padding: 0 0 0 0;\n",
              "      width: 32px;\n",
              "    }\n",
              "\n",
              "    .colab-df-convert:hover {\n",
              "      background-color: #E2EBFA;\n",
              "      box-shadow: 0px 1px 2px rgba(60, 64, 67, 0.3), 0px 1px 3px 1px rgba(60, 64, 67, 0.15);\n",
              "      fill: #174EA6;\n",
              "    }\n",
              "\n",
              "    [theme=dark] .colab-df-convert {\n",
              "      background-color: #3B4455;\n",
              "      fill: #D2E3FC;\n",
              "    }\n",
              "\n",
              "    [theme=dark] .colab-df-convert:hover {\n",
              "      background-color: #434B5C;\n",
              "      box-shadow: 0px 1px 3px 1px rgba(0, 0, 0, 0.15);\n",
              "      filter: drop-shadow(0px 1px 2px rgba(0, 0, 0, 0.3));\n",
              "      fill: #FFFFFF;\n",
              "    }\n",
              "  </style>\n",
              "\n",
              "      <script>\n",
              "        const buttonEl =\n",
              "          document.querySelector('#df-2069c603-58d4-4362-af5a-694d753ac281 button.colab-df-convert');\n",
              "        buttonEl.style.display =\n",
              "          google.colab.kernel.accessAllowed ? 'block' : 'none';\n",
              "\n",
              "        async function convertToInteractive(key) {\n",
              "          const element = document.querySelector('#df-2069c603-58d4-4362-af5a-694d753ac281');\n",
              "          const dataTable =\n",
              "            await google.colab.kernel.invokeFunction('convertToInteractive',\n",
              "                                                     [key], {});\n",
              "          if (!dataTable) return;\n",
              "\n",
              "          const docLinkHtml = 'Like what you see? Visit the ' +\n",
              "            '<a target=\"_blank\" href=https://colab.research.google.com/notebooks/data_table.ipynb>data table notebook</a>'\n",
              "            + ' to learn more about interactive tables.';\n",
              "          element.innerHTML = '';\n",
              "          dataTable['output_type'] = 'display_data';\n",
              "          await google.colab.output.renderOutput(dataTable, element);\n",
              "          const docLink = document.createElement('div');\n",
              "          docLink.innerHTML = docLinkHtml;\n",
              "          element.appendChild(docLink);\n",
              "        }\n",
              "      </script>\n",
              "    </div>\n",
              "  </div>\n"
            ]
          },
          "metadata": {},
          "execution_count": 76
        }
      ],
      "source": [
        "internship = df[df['Internships'] != 0]\n",
        "print(\"Total student have atleast one internship are\",internship.count())\n",
        "internship"
      ]
    },
    {
      "cell_type": "markdown",
      "source": [
        "##Total numbers of students who didn't got the internship"
      ],
      "metadata": {
        "id": "tkmp_4XSApkd"
      }
    },
    {
      "cell_type": "code",
      "execution_count": 77,
      "metadata": {
        "colab": {
          "base_uri": "https://localhost:8080/",
          "height": 623
        },
        "id": "17-ULBZ-hxMV",
        "outputId": "92775b20-4f29-48be-bca9-d4c6ba630465"
      },
      "outputs": [
        {
          "output_type": "stream",
          "name": "stdout",
          "text": [
            "Total student doesn't have any internship are Age                  330\n",
            "Gender               330\n",
            "Stream               330\n",
            "Internships          330\n",
            "CGPA                 330\n",
            "Hostel               330\n",
            "HistoryOfBacklogs    330\n",
            "PlacedOrNot          330\n",
            "dtype: int64\n"
          ]
        },
        {
          "output_type": "execute_result",
          "data": {
            "text/plain": [
              "      Age  Gender                         Stream  Internships  CGPA  Hostel  \\\n",
              "1      21  Female               Computer Science            0     7       1   \n",
              "3      21    Male         Information Technology            0     8       0   \n",
              "4      22    Male                     Mechanical            0     8       1   \n",
              "5      22    Male  Electronics And Communication            0     6       0   \n",
              "6      21    Male               Computer Science            0     7       0   \n",
              "...   ...     ...                            ...          ...   ...     ...   \n",
              "2922   23    Male               Computer Science            0     8       0   \n",
              "2929   23  Female               Computer Science            0     6       1   \n",
              "2937   23    Male                     Mechanical            0     6       0   \n",
              "2952   23    Male                     Mechanical            0     8       1   \n",
              "2958   23    Male               Computer Science            0     6       0   \n",
              "\n",
              "      HistoryOfBacklogs  PlacedOrNot  \n",
              "1                     1            1  \n",
              "3                     1            1  \n",
              "4                     0            1  \n",
              "5                     0            0  \n",
              "6                     1            0  \n",
              "...                 ...          ...  \n",
              "2922                  0            1  \n",
              "2929                  0            0  \n",
              "2937                  0            0  \n",
              "2952                  0            1  \n",
              "2958                  1            0  \n",
              "\n",
              "[330 rows x 8 columns]"
            ],
            "text/html": [
              "\n",
              "\n",
              "  <div id=\"df-49efe5f2-241e-44af-8e3c-5bd79a0e9a57\">\n",
              "    <div class=\"colab-df-container\">\n",
              "      <div>\n",
              "<style scoped>\n",
              "    .dataframe tbody tr th:only-of-type {\n",
              "        vertical-align: middle;\n",
              "    }\n",
              "\n",
              "    .dataframe tbody tr th {\n",
              "        vertical-align: top;\n",
              "    }\n",
              "\n",
              "    .dataframe thead th {\n",
              "        text-align: right;\n",
              "    }\n",
              "</style>\n",
              "<table border=\"1\" class=\"dataframe\">\n",
              "  <thead>\n",
              "    <tr style=\"text-align: right;\">\n",
              "      <th></th>\n",
              "      <th>Age</th>\n",
              "      <th>Gender</th>\n",
              "      <th>Stream</th>\n",
              "      <th>Internships</th>\n",
              "      <th>CGPA</th>\n",
              "      <th>Hostel</th>\n",
              "      <th>HistoryOfBacklogs</th>\n",
              "      <th>PlacedOrNot</th>\n",
              "    </tr>\n",
              "  </thead>\n",
              "  <tbody>\n",
              "    <tr>\n",
              "      <th>1</th>\n",
              "      <td>21</td>\n",
              "      <td>Female</td>\n",
              "      <td>Computer Science</td>\n",
              "      <td>0</td>\n",
              "      <td>7</td>\n",
              "      <td>1</td>\n",
              "      <td>1</td>\n",
              "      <td>1</td>\n",
              "    </tr>\n",
              "    <tr>\n",
              "      <th>3</th>\n",
              "      <td>21</td>\n",
              "      <td>Male</td>\n",
              "      <td>Information Technology</td>\n",
              "      <td>0</td>\n",
              "      <td>8</td>\n",
              "      <td>0</td>\n",
              "      <td>1</td>\n",
              "      <td>1</td>\n",
              "    </tr>\n",
              "    <tr>\n",
              "      <th>4</th>\n",
              "      <td>22</td>\n",
              "      <td>Male</td>\n",
              "      <td>Mechanical</td>\n",
              "      <td>0</td>\n",
              "      <td>8</td>\n",
              "      <td>1</td>\n",
              "      <td>0</td>\n",
              "      <td>1</td>\n",
              "    </tr>\n",
              "    <tr>\n",
              "      <th>5</th>\n",
              "      <td>22</td>\n",
              "      <td>Male</td>\n",
              "      <td>Electronics And Communication</td>\n",
              "      <td>0</td>\n",
              "      <td>6</td>\n",
              "      <td>0</td>\n",
              "      <td>0</td>\n",
              "      <td>0</td>\n",
              "    </tr>\n",
              "    <tr>\n",
              "      <th>6</th>\n",
              "      <td>21</td>\n",
              "      <td>Male</td>\n",
              "      <td>Computer Science</td>\n",
              "      <td>0</td>\n",
              "      <td>7</td>\n",
              "      <td>0</td>\n",
              "      <td>1</td>\n",
              "      <td>0</td>\n",
              "    </tr>\n",
              "    <tr>\n",
              "      <th>...</th>\n",
              "      <td>...</td>\n",
              "      <td>...</td>\n",
              "      <td>...</td>\n",
              "      <td>...</td>\n",
              "      <td>...</td>\n",
              "      <td>...</td>\n",
              "      <td>...</td>\n",
              "      <td>...</td>\n",
              "    </tr>\n",
              "    <tr>\n",
              "      <th>2922</th>\n",
              "      <td>23</td>\n",
              "      <td>Male</td>\n",
              "      <td>Computer Science</td>\n",
              "      <td>0</td>\n",
              "      <td>8</td>\n",
              "      <td>0</td>\n",
              "      <td>0</td>\n",
              "      <td>1</td>\n",
              "    </tr>\n",
              "    <tr>\n",
              "      <th>2929</th>\n",
              "      <td>23</td>\n",
              "      <td>Female</td>\n",
              "      <td>Computer Science</td>\n",
              "      <td>0</td>\n",
              "      <td>6</td>\n",
              "      <td>1</td>\n",
              "      <td>0</td>\n",
              "      <td>0</td>\n",
              "    </tr>\n",
              "    <tr>\n",
              "      <th>2937</th>\n",
              "      <td>23</td>\n",
              "      <td>Male</td>\n",
              "      <td>Mechanical</td>\n",
              "      <td>0</td>\n",
              "      <td>6</td>\n",
              "      <td>0</td>\n",
              "      <td>0</td>\n",
              "      <td>0</td>\n",
              "    </tr>\n",
              "    <tr>\n",
              "      <th>2952</th>\n",
              "      <td>23</td>\n",
              "      <td>Male</td>\n",
              "      <td>Mechanical</td>\n",
              "      <td>0</td>\n",
              "      <td>8</td>\n",
              "      <td>1</td>\n",
              "      <td>0</td>\n",
              "      <td>1</td>\n",
              "    </tr>\n",
              "    <tr>\n",
              "      <th>2958</th>\n",
              "      <td>23</td>\n",
              "      <td>Male</td>\n",
              "      <td>Computer Science</td>\n",
              "      <td>0</td>\n",
              "      <td>6</td>\n",
              "      <td>0</td>\n",
              "      <td>1</td>\n",
              "      <td>0</td>\n",
              "    </tr>\n",
              "  </tbody>\n",
              "</table>\n",
              "<p>330 rows × 8 columns</p>\n",
              "</div>\n",
              "      <button class=\"colab-df-convert\" onclick=\"convertToInteractive('df-49efe5f2-241e-44af-8e3c-5bd79a0e9a57')\"\n",
              "              title=\"Convert this dataframe to an interactive table.\"\n",
              "              style=\"display:none;\">\n",
              "\n",
              "  <svg xmlns=\"http://www.w3.org/2000/svg\" height=\"24px\"viewBox=\"0 0 24 24\"\n",
              "       width=\"24px\">\n",
              "    <path d=\"M0 0h24v24H0V0z\" fill=\"none\"/>\n",
              "    <path d=\"M18.56 5.44l.94 2.06.94-2.06 2.06-.94-2.06-.94-.94-2.06-.94 2.06-2.06.94zm-11 1L8.5 8.5l.94-2.06 2.06-.94-2.06-.94L8.5 2.5l-.94 2.06-2.06.94zm10 10l.94 2.06.94-2.06 2.06-.94-2.06-.94-.94-2.06-.94 2.06-2.06.94z\"/><path d=\"M17.41 7.96l-1.37-1.37c-.4-.4-.92-.59-1.43-.59-.52 0-1.04.2-1.43.59L10.3 9.45l-7.72 7.72c-.78.78-.78 2.05 0 2.83L4 21.41c.39.39.9.59 1.41.59.51 0 1.02-.2 1.41-.59l7.78-7.78 2.81-2.81c.8-.78.8-2.07 0-2.86zM5.41 20L4 18.59l7.72-7.72 1.47 1.35L5.41 20z\"/>\n",
              "  </svg>\n",
              "      </button>\n",
              "\n",
              "\n",
              "\n",
              "    <div id=\"df-5505f2af-fe55-4324-8872-30eaa5e89df2\">\n",
              "      <button class=\"colab-df-quickchart\" onclick=\"quickchart('df-5505f2af-fe55-4324-8872-30eaa5e89df2')\"\n",
              "              title=\"Suggest charts.\"\n",
              "              style=\"display:none;\">\n",
              "\n",
              "<svg xmlns=\"http://www.w3.org/2000/svg\" height=\"24px\"viewBox=\"0 0 24 24\"\n",
              "     width=\"24px\">\n",
              "    <g>\n",
              "        <path d=\"M19 3H5c-1.1 0-2 .9-2 2v14c0 1.1.9 2 2 2h14c1.1 0 2-.9 2-2V5c0-1.1-.9-2-2-2zM9 17H7v-7h2v7zm4 0h-2V7h2v10zm4 0h-2v-4h2v4z\"/>\n",
              "    </g>\n",
              "</svg>\n",
              "      </button>\n",
              "    </div>\n",
              "\n",
              "<style>\n",
              "  .colab-df-quickchart {\n",
              "    background-color: #E8F0FE;\n",
              "    border: none;\n",
              "    border-radius: 50%;\n",
              "    cursor: pointer;\n",
              "    display: none;\n",
              "    fill: #1967D2;\n",
              "    height: 32px;\n",
              "    padding: 0 0 0 0;\n",
              "    width: 32px;\n",
              "  }\n",
              "\n",
              "  .colab-df-quickchart:hover {\n",
              "    background-color: #E2EBFA;\n",
              "    box-shadow: 0px 1px 2px rgba(60, 64, 67, 0.3), 0px 1px 3px 1px rgba(60, 64, 67, 0.15);\n",
              "    fill: #174EA6;\n",
              "  }\n",
              "\n",
              "  [theme=dark] .colab-df-quickchart {\n",
              "    background-color: #3B4455;\n",
              "    fill: #D2E3FC;\n",
              "  }\n",
              "\n",
              "  [theme=dark] .colab-df-quickchart:hover {\n",
              "    background-color: #434B5C;\n",
              "    box-shadow: 0px 1px 3px 1px rgba(0, 0, 0, 0.15);\n",
              "    filter: drop-shadow(0px 1px 2px rgba(0, 0, 0, 0.3));\n",
              "    fill: #FFFFFF;\n",
              "  }\n",
              "</style>\n",
              "\n",
              "    <script>\n",
              "      async function quickchart(key) {\n",
              "        const containerElement = document.querySelector('#' + key);\n",
              "        const charts = await google.colab.kernel.invokeFunction(\n",
              "            'suggestCharts', [key], {});\n",
              "      }\n",
              "    </script>\n",
              "\n",
              "      <script>\n",
              "\n",
              "function displayQuickchartButton(domScope) {\n",
              "  let quickchartButtonEl =\n",
              "    domScope.querySelector('#df-5505f2af-fe55-4324-8872-30eaa5e89df2 button.colab-df-quickchart');\n",
              "  quickchartButtonEl.style.display =\n",
              "    google.colab.kernel.accessAllowed ? 'block' : 'none';\n",
              "}\n",
              "\n",
              "        displayQuickchartButton(document);\n",
              "      </script>\n",
              "      <style>\n",
              "    .colab-df-container {\n",
              "      display:flex;\n",
              "      flex-wrap:wrap;\n",
              "      gap: 12px;\n",
              "    }\n",
              "\n",
              "    .colab-df-convert {\n",
              "      background-color: #E8F0FE;\n",
              "      border: none;\n",
              "      border-radius: 50%;\n",
              "      cursor: pointer;\n",
              "      display: none;\n",
              "      fill: #1967D2;\n",
              "      height: 32px;\n",
              "      padding: 0 0 0 0;\n",
              "      width: 32px;\n",
              "    }\n",
              "\n",
              "    .colab-df-convert:hover {\n",
              "      background-color: #E2EBFA;\n",
              "      box-shadow: 0px 1px 2px rgba(60, 64, 67, 0.3), 0px 1px 3px 1px rgba(60, 64, 67, 0.15);\n",
              "      fill: #174EA6;\n",
              "    }\n",
              "\n",
              "    [theme=dark] .colab-df-convert {\n",
              "      background-color: #3B4455;\n",
              "      fill: #D2E3FC;\n",
              "    }\n",
              "\n",
              "    [theme=dark] .colab-df-convert:hover {\n",
              "      background-color: #434B5C;\n",
              "      box-shadow: 0px 1px 3px 1px rgba(0, 0, 0, 0.15);\n",
              "      filter: drop-shadow(0px 1px 2px rgba(0, 0, 0, 0.3));\n",
              "      fill: #FFFFFF;\n",
              "    }\n",
              "  </style>\n",
              "\n",
              "      <script>\n",
              "        const buttonEl =\n",
              "          document.querySelector('#df-49efe5f2-241e-44af-8e3c-5bd79a0e9a57 button.colab-df-convert');\n",
              "        buttonEl.style.display =\n",
              "          google.colab.kernel.accessAllowed ? 'block' : 'none';\n",
              "\n",
              "        async function convertToInteractive(key) {\n",
              "          const element = document.querySelector('#df-49efe5f2-241e-44af-8e3c-5bd79a0e9a57');\n",
              "          const dataTable =\n",
              "            await google.colab.kernel.invokeFunction('convertToInteractive',\n",
              "                                                     [key], {});\n",
              "          if (!dataTable) return;\n",
              "\n",
              "          const docLinkHtml = 'Like what you see? Visit the ' +\n",
              "            '<a target=\"_blank\" href=https://colab.research.google.com/notebooks/data_table.ipynb>data table notebook</a>'\n",
              "            + ' to learn more about interactive tables.';\n",
              "          element.innerHTML = '';\n",
              "          dataTable['output_type'] = 'display_data';\n",
              "          await google.colab.output.renderOutput(dataTable, element);\n",
              "          const docLink = document.createElement('div');\n",
              "          docLink.innerHTML = docLinkHtml;\n",
              "          element.appendChild(docLink);\n",
              "        }\n",
              "      </script>\n",
              "    </div>\n",
              "  </div>\n"
            ]
          },
          "metadata": {},
          "execution_count": 77
        }
      ],
      "source": [
        "no_internship = df[df['Internships'] == 0]\n",
        "print(\"Total student doesn't have any internship are\",no_internship.count())\n",
        "no_internship"
      ]
    },
    {
      "cell_type": "code",
      "execution_count": 78,
      "metadata": {
        "colab": {
          "base_uri": "https://localhost:8080/",
          "height": 0
        },
        "id": "9CBdQIB7PdLU",
        "outputId": "63c27ea0-47b1-4fe9-e5d6-16c25a7b715e"
      },
      "outputs": [
        {
          "output_type": "stream",
          "name": "stdout",
          "text": [
            "<class 'pandas.core.frame.DataFrame'>\n",
            "Int64Index: 841 entries, 0 to 2960\n",
            "Data columns (total 8 columns):\n",
            " #   Column             Non-Null Count  Dtype \n",
            "---  ------             --------------  ----- \n",
            " 0   Age                841 non-null    int64 \n",
            " 1   Gender             841 non-null    object\n",
            " 2   Stream             841 non-null    object\n",
            " 3   Internships        841 non-null    int64 \n",
            " 4   CGPA               841 non-null    int64 \n",
            " 5   Hostel             841 non-null    int64 \n",
            " 6   HistoryOfBacklogs  841 non-null    int64 \n",
            " 7   PlacedOrNot        841 non-null    int64 \n",
            "dtypes: int64(6), object(2)\n",
            "memory usage: 59.1+ KB\n"
          ]
        }
      ],
      "source": [
        "df.info()"
      ]
    },
    {
      "cell_type": "markdown",
      "source": [
        "#Encoding\n",
        "> *Encoding is the process of converting data from one format or representation to another, typically used in the context of transforming categorical data into a numerical format suitable for machine learning algorithms and data analysis.*\n",
        "\n",
        "There are various encoding techniques, including:\n",
        "\n",
        "\n",
        "1. **One-Hot Encoding**: It creates binary columns for each\n",
        "category, representing the presence (1) or absence (0) of the category.\n",
        "2. **Label Encoding**: It assigns a unique integer value to each category, effectively converting them into ordinal values.\n",
        "3. **Ordinal Encoding**: It assigns integer values to categories based on their order or rank.\n",
        "4. **Binary Encoding**: It represents each integer value as binary code, resulting in a compact representation.\n",
        "5. **Hashing Encoding**: It converts categories into hash values, reducing the dimensionality of the data.\n"
      ],
      "metadata": {
        "id": "UvDhRd3OBbI7"
      }
    },
    {
      "cell_type": "markdown",
      "source": [
        "\n",
        "> **sklearn.preprocessing** is a module in scikit-learn that provides tools for preparing data for machine learning. It includes functions for scaling, encoding, and handling missing values to make the data suitable for training models.\n",
        "\n",
        "\n"
      ],
      "metadata": {
        "id": "NWIe258ODDQQ"
      }
    },
    {
      "cell_type": "code",
      "execution_count": 79,
      "metadata": {
        "id": "PGJuOf6rR3pj"
      },
      "outputs": [],
      "source": [
        "from sklearn.preprocessing import OrdinalEncoder"
      ]
    },
    {
      "cell_type": "code",
      "execution_count": 80,
      "metadata": {
        "id": "h-lsPDBYSUWL"
      },
      "outputs": [],
      "source": [
        "#fit is used only one time\n",
        "#fit::  to perform calculations on data\n",
        "#transform::  apply that calculation\n",
        "oe=OrdinalEncoder()\n",
        "df[[\"Gender\",\"Stream\"]]=oe.fit_transform(df[[\"Gender\",\"Stream\"]])"
      ]
    },
    {
      "cell_type": "code",
      "execution_count": 112,
      "metadata": {
        "colab": {
          "base_uri": "https://localhost:8080/",
          "height": 423
        },
        "id": "n95xi-DlShTv",
        "outputId": "9287a65a-95a8-4326-8113-98f2d314bcf1"
      },
      "outputs": [
        {
          "output_type": "execute_result",
          "data": {
            "text/plain": [
              "      Age  Gender  Stream  Internships  CGPA  Hostel  HistoryOfBacklogs  \\\n",
              "0      22     1.0     3.0            1     8       1                  1   \n",
              "1      21     0.0     1.0            0     7       1                  1   \n",
              "2      22     0.0     4.0            1     6       0                  0   \n",
              "3      21     1.0     4.0            0     8       0                  1   \n",
              "4      22     1.0     5.0            0     8       1                  0   \n",
              "...   ...     ...     ...          ...   ...     ...                ...   \n",
              "2946   23     1.0     4.0            1     7       1                  1   \n",
              "2952   23     1.0     5.0            0     8       1                  0   \n",
              "2954   23     0.0     1.0            1     8       0                  1   \n",
              "2958   23     1.0     1.0            0     6       0                  1   \n",
              "2960   23     1.0     5.0            1     7       1                  0   \n",
              "\n",
              "      PlacedOrNot  \n",
              "0               1  \n",
              "1               1  \n",
              "2               1  \n",
              "3               1  \n",
              "4               1  \n",
              "...           ...  \n",
              "2946            0  \n",
              "2952            1  \n",
              "2954            1  \n",
              "2958            0  \n",
              "2960            0  \n",
              "\n",
              "[841 rows x 8 columns]"
            ],
            "text/html": [
              "\n",
              "\n",
              "  <div id=\"df-5ca59381-ac44-4f7b-8d93-42d60b262e4b\">\n",
              "    <div class=\"colab-df-container\">\n",
              "      <div>\n",
              "<style scoped>\n",
              "    .dataframe tbody tr th:only-of-type {\n",
              "        vertical-align: middle;\n",
              "    }\n",
              "\n",
              "    .dataframe tbody tr th {\n",
              "        vertical-align: top;\n",
              "    }\n",
              "\n",
              "    .dataframe thead th {\n",
              "        text-align: right;\n",
              "    }\n",
              "</style>\n",
              "<table border=\"1\" class=\"dataframe\">\n",
              "  <thead>\n",
              "    <tr style=\"text-align: right;\">\n",
              "      <th></th>\n",
              "      <th>Age</th>\n",
              "      <th>Gender</th>\n",
              "      <th>Stream</th>\n",
              "      <th>Internships</th>\n",
              "      <th>CGPA</th>\n",
              "      <th>Hostel</th>\n",
              "      <th>HistoryOfBacklogs</th>\n",
              "      <th>PlacedOrNot</th>\n",
              "    </tr>\n",
              "  </thead>\n",
              "  <tbody>\n",
              "    <tr>\n",
              "      <th>0</th>\n",
              "      <td>22</td>\n",
              "      <td>1.0</td>\n",
              "      <td>3.0</td>\n",
              "      <td>1</td>\n",
              "      <td>8</td>\n",
              "      <td>1</td>\n",
              "      <td>1</td>\n",
              "      <td>1</td>\n",
              "    </tr>\n",
              "    <tr>\n",
              "      <th>1</th>\n",
              "      <td>21</td>\n",
              "      <td>0.0</td>\n",
              "      <td>1.0</td>\n",
              "      <td>0</td>\n",
              "      <td>7</td>\n",
              "      <td>1</td>\n",
              "      <td>1</td>\n",
              "      <td>1</td>\n",
              "    </tr>\n",
              "    <tr>\n",
              "      <th>2</th>\n",
              "      <td>22</td>\n",
              "      <td>0.0</td>\n",
              "      <td>4.0</td>\n",
              "      <td>1</td>\n",
              "      <td>6</td>\n",
              "      <td>0</td>\n",
              "      <td>0</td>\n",
              "      <td>1</td>\n",
              "    </tr>\n",
              "    <tr>\n",
              "      <th>3</th>\n",
              "      <td>21</td>\n",
              "      <td>1.0</td>\n",
              "      <td>4.0</td>\n",
              "      <td>0</td>\n",
              "      <td>8</td>\n",
              "      <td>0</td>\n",
              "      <td>1</td>\n",
              "      <td>1</td>\n",
              "    </tr>\n",
              "    <tr>\n",
              "      <th>4</th>\n",
              "      <td>22</td>\n",
              "      <td>1.0</td>\n",
              "      <td>5.0</td>\n",
              "      <td>0</td>\n",
              "      <td>8</td>\n",
              "      <td>1</td>\n",
              "      <td>0</td>\n",
              "      <td>1</td>\n",
              "    </tr>\n",
              "    <tr>\n",
              "      <th>...</th>\n",
              "      <td>...</td>\n",
              "      <td>...</td>\n",
              "      <td>...</td>\n",
              "      <td>...</td>\n",
              "      <td>...</td>\n",
              "      <td>...</td>\n",
              "      <td>...</td>\n",
              "      <td>...</td>\n",
              "    </tr>\n",
              "    <tr>\n",
              "      <th>2946</th>\n",
              "      <td>23</td>\n",
              "      <td>1.0</td>\n",
              "      <td>4.0</td>\n",
              "      <td>1</td>\n",
              "      <td>7</td>\n",
              "      <td>1</td>\n",
              "      <td>1</td>\n",
              "      <td>0</td>\n",
              "    </tr>\n",
              "    <tr>\n",
              "      <th>2952</th>\n",
              "      <td>23</td>\n",
              "      <td>1.0</td>\n",
              "      <td>5.0</td>\n",
              "      <td>0</td>\n",
              "      <td>8</td>\n",
              "      <td>1</td>\n",
              "      <td>0</td>\n",
              "      <td>1</td>\n",
              "    </tr>\n",
              "    <tr>\n",
              "      <th>2954</th>\n",
              "      <td>23</td>\n",
              "      <td>0.0</td>\n",
              "      <td>1.0</td>\n",
              "      <td>1</td>\n",
              "      <td>8</td>\n",
              "      <td>0</td>\n",
              "      <td>1</td>\n",
              "      <td>1</td>\n",
              "    </tr>\n",
              "    <tr>\n",
              "      <th>2958</th>\n",
              "      <td>23</td>\n",
              "      <td>1.0</td>\n",
              "      <td>1.0</td>\n",
              "      <td>0</td>\n",
              "      <td>6</td>\n",
              "      <td>0</td>\n",
              "      <td>1</td>\n",
              "      <td>0</td>\n",
              "    </tr>\n",
              "    <tr>\n",
              "      <th>2960</th>\n",
              "      <td>23</td>\n",
              "      <td>1.0</td>\n",
              "      <td>5.0</td>\n",
              "      <td>1</td>\n",
              "      <td>7</td>\n",
              "      <td>1</td>\n",
              "      <td>0</td>\n",
              "      <td>0</td>\n",
              "    </tr>\n",
              "  </tbody>\n",
              "</table>\n",
              "<p>841 rows × 8 columns</p>\n",
              "</div>\n",
              "      <button class=\"colab-df-convert\" onclick=\"convertToInteractive('df-5ca59381-ac44-4f7b-8d93-42d60b262e4b')\"\n",
              "              title=\"Convert this dataframe to an interactive table.\"\n",
              "              style=\"display:none;\">\n",
              "\n",
              "  <svg xmlns=\"http://www.w3.org/2000/svg\" height=\"24px\"viewBox=\"0 0 24 24\"\n",
              "       width=\"24px\">\n",
              "    <path d=\"M0 0h24v24H0V0z\" fill=\"none\"/>\n",
              "    <path d=\"M18.56 5.44l.94 2.06.94-2.06 2.06-.94-2.06-.94-.94-2.06-.94 2.06-2.06.94zm-11 1L8.5 8.5l.94-2.06 2.06-.94-2.06-.94L8.5 2.5l-.94 2.06-2.06.94zm10 10l.94 2.06.94-2.06 2.06-.94-2.06-.94-.94-2.06-.94 2.06-2.06.94z\"/><path d=\"M17.41 7.96l-1.37-1.37c-.4-.4-.92-.59-1.43-.59-.52 0-1.04.2-1.43.59L10.3 9.45l-7.72 7.72c-.78.78-.78 2.05 0 2.83L4 21.41c.39.39.9.59 1.41.59.51 0 1.02-.2 1.41-.59l7.78-7.78 2.81-2.81c.8-.78.8-2.07 0-2.86zM5.41 20L4 18.59l7.72-7.72 1.47 1.35L5.41 20z\"/>\n",
              "  </svg>\n",
              "      </button>\n",
              "\n",
              "\n",
              "\n",
              "    <div id=\"df-f3a63586-eb96-4bd9-a351-2654dd762002\">\n",
              "      <button class=\"colab-df-quickchart\" onclick=\"quickchart('df-f3a63586-eb96-4bd9-a351-2654dd762002')\"\n",
              "              title=\"Suggest charts.\"\n",
              "              style=\"display:none;\">\n",
              "\n",
              "<svg xmlns=\"http://www.w3.org/2000/svg\" height=\"24px\"viewBox=\"0 0 24 24\"\n",
              "     width=\"24px\">\n",
              "    <g>\n",
              "        <path d=\"M19 3H5c-1.1 0-2 .9-2 2v14c0 1.1.9 2 2 2h14c1.1 0 2-.9 2-2V5c0-1.1-.9-2-2-2zM9 17H7v-7h2v7zm4 0h-2V7h2v10zm4 0h-2v-4h2v4z\"/>\n",
              "    </g>\n",
              "</svg>\n",
              "      </button>\n",
              "    </div>\n",
              "\n",
              "<style>\n",
              "  .colab-df-quickchart {\n",
              "    background-color: #E8F0FE;\n",
              "    border: none;\n",
              "    border-radius: 50%;\n",
              "    cursor: pointer;\n",
              "    display: none;\n",
              "    fill: #1967D2;\n",
              "    height: 32px;\n",
              "    padding: 0 0 0 0;\n",
              "    width: 32px;\n",
              "  }\n",
              "\n",
              "  .colab-df-quickchart:hover {\n",
              "    background-color: #E2EBFA;\n",
              "    box-shadow: 0px 1px 2px rgba(60, 64, 67, 0.3), 0px 1px 3px 1px rgba(60, 64, 67, 0.15);\n",
              "    fill: #174EA6;\n",
              "  }\n",
              "\n",
              "  [theme=dark] .colab-df-quickchart {\n",
              "    background-color: #3B4455;\n",
              "    fill: #D2E3FC;\n",
              "  }\n",
              "\n",
              "  [theme=dark] .colab-df-quickchart:hover {\n",
              "    background-color: #434B5C;\n",
              "    box-shadow: 0px 1px 3px 1px rgba(0, 0, 0, 0.15);\n",
              "    filter: drop-shadow(0px 1px 2px rgba(0, 0, 0, 0.3));\n",
              "    fill: #FFFFFF;\n",
              "  }\n",
              "</style>\n",
              "\n",
              "    <script>\n",
              "      async function quickchart(key) {\n",
              "        const containerElement = document.querySelector('#' + key);\n",
              "        const charts = await google.colab.kernel.invokeFunction(\n",
              "            'suggestCharts', [key], {});\n",
              "      }\n",
              "    </script>\n",
              "\n",
              "      <script>\n",
              "\n",
              "function displayQuickchartButton(domScope) {\n",
              "  let quickchartButtonEl =\n",
              "    domScope.querySelector('#df-f3a63586-eb96-4bd9-a351-2654dd762002 button.colab-df-quickchart');\n",
              "  quickchartButtonEl.style.display =\n",
              "    google.colab.kernel.accessAllowed ? 'block' : 'none';\n",
              "}\n",
              "\n",
              "        displayQuickchartButton(document);\n",
              "      </script>\n",
              "      <style>\n",
              "    .colab-df-container {\n",
              "      display:flex;\n",
              "      flex-wrap:wrap;\n",
              "      gap: 12px;\n",
              "    }\n",
              "\n",
              "    .colab-df-convert {\n",
              "      background-color: #E8F0FE;\n",
              "      border: none;\n",
              "      border-radius: 50%;\n",
              "      cursor: pointer;\n",
              "      display: none;\n",
              "      fill: #1967D2;\n",
              "      height: 32px;\n",
              "      padding: 0 0 0 0;\n",
              "      width: 32px;\n",
              "    }\n",
              "\n",
              "    .colab-df-convert:hover {\n",
              "      background-color: #E2EBFA;\n",
              "      box-shadow: 0px 1px 2px rgba(60, 64, 67, 0.3), 0px 1px 3px 1px rgba(60, 64, 67, 0.15);\n",
              "      fill: #174EA6;\n",
              "    }\n",
              "\n",
              "    [theme=dark] .colab-df-convert {\n",
              "      background-color: #3B4455;\n",
              "      fill: #D2E3FC;\n",
              "    }\n",
              "\n",
              "    [theme=dark] .colab-df-convert:hover {\n",
              "      background-color: #434B5C;\n",
              "      box-shadow: 0px 1px 3px 1px rgba(0, 0, 0, 0.15);\n",
              "      filter: drop-shadow(0px 1px 2px rgba(0, 0, 0, 0.3));\n",
              "      fill: #FFFFFF;\n",
              "    }\n",
              "  </style>\n",
              "\n",
              "      <script>\n",
              "        const buttonEl =\n",
              "          document.querySelector('#df-5ca59381-ac44-4f7b-8d93-42d60b262e4b button.colab-df-convert');\n",
              "        buttonEl.style.display =\n",
              "          google.colab.kernel.accessAllowed ? 'block' : 'none';\n",
              "\n",
              "        async function convertToInteractive(key) {\n",
              "          const element = document.querySelector('#df-5ca59381-ac44-4f7b-8d93-42d60b262e4b');\n",
              "          const dataTable =\n",
              "            await google.colab.kernel.invokeFunction('convertToInteractive',\n",
              "                                                     [key], {});\n",
              "          if (!dataTable) return;\n",
              "\n",
              "          const docLinkHtml = 'Like what you see? Visit the ' +\n",
              "            '<a target=\"_blank\" href=https://colab.research.google.com/notebooks/data_table.ipynb>data table notebook</a>'\n",
              "            + ' to learn more about interactive tables.';\n",
              "          element.innerHTML = '';\n",
              "          dataTable['output_type'] = 'display_data';\n",
              "          await google.colab.output.renderOutput(dataTable, element);\n",
              "          const docLink = document.createElement('div');\n",
              "          docLink.innerHTML = docLinkHtml;\n",
              "          element.appendChild(docLink);\n",
              "        }\n",
              "      </script>\n",
              "    </div>\n",
              "  </div>\n"
            ]
          },
          "metadata": {},
          "execution_count": 112
        }
      ],
      "source": [
        "df"
      ]
    },
    {
      "cell_type": "markdown",
      "source": [
        "**df.iloc** is a way to access data in a pandas DataFrame using integer-based indexing.\n",
        "\n",
        "Syntax:\n",
        "df.iloc[row_index, column_index]\n"
      ],
      "metadata": {
        "id": "hDQ4F98LEt8H"
      }
    },
    {
      "cell_type": "code",
      "execution_count": 82,
      "metadata": {
        "id": "g-YMpBjuTN8H"
      },
      "outputs": [],
      "source": [
        "x = df.iloc[:,0:7]\n",
        "y = df.iloc[:,-1]"
      ]
    },
    {
      "cell_type": "code",
      "execution_count": 83,
      "metadata": {
        "colab": {
          "base_uri": "https://localhost:8080/",
          "height": 0
        },
        "id": "dJ58oWSwTbwZ",
        "outputId": "481cdcff-8677-431b-8085-85e4334642e3"
      },
      "outputs": [
        {
          "output_type": "stream",
          "name": "stdout",
          "text": [
            "      Age  Gender  Stream  Internships  CGPA  Hostel  HistoryOfBacklogs\n",
            "0      22     1.0     3.0            1     8       1                  1\n",
            "1      21     0.0     1.0            0     7       1                  1\n",
            "2      22     0.0     4.0            1     6       0                  0\n",
            "3      21     1.0     4.0            0     8       0                  1\n",
            "4      22     1.0     5.0            0     8       1                  0\n",
            "...   ...     ...     ...          ...   ...     ...                ...\n",
            "2946   23     1.0     4.0            1     7       1                  1\n",
            "2952   23     1.0     5.0            0     8       1                  0\n",
            "2954   23     0.0     1.0            1     8       0                  1\n",
            "2958   23     1.0     1.0            0     6       0                  1\n",
            "2960   23     1.0     5.0            1     7       1                  0\n",
            "\n",
            "[841 rows x 7 columns]\n"
          ]
        }
      ],
      "source": [
        "print(x)"
      ]
    },
    {
      "cell_type": "code",
      "execution_count": 84,
      "metadata": {
        "colab": {
          "base_uri": "https://localhost:8080/",
          "height": 0
        },
        "id": "EaQouLmNTjJ8",
        "outputId": "a130aab8-43da-4175-adbe-96863749a01f"
      },
      "outputs": [
        {
          "output_type": "stream",
          "name": "stdout",
          "text": [
            "0       1\n",
            "1       1\n",
            "2       1\n",
            "3       1\n",
            "4       1\n",
            "       ..\n",
            "2946    0\n",
            "2952    1\n",
            "2954    1\n",
            "2958    0\n",
            "2960    0\n",
            "Name: PlacedOrNot, Length: 841, dtype: int64\n"
          ]
        }
      ],
      "source": [
        "print(y)"
      ]
    },
    {
      "cell_type": "code",
      "execution_count": 85,
      "metadata": {
        "colab": {
          "base_uri": "https://localhost:8080/",
          "height": 0
        },
        "id": "Tt6BfaSqTrcQ",
        "outputId": "25486def-3635-4352-8871-b123b539e980"
      },
      "outputs": [
        {
          "output_type": "stream",
          "name": "stdout",
          "text": [
            "(841, 7)\n",
            "(841,)\n"
          ]
        }
      ],
      "source": [
        "print(x.shape)\n",
        "print(y.shape)"
      ]
    },
    {
      "cell_type": "markdown",
      "source": [
        "**sklearn.model_selection.train_test_split** is a function from scikit-learn that helps split a dataset into training and testing sets for machine learning. It is commonly used to evaluate the performance of a model on unseen data.\n",
        "\n",
        "\n",
        "* x: The features or independent variables of the dataset.\n",
        "* y: The target or dependent variable of the dataset.\n",
        "* test_size: The proportion of the data to include in the testing set (e.g., 0.2 means 20% of the data will be used for testing).\n",
        "* random_state: A seed value used for random sampling to ensure reproducibility. It is optional but recommended to set for reproducibility."
      ],
      "metadata": {
        "id": "gM7B_E4HFZUA"
      }
    },
    {
      "cell_type": "code",
      "execution_count": 86,
      "metadata": {
        "id": "954U55_kT8BB"
      },
      "outputs": [],
      "source": [
        "from sklearn.model_selection import train_test_split"
      ]
    },
    {
      "cell_type": "code",
      "execution_count": 87,
      "metadata": {
        "id": "TYAaUhuCTxug"
      },
      "outputs": [],
      "source": [
        "x_train,x_test,y_train,y_test = train_test_split(x,y,test_size=0.3,random_state=1)"
      ]
    },
    {
      "cell_type": "code",
      "execution_count": 88,
      "metadata": {
        "colab": {
          "base_uri": "https://localhost:8080/",
          "height": 0
        },
        "id": "PgSHOuPTULTX",
        "outputId": "59c11982-611a-4f5d-95ff-35ff0db9d23a"
      },
      "outputs": [
        {
          "output_type": "stream",
          "name": "stdout",
          "text": [
            "(588, 7)\n",
            "(253, 7)\n",
            "(588,)\n",
            "(253,)\n"
          ]
        }
      ],
      "source": [
        "print(x_train.shape)\n",
        "print(x_test.shape)\n",
        "print(y_train.shape)\n",
        "print(y_test.shape)"
      ]
    },
    {
      "cell_type": "markdown",
      "source": [
        "##Linear Regression\n",
        "Linear regression is a method to model the relationship between variables using a straight line. It finds the best-fitting line that predicts the dependent variable based on the independent variable(s).\n",
        "\n",
        " In simple linear regression, there is only one independent variable, and the relationship is modeled as:\n",
        "\n",
        "### > **y = mx + c**\n",
        "\n",
        "where:\n",
        "* y is the dependent variable (target),\n",
        "* x is the independent variable (feature),\n",
        "* m is the slope (coefficient) of the line, representing the change in y for a unit change in x,\n",
        "* c is the y-intercept, representing the value of y when x is 0.\n"
      ],
      "metadata": {
        "id": "orBHr5vSF8Pv"
      }
    },
    {
      "cell_type": "code",
      "execution_count": 89,
      "metadata": {
        "id": "UPyGQ8xxUly6"
      },
      "outputs": [],
      "source": [
        "#step1: import the model\n",
        "from sklearn.linear_model import LinearRegression\n",
        "\n",
        "#step2: initalize the model\n",
        "linreg = LinearRegression()\n",
        "\n",
        "#step3: train the model -> m & c\n",
        "linreg.fit(x_train, y_train)\n",
        "\n",
        "#step4: make prediction\n",
        "ypred = linreg.predict(x_test)"
      ]
    },
    {
      "cell_type": "markdown",
      "source": [
        "r2_score is a performance metric used to evaluate the goodness of fit of a regression model.\n",
        "\n",
        "Accuracy is a performance metric used to evaluate the performance of a machine learning model."
      ],
      "metadata": {
        "id": "-keYJXPbcx11"
      }
    },
    {
      "cell_type": "code",
      "execution_count": 90,
      "metadata": {
        "colab": {
          "base_uri": "https://localhost:8080/",
          "height": 0
        },
        "id": "RK_SEWNmVRFD",
        "outputId": "881ecb51-60e8-4a48-e85e-c5d3409df04e"
      },
      "outputs": [
        {
          "output_type": "stream",
          "name": "stdout",
          "text": [
            "Accuracy : 0.43869999066399756\n"
          ]
        }
      ],
      "source": [
        "from sklearn.metrics import r2_score\n",
        "print(f\"Accuracy : {r2_score(y_test, ypred)}\")"
      ]
    },
    {
      "cell_type": "markdown",
      "source": [
        "**linreg.intercept_** is the y-intercept (c) of the linear regression line obtained from the model. It represents the predicted value of the dependent variable when the independent variable(s) is/are zero."
      ],
      "metadata": {
        "id": "M63NK5M_vbBK"
      }
    },
    {
      "cell_type": "code",
      "execution_count": 91,
      "metadata": {
        "colab": {
          "base_uri": "https://localhost:8080/",
          "height": 0
        },
        "id": "SO8bE_aFdmtI",
        "outputId": "55b63c18-2c2d-470c-b80f-dcec92019b5a"
      },
      "outputs": [
        {
          "output_type": "execute_result",
          "data": {
            "text/plain": [
              "-1.2115892113032343"
            ]
          },
          "metadata": {},
          "execution_count": 91
        }
      ],
      "source": [
        "linreg.intercept_"
      ]
    },
    {
      "cell_type": "markdown",
      "source": [
        "**linreg.coef_** is an attribute of the linear regression model (linreg) in scikit-learn. It represents the coefficients (m) of the independent variables (features) in the fitted line obtained from the linear regression model."
      ],
      "metadata": {
        "id": "UouDv35tv3Y0"
      }
    },
    {
      "cell_type": "code",
      "execution_count": 92,
      "metadata": {
        "colab": {
          "base_uri": "https://localhost:8080/",
          "height": 0
        },
        "id": "NDEZ4gd6dn4F",
        "outputId": "423a8c94-e557-4a6c-8cda-f30709db15a4"
      },
      "outputs": [
        {
          "output_type": "execute_result",
          "data": {
            "text/plain": [
              "array([-0.00910499,  0.05759927,  0.0117809 ,  0.07786037,  0.26593332,\n",
              "       -0.0266168 , -0.07571825])"
            ]
          },
          "metadata": {},
          "execution_count": 92
        }
      ],
      "source": [
        "linreg.coef_"
      ]
    },
    {
      "cell_type": "markdown",
      "source": [
        "##Model\n",
        "The term \"model\" in the context of machine learning refers to a mathematical representation or algorithm that is trained on data to make predictions or decisions without being explicitly programmed.\n",
        "\n",
        "Its like a reciepe\n",
        "\n",
        "**model.intercept_** is an attribute that represents the y-intercept (c) of the fitted line obtained from the linear regression model.\n",
        "\n",
        "**model.coef_** is an attribute that represents the coefficients (m) of the independent variables (features) in the fitted line obtained from the linear regression model."
      ],
      "metadata": {
        "id": "pgbqGYgOwl9C"
      }
    },
    {
      "cell_type": "code",
      "execution_count": 93,
      "metadata": {
        "id": "IgwPqC95Wrpw"
      },
      "outputs": [],
      "source": [
        "model=LinearRegression() # creating object of linear regression class\n",
        "model.fit(x,y) #training of model\n",
        "ypred=model.predict(x) #testing of model\n",
        "#ypred stores the predicted value of y"
      ]
    },
    {
      "cell_type": "code",
      "execution_count": 94,
      "metadata": {
        "colab": {
          "base_uri": "https://localhost:8080/",
          "height": 0
        },
        "id": "i7XNeHADW1tB",
        "outputId": "873e2063-df44-4321-896f-abd8f6bd284b"
      },
      "outputs": [
        {
          "output_type": "execute_result",
          "data": {
            "text/plain": [
              "array([ 0.79343208,  0.37622459,  0.28885811,  0.73419998,  0.78380378,\n",
              "        0.24375269,  0.44210239,  0.6101164 ,  0.40369968,  0.25214101,\n",
              "        0.59012825,  0.75931725,  0.27433047,  0.80103911,  0.91591652,\n",
              "        0.52425046,  0.22605737,  0.59127467,  0.77142266,  0.31801881,\n",
              "        0.49816681,  0.539198  ,  0.51700854,  0.76610846,  0.86966469,\n",
              "        0.88222584,  0.25117968,  0.86948465,  0.59755524,  0.53813807,\n",
              "        0.51187438,  0.31801881,  0.33686055,  0.49816681,  0.86338411,\n",
              "        0.33571413,  0.72677298,  0.25966156,  0.75240089,  0.51504206,\n",
              "        0.92105069,  0.54034441,  0.69579727,  0.47129893,  0.7902644 ,\n",
              "        0.8708111 ,  0.79865273,  0.59127467,  0.79141081,  0.77256908,\n",
              "        0.82395508,  1.15997583,  0.77770324,  0.79769139,  1.07094725,\n",
              "        0.86435048,  1.07608141,  1.13663996,  1.22232083,  0.72145878,\n",
              "        1.06980083,  1.1554817 ,  1.05820605,  0.72031237,  0.79654498,\n",
              "        0.86453052,  1.04582493,  1.13778638,  0.78495019,  0.68951669,\n",
              "        0.77884965,  0.23233794,  0.24471402,  0.61525057,  0.79475853,\n",
              "        0.33571413,  0.32429939,  0.64779483,  0.67695553,  0.4764331 ,\n",
              "        0.53071611,  0.50330097,  0.22376454,  0.06759244, -0.05595193,\n",
              "        0.33456772,  0.60782357,  0.33456772,  0.2363257 ,  0.5888018 ,\n",
              "        0.23614566,  0.37339256,  0.601543  ,  0.06131186,  0.68076325,\n",
              "        0.17265424,  0.23004512,  0.54822636,  0.25833511, -0.03693016,\n",
              "        0.04247013,  0.51586213,  0.47799862, -0.10060161,  0.36711199,\n",
              "       -0.024369  ,  0.31572598,  0.51700854, -0.03596378,  0.04361654,\n",
              "        0.16884653, -0.03463733,  0.29000452,  0.31173823,  0.10242953,\n",
              "        0.33686055,  0.22491095,  0.43467539,  0.52443553,  0.51815496,\n",
              "        0.54309219,  0.32315298,  0.00400747,  0.26983634,  0.40255326,\n",
              "        0.26708855, -0.0483449 ,  0.07323299,  0.58384767,  0.52539687,\n",
              "       -0.0097001 ,  0.20432366, -0.04206433,  0.51169434, -0.04091791,\n",
              "       -0.08556759, -0.02226125,  0.33374765, -0.0189085 ,  0.60993132,\n",
              "        0.67695553,  0.3168724 ,  0.35666362,  0.60383582,  0.46501836,\n",
              "        0.80397197,  0.95021139,  0.18654185,  0.26488221,  0.56597231,\n",
              "        0.59640883,  0.80617327,  0.94906497,  0.26062794,  0.50444739,\n",
              "        0.20703559,  0.27726333,  0.23729207,  0.87594526,  0.75083537,\n",
              "        0.60896999,  0.64894125,  0.82377504,  0.56211397,  0.16531374,\n",
              "        0.95003135,  0.41565362,  0.32429939,  0.41626083,  0.59737521,\n",
              "        0.27629695,  0.68734395,  0.79971266,  0.7340149 ,  0.40998026,\n",
              "        0.32943355,  0.88337226,  0.83651623,  0.58499409,  0.421395  ,\n",
              "        0.21959675,  0.5264568 ,  0.2448991 ,  0.71421183,  0.49931322,\n",
              "        0.51911629,  0.18768826,  0.64266067,  0.82262863,  0.17494707,\n",
              "        0.48029145,  0.24806678,  0.40980022,  0.52328912,  0.29157005,\n",
              "        0.27318405,  0.67580912,  0.52017622,  0.31059182,  0.51815496,\n",
              "        0.16770012,  0.89185414,  0.18654185,  0.2509946 ,  0.78513023,\n",
              "        0.63115944,  0.79750631,  0.22491095,  0.23729207,  0.20317724,\n",
              "        0.16646015,  0.4672247 ,  0.32411935,  0.24692037,  0.19061609,\n",
              "        0.44705651,  0.60993132,  0.23843848,  0.87709168,  0.56211397,\n",
              "        0.51169434,  0.23119153,  0.17398069,  0.96905312,  0.78398382,\n",
              "        0.51054793,  0.71535824,  0.54662499,  0.1917625 ,  0.25117968,\n",
              "        0.25003327,  0.5295697 ,  0.44095597,  0.5055938 ,  0.31783877,\n",
              "        0.21908612,  0.32297294,  0.47015252,  0.41294169,  0.23843848,\n",
              "        0.79457849,  0.96277254,  0.18768826,  0.23747211,  0.34199471,\n",
              "       -0.00227311,  0.10296873,  0.06245828, -0.01262792,  0.40351964,\n",
              "        0.06695241, -0.03578375,  0.62487886,  0.44838296,  0.24806678,\n",
              "        0.23861852,  0.20588918,  0.16884653,  0.34534243,  0.71297186,\n",
              "        0.27744337,  0.81024751,  0.17494707,  0.81749446,  0.26080797,\n",
              "        0.81245385,  0.41511442,  0.54937277,  0.51054793,  0.44095597,\n",
              "        0.5055938 ,  0.31669236,  0.22605737,  0.83536982,  0.44723655,\n",
              "        0.27336913,  0.17380066,  0.4764331 ,  0.69465085,  0.77302482,\n",
              "        0.64948045,  0.7279194 ,  0.60268941,  0.37839733,  0.24375269,\n",
              "        0.68190966,  0.59012825,  0.23861852,  0.46094412,  0.52443553,\n",
              "        0.40980022,  0.72049241,  0.85824994,  0.47757951,  0.33057997,\n",
              "        0.68190966,  0.14354418,  0.59622879,  0.8416504 ,  0.61639698,\n",
              "        0.85710353,  0.2637358 ,  0.81139392,  0.87063106,  0.73305356,\n",
              "        0.86320407,  0.24063979,  0.47464665,  0.53291742,  0.74968895,\n",
              "        0.48029145,  0.23119153,  0.47914503,  0.61346412,  0.74340838,\n",
              "        0.60383582,  0.81988084,  0.3168724 ,  0.62877306,  0.54309219,\n",
              "        0.63230585,  0.79989269,  0.3974191 ,  0.32315298,  0.53406383,\n",
              "        0.95649197,  0.86141762,  0.40883384,  0.55583339,  0.91477011,\n",
              "        0.4086538 ,  0.31059182,  0.37568539,  0.90556171,  0.67580912,\n",
              "        0.95534555,  0.96162613,  0.55051918,  0.49976896,  0.25003327,\n",
              "        0.21280554,  0.58994821,  0.53273738,  0.46703962,  0.31173823,\n",
              "        0.51072796,  0.20317724,  0.85870569,  0.19804308,  0.37725091,\n",
              "        1.06237384,  0.31572598,  0.49702039,  0.86833824,  0.47235383,\n",
              "        0.78283741,  0.60782357,  0.99242181,  0.88107943,  0.50940151,\n",
              "        0.58270126,  0.79539856,  0.24577395,  0.25214101,  0.29000452,\n",
              "        0.88318718,  0.56954096,  0.49170619,  0.9221971 ,  0.14239777,\n",
              "        0.74772247,  0.88557356,  0.7371278 ,  0.58994821,  0.71182545,\n",
              "        0.20432366,  0.8580699 ,  0.7535473 ,  0.47757951,  0.76496205,\n",
              "        0.51187438,  0.70793125,  0.60072292,  0.16646015,  0.2417862 ,\n",
              "        0.42254141,  0.16770012,  0.81873443,  0.52539687,  0.52328912,\n",
              "        0.27098275,  0.52132264,  0.67067495,  0.96790671,  0.74790251,\n",
              "        0.67562908,  0.54547857,  0.50444739,  0.70147063,  0.28257753,\n",
              "        0.439716  ,  0.16141954,  0.25434736,  0.73516131,  0.63230585,\n",
              "        0.80713965,  0.35790358,  0.2545274 ,  0.69465085,  0.86027121,\n",
              "        0.62381893,  0.66952854,  0.33667547,  0.5569798 ,  0.49862255,\n",
              "        0.27116279,  0.27611692,  0.88671997,  0.87929298,  0.68323611,\n",
              "        0.1886496 ,  0.25338098,  0.6820897 ,  0.4733202 ,  0.90963594,\n",
              "        0.3682584 ,  0.89282051,  0.63523368,  0.36197782,  0.54758632,\n",
              "        0.88433359,  0.95516552,  0.68837028,  0.76046366,  1.0896039 ,\n",
              "        0.95631193,  0.6070035 ,  0.65050677,  1.24230898,  0.60718354,\n",
              "        0.52663684,  0.61107774,  1.15662811,  1.1427405 ,  1.22346724,\n",
              "        1.18917238,  0.80731969,  1.22956778,  1.0803955 ,  0.90848953,\n",
              "        1.21718667,  1.19545296,  0.74657606,  1.23488199,  1.09721093,\n",
              "        1.15254884,  0.9427844 ,  0.61231771,  1.13760634,  0.65165318,\n",
              "        0.57853347,  1.05723968,  1.02409122,  1.07190858,  0.99471464,\n",
              "        0.92158989,  0.81634805,  1.05705964,  1.22842137,  0.9850813 ,\n",
              "        1.1315058 ,  0.9811871 ,  0.98233352,  1.06352025,  0.52017622,\n",
              "        0.4860614 ,  1.14388692,  1.10862568,  0.84436233,  0.99356822,\n",
              "        0.83023566,  1.02294481,  1.05210551,  0.59109463,  0.89300055,\n",
              "        1.14292054,  0.45979771,  1.24744314,  0.94393081,  0.74144189,\n",
              "        1.0509591 ,  1.10349151,  1.06466667,  1.05838609,  1.13645993,\n",
              "        0.80085907,  0.49976896,  0.46094412,  0.56326038,  0.26594214,\n",
              "        0.19378377,  0.54034441,  0.10182232,  0.20024438,  0.68890948,\n",
              "        0.58816177,  0.2509946 ,  0.82280866,  0.74675609,  0.48835422,\n",
              "        0.51586213,  0.58898184,  0.68094328,  0.54643991,  0.52842329,\n",
              "        0.26479573,  0.71934599,  0.87195751,  0.31916522,  0.54955281,\n",
              "        0.31288464,  0.23614566,  0.50330097,  0.71650465,  0.52654328,\n",
              "        0.58898184,  0.77371549,  0.37393176,  0.67810195,  0.25232609,\n",
              "        0.32828714,  0.17609348,  0.61117129,  0.59508238,  0.77027625,\n",
              "        0.59242108,  0.79255722,  0.6101164 ,  0.32746707,  0.20547007,\n",
              "        0.12530966,  0.05086349,  0.26868992, -0.17257995, -0.08786042,\n",
              "        0.39627269,  0.04590937,  0.13159023, -0.02207618,  0.25851515,\n",
              "        0.439716  ,  0.52310404,  0.29386287,  0.41794645,  0.17911486,\n",
              "        0.72260519,  0.45865129,  0.52214271,  0.8622377 ,  0.5569798 ,\n",
              "        0.67562908,  0.96047972,  0.89079925,  0.61126281,  0.49931322,\n",
              "        0.53503021,  0.54873274,  0.19575025,  0.45865129,  0.7457012 ,\n",
              "        0.39856551,  0.50958155,  0.60896999,  0.51302079,  0.69350444,\n",
              "        0.52310404,  0.45466354,  0.88451867,  0.51930137,  0.74455479,\n",
              "        0.74226196,  0.2749705 ,  0.2395849 ,  0.77999607,  0.41680003,\n",
              "        0.51284075,  0.24260627,  0.01445584, -0.16914071, -0.03367096,\n",
              "       -0.0775056 ,  0.06873886, -0.01066647,  0.04247013, -0.04949132,\n",
              "        0.23004512, -0.0397715 ,  0.00171465,  0.24595399,  0.38981207,\n",
              "       -0.09830879,  0.05200991, -0.0371102 , -0.1106899 ,  0.13044382,\n",
              "        0.05732411,  0.16371236, -0.10670215, -0.02340767, -0.06736668,\n",
              "       -0.02322259,  0.30944541,  0.16027313,  0.17512711,  0.7963599 ,\n",
              "        0.7988378 ,  0.28885811,  0.86567693,  0.86851827,  0.53681161,\n",
              "        0.33800696,  0.50045963,  0.29115094,  0.80282556,  0.26479573,\n",
              "        0.32182652,  0.23348436,  0.27840974,  0.20006434,  0.82492145,\n",
              "        0.59852162,  0.7957249 ,  0.78609661,  0.94791856,  0.37622459,\n",
              "        0.46209053,  0.59526242,  0.53795803,  0.50674021,  0.48835422,\n",
              "        0.52558195,  0.47528669,  0.6906631 ,  0.18946967,  0.97019954,\n",
              "        0.42024859,  0.66536075,  0.71411827,  0.52425046,  0.81864087,\n",
              "        0.81360026,  0.4432488 ,  0.59242108,  0.54538502,  0.46209053,\n",
              "        0.87177747,  0.80200548,  0.8654969 ,  0.85939636,  0.79979914,\n",
              "        0.9513578 ,  0.52778325,  0.61126281,  0.72278523,  0.19061609,\n",
              "        0.18140769,  0.16999294,  0.67810195,  0.3254458 ,  0.38135876,\n",
              "        0.88025936,  0.78627665,  0.41740725,  0.65690744,  0.59870166,\n",
              "        0.15725175,  0.60498224,  0.83766265,  0.69694368,  1.0931367 ,\n",
              "        0.18979601, -0.10440933,  0.52778325,  0.01674867, -0.05480552,\n",
              "        0.05104353, -0.03349092,  0.14813914, -0.02950317,  1.09199028,\n",
              "        1.06668793,  1.14503333,  1.14406696,  0.75469372,  1.02565675,\n",
              "        0.44934934,  1.06677442,  0.61461053,  0.0434365 , -0.05365911,\n",
              "        0.92388271, -0.01694201,  1.1993113 ,  0.38250517,  0.33172638,\n",
              "        0.56326038,  0.23976494,  0.377371  ,  0.16999294,  0.3254458 ,\n",
              "        0.87823809,  0.27451554,  0.2962851 ,  0.44086242,  0.10411515,\n",
              "        0.40484609,  0.20253721,  0.46387194,  0.47244535,  0.24604551,\n",
              "        0.72906581,  0.91706294,  0.73534639,  0.60498224,  0.48143786,\n",
              "        0.57068737,  0.32526576,  0.41094663,  0.24921319,  0.53928448,\n",
              "        0.51389564,  0.19689667,  0.43582181,  0.17380066,  0.22720378,\n",
              "        0.4928526 ,  0.44934934,  0.21377191,  0.64151425,  0.49399902,\n",
              "        0.55069922,  0.68438252,  0.33896829,  0.73827421,  0.67182137,\n",
              "        0.70907766,  0.71022408,  0.26823497,  0.14469059,  0.57225289,\n",
              "        0.19918949,  0.42368783,  0.20818201,  0.44820293,  0.47872593,\n",
              "        0.5477714 ,  0.19396884,  0.34648884,  0.57339931,  0.43696822,\n",
              "        1.21833308,  1.04051073,  0.51930137,  1.13893279,  0.99604109,\n",
              "        1.08685612,  0.75198178,  1.13265221,  1.01781064,  1.09409803,\n",
              "        1.02680316,  0.54149082,  1.05935246,  1.00117525,  0.96445816,\n",
              "        0.8084661 ,  0.99586105,  1.06898076,  0.53521024,  1.04697134,\n",
              "        0.55184564,  0.47129893,  0.56711873,  1.07209366,  1.15777453,\n",
              "        1.06581308,  0.98976051,  0.76725487,  0.88965283,  1.10977209,\n",
              "        0.98347993,  1.15034753,  0.81474668,  0.59224104,  0.88548001,\n",
              "        0.51618847,  0.92334351,  0.90335537,  0.50091538,  0.52246905,\n",
              "        0.73942062,  0.96391896,  0.56440679,  0.16760656,  0.19290891,\n",
              "        0.28079612,  0.33782188,  0.82102726,  0.78911799,  0.18026127,\n",
              "        0.44609014,  0.21730392,  0.27107631,  0.52035626,  0.601543  ,\n",
              "        0.24984819,  0.53805158,  0.25948152,  0.79228566,  0.80599323,\n",
              "        0.56724813,  0.85595712,  0.27222272,  0.94163798,  0.46900611,\n",
              "        0.71916595,  0.40140685,  0.18539544,  0.68776306,  0.86205766,\n",
              "        0.31554595,  0.24888685,  0.77655683,  0.16416732,  0.25516743,\n",
              "        0.54433216,  0.52531039,  0.78265737,  0.75189026,  0.1665537 ,\n",
              "        0.59508238])"
            ]
          },
          "metadata": {},
          "execution_count": 94
        }
      ],
      "source": [
        "ypred"
      ]
    },
    {
      "cell_type": "code",
      "execution_count": 95,
      "metadata": {
        "colab": {
          "base_uri": "https://localhost:8080/",
          "height": 0
        },
        "id": "gz9CB--2YC38",
        "outputId": "46680deb-9069-4a6d-a522-af54e33b0314"
      },
      "outputs": [
        {
          "output_type": "execute_result",
          "data": {
            "text/plain": [
              "0.38571418869425755"
            ]
          },
          "metadata": {},
          "execution_count": 95
        }
      ],
      "source": [
        "from sklearn.metrics import r2_score\n",
        "r2_score(y,ypred)"
      ]
    },
    {
      "cell_type": "code",
      "execution_count": 96,
      "metadata": {
        "colab": {
          "base_uri": "https://localhost:8080/",
          "height": 0
        },
        "id": "HFnSMTAkdHQ2",
        "outputId": "16c295ab-c543-4eab-c75c-0c61b75fe33c"
      },
      "outputs": [
        {
          "output_type": "execute_result",
          "data": {
            "text/plain": [
              "-1.4362591145177093"
            ]
          },
          "metadata": {},
          "execution_count": 96
        }
      ],
      "source": [
        "model.intercept_"
      ]
    },
    {
      "cell_type": "code",
      "execution_count": 97,
      "metadata": {
        "colab": {
          "base_uri": "https://localhost:8080/",
          "height": 0
        },
        "id": "IOEExC5mdasd",
        "outputId": "dd613d52-94be-4f8d-efe5-47a52be3e339"
      },
      "outputs": [
        {
          "output_type": "execute_result",
          "data": {
            "text/plain": [
              "array([-0.00114641,  0.04685602,  0.00628058,  0.08568087,  0.27325586,\n",
              "       -0.01902177, -0.06349141])"
            ]
          },
          "metadata": {},
          "execution_count": 97
        }
      ],
      "source": [
        "model.coef_"
      ]
    },
    {
      "cell_type": "markdown",
      "source": [
        "##Logistic Regression\n",
        "**Logistic Regression** is a statistical method used for binary classification tasks, where the dependent variable (target) has only two possible outcomes (e.g., 0 or 1, True or False).\n",
        "\n",
        "It is used for predicting the categorical dependent variable using a given set of independent variable.\n",
        "\n",
        "\n"
      ],
      "metadata": {
        "id": "HqxS-aL0z9K9"
      }
    },
    {
      "cell_type": "markdown",
      "source": [
        "* **classification_report:** Generates a text report showing the main classification metrics (precision, recall, F1-score, and support) for each class in the classification problem.\n",
        "\n",
        "* **confusion_matrix**: Computes the confusion matrix, which is a table showing the number of true positive, false positive, true negative, and false negative predictions.\n",
        "\n",
        "* **accuracy_score**: Calculates the accuracy of the model's predictions, which is the proportion of correct predictions out of the total number of predictions."
      ],
      "metadata": {
        "id": "MBYIoTui1o-l"
      }
    },
    {
      "cell_type": "code",
      "execution_count": 98,
      "metadata": {
        "id": "kZ1NdAbTj4qL"
      },
      "outputs": [],
      "source": [
        "from sklearn.linear_model import LogisticRegression\n",
        "from sklearn.metrics import classification_report,confusion_matrix,accuracy_score"
      ]
    },
    {
      "cell_type": "code",
      "execution_count": 99,
      "metadata": {
        "id": "UyhKDSLtkC8C"
      },
      "outputs": [],
      "source": [
        "model=LogisticRegression()\n",
        "model.fit(x_train,y_train)\n",
        "ypred=model.predict(x_test)"
      ]
    },
    {
      "cell_type": "markdown",
      "source": [
        "*  **classification_report()**  generates a text report showing the main classification metrics (precision, recall, F1-score, and support) for each class in a classification problem.\n",
        "*  **confusion_matrix()**  prints the confusion matrix, which is a table showing the number of true positive, false positive, true negative, and false negative predictions made by a classification model when comparing the true labels with the predicted labels on the test dataset.\n",
        "* **model.score()**   returns the accuracy of the model on the training dataset.\n",
        "* **accuracy_score**   calculates the accuracy of a classification model's predictions by comparing the true labels with the predicted labels."
      ],
      "metadata": {
        "id": "DaMs1pkV2a3l"
      }
    },
    {
      "cell_type": "code",
      "execution_count": 100,
      "metadata": {
        "colab": {
          "base_uri": "https://localhost:8080/",
          "height": 0
        },
        "id": "j19h6U8lkoEW",
        "outputId": "1d034273-c745-416c-f96e-fd30c3485ebb"
      },
      "outputs": [
        {
          "output_type": "stream",
          "name": "stdout",
          "text": [
            "              precision    recall  f1-score   support\n",
            "\n",
            "           0       0.82      0.68      0.74       126\n",
            "           1       0.73      0.85      0.79       127\n",
            "\n",
            "    accuracy                           0.77       253\n",
            "   macro avg       0.77      0.77      0.77       253\n",
            "weighted avg       0.77      0.77      0.77       253\n",
            "\n"
          ]
        }
      ],
      "source": [
        "print(classification_report(y_test,ypred))"
      ]
    },
    {
      "cell_type": "code",
      "execution_count": 101,
      "metadata": {
        "colab": {
          "base_uri": "https://localhost:8080/",
          "height": 0
        },
        "id": "-0n0t3TRkwB1",
        "outputId": "97443798-2956-4157-9cec-efacfcdd73a5"
      },
      "outputs": [
        {
          "output_type": "stream",
          "name": "stdout",
          "text": [
            "[[ 86  40]\n",
            " [ 19 108]]\n"
          ]
        }
      ],
      "source": [
        "print(confusion_matrix(y_test,ypred))"
      ]
    },
    {
      "cell_type": "code",
      "execution_count": 102,
      "metadata": {
        "colab": {
          "base_uri": "https://localhost:8080/",
          "height": 0
        },
        "id": "jgQie6q4lDi1",
        "outputId": "9c3de7de-e0f5-447e-ccb6-fe102641aedf"
      },
      "outputs": [
        {
          "output_type": "execute_result",
          "data": {
            "text/plain": [
              "0.7261904761904762"
            ]
          },
          "metadata": {},
          "execution_count": 102
        }
      ],
      "source": [
        "model.score(x_train,y_train)"
      ]
    },
    {
      "cell_type": "code",
      "execution_count": 103,
      "metadata": {
        "colab": {
          "base_uri": "https://localhost:8080/",
          "height": 0
        },
        "id": "OMj6nzb5lMEN",
        "outputId": "0a97f080-fe75-4ade-d2a6-abd9890ffeb9"
      },
      "outputs": [
        {
          "output_type": "execute_result",
          "data": {
            "text/plain": [
              "0.766798418972332"
            ]
          },
          "metadata": {},
          "execution_count": 103
        }
      ],
      "source": [
        "model.score(x_test,y_test)"
      ]
    },
    {
      "cell_type": "code",
      "execution_count": 104,
      "metadata": {
        "colab": {
          "base_uri": "https://localhost:8080/",
          "height": 0
        },
        "id": "EvQwaciGm_X8",
        "outputId": "127537e6-9188-4d50-8eb9-445071724e17"
      },
      "outputs": [
        {
          "output_type": "stream",
          "name": "stdout",
          "text": [
            "0.766798418972332\n"
          ]
        }
      ],
      "source": [
        "print(accuracy_score(y_test, ypred))"
      ]
    },
    {
      "cell_type": "markdown",
      "source": [
        "##Prediction\n",
        "**model.predict()** method returns the predicted values for the given input data points. In a linear regression model, these predicted values will be continuous rather than binary.\n",
        "\n",
        "**threshold** in binary classification is a critical value that determines how the continuous predicted values from the model are converted into binary (0 or 1) class labels"
      ],
      "metadata": {
        "id": "0MP5QgJR4N-V"
      }
    },
    {
      "cell_type": "code",
      "execution_count": 116,
      "metadata": {
        "colab": {
          "base_uri": "https://localhost:8080/",
          "height": 0
        },
        "id": "uPtMvnlUlfyZ",
        "outputId": "661c9261-bbc2-49c0-8e73-3f3a44911441"
      },
      "outputs": [
        {
          "name": "stdout",
          "output_type": "stream",
          "text": [
            "enter Age: 21\n",
            "enter gender for female(0) and for male(1): 1\n",
            "enter Stream \n",
            " 0. Civil \n",
            " 1. Computer Science \n",
            " 2. Electrical \n",
            " 3. lectronics And Communication \n",
            " 4. Information Technologies \n",
            " 5. Mechanical \n",
            "1\n",
            "Done number of internships:2\n",
            "enter CGPA: 9\n",
            "enter Hostel alloted(1) or not(0): 1\n",
            "History of Backlog yes(1) or no(0): 0\n"
          ]
        }
      ],
      "source": [
        "Ag=int(input(\"enter Age: \"))\n",
        "g=int(input(\"enter gender for female(0) and for male(1): \"))\n",
        "St=int(input(\"enter Stream \\n 0. Civil \\n 1. Computer Science \\n 2. Electrical \\n 3. lectronics And Communication \\n 4. Information Technologies \\n 5. Mechanical \\n\"))\n",
        "Intern=int(input(\"Done number of internships:\"))\n",
        "cgpa=float(input(\"enter CGPA: \"))\n",
        "host=int(input(\"enter Hostel alloted(1) or not(0): \"))\n",
        "back=int(input(\"History of Backlog yes(1) or no(0): \"))\n",
        "\n",
        "unknown_x=[[Ag,g,St,Intern,cgpa,host,back]]"
      ]
    },
    {
      "cell_type": "code",
      "execution_count": 117,
      "metadata": {
        "id": "esg-7p1Zli2z"
      },
      "outputs": [],
      "source": [
        "prediction=model.predict(unknown_x)\n",
        "threshold = 0.5\n",
        "prediction_binary = (prediction>=threshold).astype(int)"
      ]
    },
    {
      "cell_type": "code",
      "execution_count": 118,
      "metadata": {
        "colab": {
          "base_uri": "https://localhost:8080/",
          "height": 0
        },
        "id": "htcqwzE5lnaO",
        "outputId": "5f84047d-93dc-490f-c682-43032a3d52a3"
      },
      "outputs": [
        {
          "output_type": "stream",
          "name": "stdout",
          "text": [
            "STUDENT IS PLACED\n"
          ]
        }
      ],
      "source": [
        "if(prediction_binary[0]==0):\n",
        "    print(\"STUDENT IS NOT PLACED\")\n",
        "else:\n",
        "    print(\"STUDENT IS PLACED\")"
      ]
    },
    {
      "cell_type": "markdown",
      "source": [
        "##Observation\n",
        "From this analysis of CollegePlace datasest we come to know that\n",
        "* The gender distribution of for male and female is 3:1 and the highest placements are from Information Technology and Computer Science Stream and lowest placements from Civil stream.\n",
        "* Most of the students lie in between the range of 6.5 to 8.5 CGPA.\n",
        "* The students of Computer Science and IT are equal in distribution.\n",
        "* The students having percentile more than 7.5 and having experience of at least one internship get more chance to get placed.\n",
        "* The students having percentile less than 6 and having backlogs with less than 3 internships having very low chance to get placed.\n",
        "* Placement Percentage: The students get placed percentage is 57.96% and 42.04% students didn't get placed.\n"
      ],
      "metadata": {
        "id": "N3Ib59u0hVFX"
      }
    }
  ],
  "metadata": {
    "colab": {
      "provenance": []
    },
    "kernelspec": {
      "display_name": "Python 3",
      "name": "python3"
    },
    "language_info": {
      "name": "python"
    }
  },
  "nbformat": 4,
  "nbformat_minor": 0
}